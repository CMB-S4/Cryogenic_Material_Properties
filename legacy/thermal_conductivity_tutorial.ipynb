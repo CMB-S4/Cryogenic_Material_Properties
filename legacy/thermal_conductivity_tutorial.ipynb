{
 "cells": [
  {
   "cell_type": "markdown",
   "metadata": {},
   "source": [
    "## Thermal Conductivity Fit Analysis\n",
    "### Developed by Henry Nachman\n",
    "#### Last Edited: 31 January 2024"
   ]
  },
  {
   "cell_type": "code",
   "execution_count": 1,
   "metadata": {},
   "outputs": [],
   "source": [
    "import numpy as np\n",
    "import matplotlib.pyplot as plt\n",
    "import pandas as pd\n",
    "import os, sys, string, csv, h5py, yaml\n",
    "from scipy.special import erf"
   ]
  },
  {
   "cell_type": "markdown",
   "metadata": {},
   "source": [
    "First, we need to find where all our RAW data is"
   ]
  },
  {
   "cell_type": "code",
   "execution_count": 2,
   "metadata": {},
   "outputs": [
    {
     "name": "stdout",
     "output_type": "stream",
     "text": [
      "{'SS304': 'c:\\\\Users\\\\henac\\\\OneDrive - The University of Texas at Austin\\\\01_RESEARCH\\\\05_CMBS4\\\\Cryogenic_Material_Properties\\\\thermal_conductivity\\\\lib\\\\SS304\\\\RAW', 'SS305': 'c:\\\\Users\\\\henac\\\\OneDrive - The University of Texas at Austin\\\\01_RESEARCH\\\\05_CMBS4\\\\Cryogenic_Material_Properties\\\\thermal_conductivity\\\\lib\\\\SS305\\\\RAW'}\n"
     ]
    }
   ],
   "source": [
    "path_to_lib = f\"{os.getcwd()}\\\\lib\"\n",
    "mat_directories = [folder for folder in os.listdir(path_to_lib) if not folder.endswith(\".md\")]\n",
    "\n",
    "path_to_RAW = dict()\n",
    "for mat in mat_directories:\n",
    "    raw_str = f\"{path_to_lib}\\\\{mat}\\\\RAW\"\n",
    "    path_to_RAW[mat] = raw_str\n",
    "\n",
    "print(path_to_RAW)"
   ]
  },
  {
   "cell_type": "markdown",
   "metadata": {},
   "source": [
    "Next, we need to extract each file."
   ]
  },
  {
   "cell_type": "code",
   "execution_count": 3,
   "metadata": {},
   "outputs": [],
   "source": [
    "def get_datafiles(raw_path):\n",
    "    \"\"\"\n",
    "    Arguments :\n",
    "    - raw_path - path to the folder containing the raw data csv files.\n",
    "    \n",
    "    Returns :\n",
    "    - raw_files - array of csv file names containing the raw measurement data.\n",
    "    \"\"\"\n",
    "    all_files = os.listdir(raw_path)\n",
    "    extension = \".csv\"\n",
    "    raw_files = [file for file in all_files if file.endswith(extension)]\n",
    "    print(f\"Found {len(raw_files)} measurements.\")\n",
    "    return raw_files"
   ]
  },
  {
   "cell_type": "markdown",
   "metadata": {},
   "source": [
    "Now, lets parse the data from the csv files"
   ]
  },
  {
   "cell_type": "code",
   "execution_count": 4,
   "metadata": {},
   "outputs": [],
   "source": [
    "def parse_raw(material_name, path_dict, plots=False):\n",
    "    \"\"\"\n",
    "    Arguments : \n",
    "    - material_name - a pointer for the material name, this much match the folder name.\n",
    "    - path_dict     - a dictionary object linking the material name to the path address of the raw files.\n",
    "\n",
    "    Returns : \n",
    "    - big_data  - Array of all measurements concatenated (no reference information).\n",
    "    - data_dict - A dictionary of data with references as the keys.\n",
    "    \"\"\"\n",
    "    raw_directory = path_dict[material_name]\n",
    "    all_files = os.listdir(raw_directory)\n",
    "    extension = \".csv\"\n",
    "    raw_files = [file for file in all_files if file.endswith(extension)]\n",
    "    \n",
    "    big_data = np.empty((0,3), float)\n",
    "    data_dict = dict()\n",
    "    with open(f\"{raw_directory}\\\\references.txt\", 'w') as file:\n",
    "        for f in raw_files:\n",
    "            f_path = raw_directory +\"\\\\\"+ f\n",
    "            file1 = np.loadtxt(f_path, dtype=str, delimiter=',')\n",
    "            file.write(str(file1[0]))\n",
    "            file.write(\"\\n \\n\")\n",
    "            ref_name = f[:-4]\n",
    "            raw_data = np.array(file1[2:,:], dtype=float)\n",
    "            big_data = np.append(big_data, raw_data, axis=0)\n",
    "            data_dict[ref_name] = raw_data\n",
    "            T, k, koT = raw_data.T\n",
    "            if plots:\n",
    "                plt.plot(T, k, '.', label=ref_name)\n",
    "    if plots:\n",
    "        plt.legend()\n",
    "        plt.xlabel(\"Temperature\")\n",
    "        plt.ylabel(\"k\")\n",
    "        plt.semilogx()\n",
    "        plt.semilogy()\n",
    "        plt.savefig(f\"{os.path.split(raw_directory)[0]}\\\\{material_name}_RAWDATA.pdf\", dpi=300, format=\"pdf\")\n",
    "        plt.show()\n",
    "        plt.clf()\n",
    "\n",
    "    return big_data, data_dict"
   ]
  },
  {
   "cell_type": "markdown",
   "metadata": {},
   "source": [
    "This function will fit the data to polynomials. The fit is done in two stages, a low end fit and a high end fit. The two fits are then connected using an Error Function centered at the discontinuity."
   ]
  },
  {
   "cell_type": "code",
   "execution_count": 5,
   "metadata": {},
   "outputs": [],
   "source": [
    "def fit_thermal_conductivity(big_data, save_path, erf_loc = 20, fit_orders = (3,3), fit_types=(\"k/T\", \"loglog\"), plots=False):\n",
    "    \"\"\"\n",
    "    Arguments :\n",
    "    - big_data   - Array of measurement data concatenated (should be of shape: [N, 3])\n",
    "    - save_path  - File path to publish output files and plots.\n",
    "    - erf_loc     - default=20    - Temperature at which to split the data for fitting (and to place the error function).\n",
    "    - fit_orders - default=(3,3) - Polynomial fit order (low, high).\n",
    "    - fit_types  - default=(\"k/T\", \"loglog\") - defines the type of fit for each regime (low, high).\n",
    "    - plots      - default=False - Boolean argument, if true, plots are made and saved to save_path.\n",
    "\n",
    "    Returns :\n",
    "    - arg_dict - Dictionary of fit arguments - includes low fit, high fit, and combined fit arguments.\n",
    "    \"\"\"\n",
    "    # divide the data array into three columns\n",
    "    T = big_data[:,0]\n",
    "    k = big_data[:,1]\n",
    "    koT = big_data[:,2]\n",
    "\n",
    "    # Find the low range\n",
    "    lowT = T[T<erf_loc]\n",
    "    lowT_k = k[T<erf_loc]\n",
    "    lowT_koT = koT[T<erf_loc]\n",
    "\n",
    "    # Find the high range\n",
    "    hiT = T[T>erf_loc]\n",
    "    hiT_k = k[T>erf_loc]\n",
    "    # Take a log10 of the high range\n",
    "    log_hi_T = np.log10(hiT)\n",
    "    log_hi_k = np.log10(hiT_k)\n",
    "    if (len(lowT) == 0) or (len(lowT) ==0):\n",
    "        print(\"ERROR  - data split results in 0-length array, please adjust split location\")\n",
    "        print(f\"NOTE   - min(T) = {min(T)}, max(T) = {max(T)} \")\n",
    "    # Fit the low data\n",
    "    if fit_types[0] == \"k/T\":\n",
    "        lofit_full = np.polyfit(lowT, lowT_koT, fit_orders[0], full=True)\n",
    "        low_fit, residuals_lo, rank_lo, sing_vals_lo, rcond_lo = lofit_full\n",
    "        low_fit_xs = np.linspace(np.min(lowT), np.max(lowT), 100)\n",
    "        low_poly1d = np.poly1d(low_fit)\n",
    "\n",
    "\n",
    "    # Fit the high data\n",
    "    if fit_types[1] == \"loglog\":\n",
    "        hifit_full = np.polyfit(log_hi_T, log_hi_k, fit_orders[1], full=True)\n",
    "        hi_fit, residuals_hi, rank_hi, sing_vals_hi, rcond_hi = hifit_full\n",
    "        hi_fit_xs = np.linspace(np.min(log_hi_T), np.max(log_hi_T), 100)\n",
    "        hi_poly1d = np.poly1d(hi_fit)\n",
    "        \n",
    "    # # Combine the fits\n",
    "    # xrange_total = np.linspace(min(lowT), max(hiT), 100)\n",
    "    # logk = loglog(xrange_total, low_poly1d, hi_poly1d, erf_place)\n",
    "    # #\n",
    "\n",
    "    if plots:\n",
    "        fig, axs = plt.subplots(2, figsize=(8, 6))\n",
    "        axs[0].plot(lowT, lowT_koT,'.')\n",
    "        axs[0].plot(low_fit_xs, np.polyval(low_fit, low_fit_xs))\n",
    "        axs[0].set_xlabel(\"T\")\n",
    "        axs[0].set_ylabel(\"k/T\")\n",
    "        axs[0].title.set_text(\"Low Temperature Fit\")\n",
    "        axs[1].loglog(10**hi_fit_xs, 10**np.polyval(hi_fit, hi_fit_xs))\n",
    "        axs[1].loglog(hiT, hiT_k, '.')\n",
    "        axs[1].grid(True, which=\"both\", ls=\"-\", color='0.65')\n",
    "        axs[1].set_ylabel(\"k\")\n",
    "        axs[1].set_xlabel(\"T\")\n",
    "        axs[1].title.set_text(\"High Temperature Fit\")\n",
    "        plt.subplots_adjust(wspace=0.4, hspace=0.4)\n",
    "        plt.savefig(f\"{save_path}\\\\fits_subplots.pdf\", dpi = 300, format=\"pdf\")\n",
    "        plt.show()\n",
    "        plt.clf()\n",
    "        \n",
    "    low_func = f\"{fit_orders[0]} order {fit_types[0]}\"\n",
    "    hi_func = f\"{fit_orders[1]} order {fit_types[1]}\"\n",
    "    \n",
    "    low_param = np.array(low_fit)\n",
    "    hi_param = np.array(hi_fit)\n",
    "    all_params = np.append(np.append(low_param, hi_param), erf_loc)\n",
    "\n",
    "    arg_dict = {\"low_function_type\"  : low_func,\n",
    "                \"low_fit_param\"      : low_param.tolist(),\n",
    "                \"low_fit_range\"      : np.array([min(low_fit_xs), max(low_fit_xs)]).tolist(),\n",
    "                \"hi_function_type\"   : hi_func,\n",
    "                \"hi_fit_param\"       : hi_param.tolist(),\n",
    "                \"hi_fit_range\"       : np.array([10**min(hi_fit_xs), 10**max(hi_fit_xs)]).tolist(),\n",
    "                \"combined_function_type\" : \"loglog\",\n",
    "                \"combined_fit_param\" : all_params.tolist(),\n",
    "                \"combined_fit_range\" : np.array([min(lowT), max(hiT)]).tolist()}\n",
    "    return arg_dict\n",
    "\n"
   ]
  },
  {
   "cell_type": "markdown",
   "metadata": {},
   "source": [
    "Log10 k = Log10 [aT+bT^2+cT^3+3E-9T^5]*0.5*[1-ERF(15(Log10T-1.48)]+[d+eLog10T+f(Log10T)^2+g(log10T)^3+hEXP^(Log10T)]*0.5*[1+ERF(15(Log10T-1.48)]"
   ]
  },
  {
   "cell_type": "markdown",
   "metadata": {},
   "source": [
    "These functions allow for saving of the data to different file types."
   ]
  },
  {
   "cell_type": "code",
   "execution_count": 6,
   "metadata": {},
   "outputs": [],
   "source": [
    "def make_fit_yaml(fit_args, save_path):\n",
    "    \"\"\"\n",
    "    Description : Takes fit arguments and exports a yaml text file with the included information.\n",
    "    \"\"\"\n",
    "    with open(f\"{save_path}\\\\{os.path.split(save_path)[1]}.yaml\", 'w') as file:\n",
    "        for key in fit_args.keys():\n",
    "            yaml.dump(key, file)\n",
    "            yaml.dump(np.array(fit_args[key]).tolist(), file)\n",
    "    return\n",
    "\n",
    "def generate_alphabet_array(n, case = \"l\"):\n",
    "    \"\"\"\n",
    "    Description : Generates a list of n letters from the alphabet (used for making the human readable txt files). \n",
    "    \"\"\"\n",
    "    if case == \"l\":\n",
    "        alphabet = list(string.ascii_lowercase)\n",
    "    else:\n",
    "        alphabet = list(string.ascii_uppercase)\n",
    "    return alphabet[:n]\n",
    "    \n",
    "def make_fit_dict(fit_args):\n",
    "    \"\"\"\n",
    "    Description : Makes a dictionary of strings with the appropriate formating and headings to be saved in other file formats.\n",
    "    \"\"\"\n",
    "    \n",
    "    max_fit_param = 0\n",
    "    num_fit_param_hi = len(fit_args[\"hi_fit_param\"])\n",
    "    num_fit_param_lo = len(fit_args[\"low_fit_param\"])\n",
    "    num_fit_param_combined = len(fit_args[\"combined_fit_param\"])\n",
    "\n",
    "    n = num_fit_param_combined\n",
    "    result_lo = generate_alphabet_array(num_fit_param_lo, \"l\")\n",
    "    result_hi = generate_alphabet_array(num_fit_param_hi, \"h\")\n",
    "    result = np.append(result_lo, result_hi)\n",
    "    result = np.append(result, \"erf param\")\n",
    "    result = list(result)\n",
    "    \n",
    "    output_array = []\n",
    "    keys = [\"Fit Type\", \"Low Temp\", \"High Temp\"] + result\n",
    "\n",
    "    for i in [\"low\", \"hi\", \"combined\"]:\n",
    "        dict_vals = []\n",
    "        dict_vals = np.append(dict_vals, np.array(fit_args[f\"{i}_function_type\"], dtype=str).flatten())\n",
    "        dict_vals = np.append(dict_vals, np.char.mod('%0.' + str(3) + 'f', np.array(fit_args[f\"{i}_fit_range\"], dtype=float)).flatten())\n",
    "        param_str_arr  = np.char.mod('%0.' + str(5) + 'e', np.array(fit_args[f\"{i}_fit_param\"], dtype=float)).flatten()\n",
    "        while len(param_str_arr) < len(result):\n",
    "            param_str_arr = np.append(param_str_arr, \"0\")\n",
    "        dict_vals = np.append(dict_vals, param_str_arr)\n",
    "    \n",
    "        mat_dict = dict(zip(keys, dict_vals))\n",
    "        output_array.append(mat_dict)\n",
    "    return output_array\n",
    "\n",
    "def make_fit_lh5(fit_args, save_path):\n",
    "    \"\"\"\n",
    "    Description : Takes fit arguments and exports a lh5 file with the included information.\n",
    "    \"\"\"\n",
    "    comp_file = f\"{save_path}\\\\{os.path.split(save_path)[1]}.lh5\"\n",
    "    with h5py.File(comp_file, \"w\") as f:\n",
    "        for key in fit_args:\n",
    "            f.create_dataset(f\"{key}\", data=fit_args[key])\n",
    "    return comp_file"
   ]
  },
  {
   "cell_type": "markdown",
   "metadata": {},
   "source": [
    "This function makes a nice plot with the data and the fits."
   ]
  },
  {
   "cell_type": "code",
   "execution_count": 7,
   "metadata": {},
   "outputs": [],
   "source": [
    "\n",
    "def loglog_func(T, low_param, hi_param, erf_param):\n",
    "    \"\"\"\n",
    "    Description : Takes a temperature (or temp array) and fit arguments returns the estimated k value.\n",
    "\n",
    "    Arguments : \n",
    "    - T - temperature at which to estimate the thermal conductivity.\n",
    "    \"\"\"\n",
    "    low_fit = T*np.polyval(low_param, T)\n",
    "    erf_low = 0.5*(1-erf(15*(np.log10((T)/erf_param))))\n",
    "    hi_fit = 10**np.polyval(hi_param, np.log10(T))\n",
    "    erf_hi = 0.5*(1+erf(15*(np.log10(T/erf_param))))\n",
    "    k = low_fit*erf_low+hi_fit*erf_hi\n",
    "\n",
    "    return k"
   ]
  },
  {
   "cell_type": "code",
   "execution_count": 8,
   "metadata": {},
   "outputs": [],
   "source": [
    "def tk_plot(material_name: str, path_dict, data_dict, fit_args, fit_range=[100e-3,25e2], points=True, fits=\"combined\", fill=False, show=True):\n",
    "    \"\"\"\n",
    "    Description : Produces a beautiful plot of the raw data with the fit.\n",
    "\n",
    "    Arguments :\n",
    "    - material_name - material name\n",
    "    - path_dict     - dictionary type of paths to data\n",
    "    - data_dict     - dictionary of raw data with reference information as keys\n",
    "    - fit_args      - combined fit arguments\n",
    "    - fit_range     - default=[100e-3,25e2] -\n",
    "    - points        - default=True          - Boolean argument, if true, data points are added to the plot.\n",
    "    - fits          - options: 'combined', 'split', other - defines which fits to plot.\n",
    "    - fill          - default=False         - Boolean argument, if true, 15% confidence interval is shaded around plot.\n",
    "    - show          - default=True          - Boolean argument, if true, plot is shown in notebook.\n",
    "\n",
    "    Returns : \n",
    "    - null\n",
    "    \"\"\"\n",
    "    raw_directory = path_dict[material_name]\n",
    "    markers = ['o', 's', 'd', 'P','3', '*']\n",
    "    i = 0\n",
    "    if points:\n",
    "        for ref_name in data_dict.keys():\n",
    "            T, k, koT = data_dict[ref_name].T\n",
    "            plt.plot(T, k, marker=markers[i], ms=7, mfc='none', ls='none',label=ref_name)\n",
    "            i+=1\n",
    "            if i == len(markers):\n",
    "                i = 0\n",
    "    # low_xs = np.linspace(fit_args[\"low_fit_range\"][0]/5,fit_args[\"low_fit_range\"][1],100)\n",
    "    low_xs = np.linspace(fit_range[0],fit_args[\"low_fit_range\"][1],100)\n",
    "    low_fit_val = low_xs*np.polyval(fit_args[\"low_fit_param\"], low_xs)\n",
    "    # hi_xs = np.linspace(fit_args[\"hi_fit_range\"][0],fit_args[\"hi_fit_range\"][1]*5,100)\n",
    "    hi_xs = np.linspace(fit_args[\"hi_fit_range\"][0],fit_range[1],100)\n",
    "    hi_fit_val = 10**np.polyval(fit_args[\"hi_fit_param\"], np.log10(hi_xs))\n",
    "    if fill:\n",
    "        plt.fill_between(low_xs, 1.15*low_fit_val, 0.85*low_fit_val, color=\"b\", alpha = 0.3, label=\"15% confidence\")\n",
    "        plt.fill_between(hi_xs, 1.15*hi_fit_val, 0.85*hi_fit_val, color=\"b\", alpha = 0.3)\n",
    "    if fits==\"split\":\n",
    "        plt.plot(low_xs, low_fit_val, c='b')\n",
    "        plt.plot(hi_xs, hi_fit_val, c='b')\n",
    "    if fits==\"combined\":\n",
    "        xs = np.logspace(-1,4,100)\n",
    "        plt.plot(xs, loglog_func(xs, fit_args[\"low_fit_param\"], fit_args[\"hi_fit_param\"], fit_args[\"combined_fit_param\"][-1]), label='combined fit')\n",
    "    plt.legend()\n",
    "    plt.xlabel(\"Temperature (K)\")\n",
    "    plt.ylabel(\"k\")\n",
    "    plt.title(f\"{material_name}\")\n",
    "    plt.semilogx()\n",
    "    plt.semilogy()\n",
    "    plt.savefig(f\"{os.path.split(raw_directory)[0]}\\\\{material_name}_fullPlot.pdf\", dpi=300, format=\"pdf\")\n",
    "    if show:\n",
    "        plt.show()\n",
    "        plt.clf()\n",
    "    return"
   ]
  },
  {
   "cell_type": "markdown",
   "metadata": {},
   "source": [
    "This is code necessary to save fit data to human-readable files and CSVs."
   ]
  },
  {
   "cell_type": "code",
   "execution_count": 9,
   "metadata": {},
   "outputs": [],
   "source": [
    "def create_data_table(data, output_file):\n",
    "    \"\"\"\n",
    "    Description : Formats a dictionary in string style for saving to text file formats and saves to txt file.\n",
    "    \"\"\"\n",
    "    # Extract column names from the first dictionary\n",
    "    columns = list(data[0].keys())\n",
    "\n",
    "    # Find the maximum width for each column\n",
    "    column_widths = {column: max(len(str(row[column])) for row in data) for column in columns}\n",
    "    for key in column_widths.keys():\n",
    "        if len(key)>column_widths[key]:\n",
    "            column_widths[key] = len(key)\n",
    "    # Open the output file in write mode\n",
    "    with open(output_file, 'w') as file:\n",
    "        # Write the header row\n",
    "        file.write('| ' + ' | '.join(column.ljust(column_widths[column]) for column in columns) + ' |\\n')\n",
    "        # Write the separator row\n",
    "        file.write('| ' + '---'.join(['-' * column_widths[column] for column in columns]) + ' |\\n')\n",
    "\n",
    "        # Write each data row\n",
    "        for row in data:\n",
    "            file.write('| ' + ' | '.join(str(row[column]).ljust(column_widths[column]) for column in columns) + ' |\\n')\n",
    "    return\n",
    "\n",
    "def create_tc_csv(data, output_file):\n",
    "    \"\"\"\n",
    "    Description : Formats a dictionary and saves to csv file.\n",
    "    \"\"\"\n",
    "    # Extract column names from the first dictionary\n",
    "    columns = list(data[0].keys())\n",
    "\n",
    "    # Open the output file in write mode with newline='' to ensure consistent line endings\n",
    "    with open(output_file, 'w', newline='') as csvfile:\n",
    "        # Create a CSV writer object\n",
    "        csv_writer = csv.writer(csvfile)\n",
    "\n",
    "        # Write the header row\n",
    "        csv_writer.writerow(columns)\n",
    "\n",
    "        # Write each data row\n",
    "        for row in data:\n",
    "            csv_writer.writerow([str(row[column]) for column in columns])\n",
    "    return\n"
   ]
  },
  {
   "cell_type": "markdown",
   "metadata": {},
   "source": [
    "Lets run the above functions for every material currently in the library. \n",
    "\n",
    "By removing the loop and specifying mat, the code can be run for a single material"
   ]
  },
  {
   "cell_type": "code",
   "execution_count": 10,
   "metadata": {},
   "outputs": [
    {
     "name": "stdout",
     "output_type": "stream",
     "text": [
      "Low-Hi split centered at : 115.95368421052633 ~~ with residual value of: 25.99\n"
     ]
    },
    {
     "data": {
      "image/png": "[encoded data removed]",
      "text/plain": [
       "<Figure size 432x288 with 1 Axes>"
      ]
     },
     "metadata": {
      "needs_background": "light"
     },
     "output_type": "display_data"
    },
    {
     "name": "stdout",
     "output_type": "stream",
     "text": [
      "Low-Hi split centered at : 73.93052631578948 ~~ with residual value of: 15.87\n"
     ]
    },
    {
     "data": {
      "image/png": "[encoded data removed]",
      "text/plain": [
       "<Figure size 432x288 with 1 Axes>"
      ]
     },
     "metadata": {
      "needs_background": "light"
     },
     "output_type": "display_data"
    },
    {
     "data": {
      "text/plain": [
       "<Figure size 432x288 with 0 Axes>"
      ]
     },
     "metadata": {},
     "output_type": "display_data"
    }
   ],
   "source": [
    "for mat in path_to_RAW.keys():\n",
    "    erf_locList = np.linspace(0.39, 200, 20)\n",
    "    resVal = np.array([])\n",
    "    for erf_loc in erf_locList:\n",
    "        ## First, let's collect the raw data from their csv files\n",
    "        big_data, data_dict = parse_raw(mat, path_to_RAW, plots=False)\n",
    "        ## Now, let's fit that data by way of the fit function described above.\n",
    "        fit_args = fit_thermal_conductivity(big_data, \n",
    "                                            os.path.split(path_to_RAW[mat])[0], \n",
    "                                            erf_loc=erf_loc, fit_orders=(3, 3), plots=False)\n",
    "        ## With the fit complete, let's output a formatted dictionary with the fit parameters\n",
    "        output_array = make_fit_dict(fit_args)\n",
    "        ## We want to figure out the best location for the split in data, so we will compute the residual of the combined fit\n",
    "        Tdata = np.concatenate([(data_dict[ref_name].T[0]) for ref_name in data_dict])\n",
    "        kdata = np.concatenate([(data_dict[ref_name].T[1]) for ref_name in data_dict])\n",
    "        low_param, hi_param, erf_param = fit_args[\"low_fit_param\"], fit_args[\"hi_fit_param\"], fit_args[\"combined_fit_param\"][-1]\n",
    "        kpred = loglog_func(Tdata, low_param, hi_param, erf_param)\n",
    "        # and append it to the array resVal\n",
    "        resVal = np.append(resVal, sum(abs(kpred-kdata)))\n",
    "\n",
    "    # Now that we have found the residuals of the fits for many different split locations, let's choose the best one.    \n",
    "    erf_locdict = dict(zip(erf_locList, resVal))\n",
    "    bestRes = min(erf_locdict.values())\n",
    "    besterf_loc = [key for key in erf_locdict if erf_locdict[key] == bestRes]\n",
    "    print(f\"Low-Hi split centered at : {besterf_loc[0]} ~~ with residual value of: {bestRes:.2f}\")\n",
    "    \n",
    "    # We will repeat the above fit with this new 'optimized' split location\n",
    "    fit_args = fit_thermal_conductivity(big_data, os.path.split(path_to_RAW[mat])[0], erf_loc=besterf_loc, fit_orders=(3, 3), plots=False)\n",
    "    output_array = make_fit_dict(fit_args)\n",
    "\n",
    "    # Finally, we will output the fit parameters as a csv, and lh5 file - and plot the data.\n",
    "    create_data_table(output_array, f\"{os.path.split(path_to_RAW[mat])[0]}\\\\{os.path.split(os.path.split(path_to_RAW[mat])[0])[1]}.txt\")\n",
    "    create_tc_csv(output_array, f\"{os.path.split(path_to_RAW[mat])[0]}\\\\{os.path.split(os.path.split(path_to_RAW[mat])[0])[1]}.csv\")\n",
    "    make_fit_lh5(fit_args, os.path.split(path_to_RAW[mat])[0])\n",
    "    # PLOTTING CODE\n",
    "    tk_plot(mat,path_to_RAW, data_dict, fit_args, fit_range = [100e-3, 25e2], points=True, fits=\"combined\", show=True)"
   ]
  },
  {
   "cell_type": "markdown",
   "metadata": {},
   "source": [
    "Finally, lets output a single human readable (and CSV) file of the fits for each material currently in the library."
   ]
  },
  {
   "cell_type": "code",
   "execution_count": 11,
   "metadata": {},
   "outputs": [],
   "source": [
    "def compile_csv(path_to_RAW):\n",
    "    \"\"\"\n",
    "    Description : Compiles the fit data of every material and outputs to a single array.\n",
    "    \"\"\"\n",
    "    output_array = []\n",
    "    for mat in path_to_RAW.keys():\n",
    "        file = os.path.split(path_to_RAW[mat])[0]\n",
    "        max_fit_param = 0\n",
    "        material_file = np.loadtxt(f\"{file}\\\\{mat}.csv\", dtype=str, delimiter=',')\n",
    "        headers = material_file[0]\n",
    "        headers = np.append([\"Material Name\"], headers)\n",
    "        comb_fit = material_file[-1]\n",
    "        comb_fit = np.append([f\"{mat}\"], comb_fit)\n",
    "        mat_dict = dict(zip(headers, comb_fit))\n",
    "        output_array.append(mat_dict)\n",
    "\n",
    "    return output_array"
   ]
  },
  {
   "cell_type": "code",
   "execution_count": 12,
   "metadata": {},
   "outputs": [],
   "source": [
    "# Call the function to create the data table and write to the file\n",
    "# output_array = make_output_dict(path_to_RAW)\n",
    "output_array = compile_csv(path_to_RAW)\n",
    "create_data_table(output_array, \"..\\\\thermal_conductivity_compilation.txt\")\n",
    "create_tc_csv(output_array, \"..\\\\thermal_conductivity_compilation.csv\")"
   ]
  },
  {
   "cell_type": "code",
   "execution_count": 13,
   "metadata": {},
   "outputs": [
    {
     "data": {
      "image/png": "[encoded data removed]",
      "text/plain": [
       "<Figure size 432x288 with 1 Axes>"
      ]
     },
     "metadata": {
      "needs_background": "light"
     },
     "output_type": "display_data"
    }
   ],
   "source": [
    "import numpy as np\n",
    "TCdata = np.loadtxt(\"..\\\\thermal_conductivity_compilation.csv\", dtype=str, delimiter=',')\n",
    "headers = TCdata[0]\n",
    "mat_row = TCdata[1]\n",
    "# mat_dict = dict(zip(headers, mat_row))\n",
    "num_hi = sum(1 for c in headers[4:] if c.isupper())\n",
    "num_low = sum(1 for c in headers[4:-1] if c.islower())\n",
    "fit_params = mat_row[4:]\n",
    "low_param, hi_param, erf_param = np.array(fit_params[:num_low], dtype=float), np.array(fit_params[num_low:-1], dtype=float), float(fit_params[-1])\n",
    "\n",
    "xs = np.logspace(-1,4,100)\n",
    "tk_plot(mat,path_to_RAW, data_dict, fit_args, fit_range = [100e-3, 25e2], points=True, fits=False, show=False)\n",
    "plt.plot(xs, loglog_func(xs, low_param, hi_param, erf_param), label='combined fit')\n",
    "plt.semilogx()\n",
    "plt.semilogy()\n",
    "plt.legend()\n",
    "plt.show()"
   ]
  },
  {
   "cell_type": "code",
   "execution_count": null,
   "metadata": {},
   "outputs": [],
   "source": []
  }
 ],
 "metadata": {
  "kernelspec": {
   "display_name": "ENAPenv",
   "language": "python",
   "name": "python3"
  },
  "language_info": {
   "codemirror_mode": {
    "name": "ipython",
    "version": 3
   },
   "file_extension": ".py",
   "mimetype": "text/x-python",
   "name": "python",
   "nbconvert_exporter": "python",
   "pygments_lexer": "ipython3",
   "version": "3.10.4"
  }
 },
 "nbformat": 4,
 "nbformat_minor": 2
}

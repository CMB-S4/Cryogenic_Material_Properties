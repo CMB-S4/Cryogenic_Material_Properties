{
 "cells": [
  {
   "cell_type": "code",
   "execution_count": 181,
   "id": "41f07227",
   "metadata": {},
   "outputs": [],
   "source": [
    "import requests\n",
    "from bs4 import BeautifulSoup\n",
    "import numpy as np"
   ]
  },
  {
   "cell_type": "code",
   "execution_count": 258,
   "id": "8235f015",
   "metadata": {},
   "outputs": [],
   "source": [
    "# url\n",
    "url = 'https://trc.nist.gov/cryogenics/materials/304Stainless/304Stainless_rev.htm'\n",
    "#send an http get request to the url\n",
    "response = requests.get(url)"
   ]
  },
  {
   "cell_type": "code",
   "execution_count": 259,
   "id": "5d16d9ce",
   "metadata": {},
   "outputs": [
    {
     "data": {
      "text/plain": [
       "200"
      ]
     },
     "execution_count": 259,
     "metadata": {},
     "output_type": "execute_result"
    }
   ],
   "source": [
    "#checking what the status code is\n",
    "response.status_code"
   ]
  },
  {
   "cell_type": "code",
   "execution_count": 260,
   "id": "230d58e5",
   "metadata": {},
   "outputs": [],
   "source": [
    "#check if the request was successful using status code 200\n",
    "#if response.status_code == 200:\n",
    "    #parsing the html content using BeautifulSoup\n",
    "soup = BeautifulSoup(response.content,'html.parser')\n",
    "results = soup.find(id = 'content') "
   ]
  },
  {
   "cell_type": "code",
   "execution_count": 261,
   "id": "d65e2f09",
   "metadata": {},
   "outputs": [
    {
     "name": "stdout",
     "output_type": "stream",
     "text": [
      "['UNITS', 'a ', 'b', 'c', 'd', 'e', 'f', 'g', 'h', 'i', 'data range', 'equation range', 'curve fit % error relative to data', '\\xa0', '.Units', 'a', 'b', 'c', 'd', 'e', 'Tlow (K)', 'f>', 'data range (K)', 'equation range (K)', 'curve fit % error relative to data']\n",
      "['W/(m-K)', '-1.4087', '1.3982', '0.2543', '-0.6260', '0.2334', '0.4256', '-0.4658', '0.1650', '-0.0199', '4-300', '1-300', '2', \"Young's Modulus \", 'units: GPa ', '2.098145E2', '1.217019E-1', '-1.146999E-2', '3.605430E-4', '-3.017900E-6', '.', '.', '5-65', '5-57', '1']\n",
      "['J/(kg-K)', '22.0061', '-127.5528', '303.647', '-381.0098', '274.0328', '-112.9212', '24.7593', '-2.239153', '0', '4-300', '4-300', '5', \"Young's Modulus \", 'units: GPa ', '2.100593E2', '1.534883E-1', '-1.617390E-3', '5.117060E-6', '-6.154600E-9', '.', '.', '48-293', '57-293', '1']\n"
     ]
    }
   ],
   "source": [
    "tds = []\n",
    "b = []\n",
    "c = []\n",
    "d = []\n",
    "divs = soup.findAll('table', {'class':'properties'})\n",
    "for div in divs:\n",
    "    rows = div.findAll('tr')\n",
    "    for row in rows:\n",
    "        tds.append(row.text)\n",
    "    \n",
    "for i in range(1,len(tds)):\n",
    "    a = str.split(tds[i], sep='\\n')\n",
    "    b.append(a[1])\n",
    "    c.append(a[2])\n",
    "    d.append(a[3])\n",
    "\n",
    "print(b)\n",
    "print(c)\n",
    "print(d)"
   ]
  },
  {
   "cell_type": "code",
   "execution_count": null,
   "id": "bc7b3c5d",
   "metadata": {},
   "outputs": [],
   "source": []
  }
 ],
 "metadata": {
  "kernelspec": {
   "display_name": "Python 3 (ipykernel)",
   "language": "python",
   "name": "python3"
  },
  "language_info": {
   "codemirror_mode": {
    "name": "ipython",
    "version": 3
   },
   "file_extension": ".py",
   "mimetype": "text/x-python",
   "name": "python",
   "nbconvert_exporter": "python",
   "pygments_lexer": "ipython3",
   "version": "3.9.13"
  }
 },
 "nbformat": 4,
 "nbformat_minor": 5
}

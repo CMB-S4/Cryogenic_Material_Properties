{
 "cells": [
  {
   "cell_type": "code",
   "execution_count": 285,
   "id": "41f07227",
   "metadata": {},
   "outputs": [],
   "source": [
    "import requests\n",
    "from bs4 import BeautifulSoup\n",
    "import numpy as np"
   ]
  },
  {
   "cell_type": "code",
   "execution_count": 423,
   "id": "8235f015",
   "metadata": {},
   "outputs": [],
   "source": [
    "# url\n",
    "url = 'https://trc.nist.gov/cryogenics/materials/Balsa/Balsa_rev.htm'\n",
    "#send an http get request to the url\n",
    "response = requests.get(url)"
   ]
  },
  {
   "cell_type": "code",
   "execution_count": 424,
   "id": "5d16d9ce",
   "metadata": {},
   "outputs": [
    {
     "data": {
      "text/plain": [
       "200"
      ]
     },
     "execution_count": 424,
     "metadata": {},
     "output_type": "execute_result"
    }
   ],
   "source": [
    "#checking what the status code is\n",
    "response.status_code"
   ]
  },
  {
   "cell_type": "code",
   "execution_count": 425,
   "id": "230d58e5",
   "metadata": {},
   "outputs": [],
   "source": [
    "#check if the request was successful using status code 200\n",
    "#if response.status_code == 200:\n",
    "    #parsing the html content using BeautifulSoup\n",
    "soup = BeautifulSoup(response.content,'html.parser')\n",
    "results = soup.find(id = 'content') "
   ]
  },
  {
   "cell_type": "code",
   "execution_count": 429,
   "id": "0385f8d4",
   "metadata": {},
   "outputs": [
    {
     "name": "stdout",
     "output_type": "stream",
     "text": [
      "['\\n\\xa0\\nThermal Conductivity\\n(density = 6 lb/ft3)\\nThermal Conductivity\\n(density = 11 lb/ft3)\\n', '\\nUNITS\\nW/(m-K)\\nW/(m-K)\\n', '\\na \\n4172.447\\n4815.4\\n', '\\nb\\n-11309.97\\n-12969.63\\n', '\\nc\\n12745.09\\n14520.76\\n', '\\nd\\n-7647.584\\n-8654.164\\n', '\\ne\\n2577.309\\n2895.712\\n', '\\nf\\n-462.538\\n-515.7272\\n', '\\ng\\n34.5351\\n38.19218\\n', '\\nh\\n0\\n0\\n', '\\ni\\n0\\n0\\n', '\\ndata range\\n88-300\\n88-300\\n', '\\nequation range\\n70-300\\n75-300\\n', '\\ncurve fit % error relative to data\\n1.5\\n3\\n']\n",
      "\n",
      "13\n",
      "\n",
      "['UNITS', 'a ', 'b', 'c', 'd', 'e', 'f', 'g', 'h', 'i', 'data range', 'equation range', 'curve fit % error relative to data']\n",
      "\n",
      "['W/(m-K)', '4172.447', '-11309.97', '12745.09', '-7647.584', '2577.309', '-462.538', '34.5351', '0', '0', '88-300', '70-300', '1.5']\n",
      "\n",
      "['W/(m-K)', '4815.4', '-12969.63', '14520.76', '-8654.164', '2895.712', '-515.7272', '38.19218', '0', '0', '88-300', '75-300', '3']\n",
      "\n",
      "Curve fit equation of the form:\n",
      "log10 y = a+b(log10T) + c(log10T) 2 + d(log10T) 3 + e(log10T) 4 + f(log10T) 5 + g(log10T) 6 + h(log10T) 7 + i(log10T) 8\n",
      "\n",
      "\n",
      "\n",
      "Solves as:\n",
      "y = 10\n"
     ]
    }
   ],
   "source": [
    "tds = []\n",
    "b = []\n",
    "c = []\n",
    "d = []\n",
    "y = []\n",
    "x = []\n",
    "divs = soup.findAll('table', {'class':'properties'})\n",
    "for div in divs:\n",
    "    rows = div.findAll('tr')\n",
    "    for row in rows:\n",
    "        tds.append(row.text)\n",
    "\n",
    "print(tds)\n",
    "print()\n",
    "\n",
    "for i in tds:\n",
    "    w = i.find('curve fit % error relative to data')\n",
    "    if w!=-1:\n",
    "        r = tds.index(i)\n",
    "        x.append(r)\n",
    "    else:\n",
    "        pass\n",
    "\n",
    "j = x[0]\n",
    "print(j)\n",
    "print()\n",
    "\n",
    "for i in range(1,j+1):\n",
    "    a = str.split(tds[i], sep='\\n')\n",
    "    b.append(a[1])\n",
    "    c.append(a[2])\n",
    "    d.append(a[3])\n",
    "\n",
    "print(b)\n",
    "print()\n",
    "\n",
    "print(c)\n",
    "print()\n",
    "\n",
    "print(d)\n",
    "print()\n",
    "\n",
    "#the equation in the website\n",
    "formula = divs = soup.findAll('table', {'class':'equation'})\n",
    "for form in formula:\n",
    "    rs = form.findAll('span', class_='style5')\n",
    "    for r in rs:\n",
    "        y.append(r.text)\n",
    "print(y[0])\n"
   ]
  },
  {
   "cell_type": "code",
   "execution_count": 427,
   "id": "8eaa963b",
   "metadata": {
    "scrolled": true
   },
   "outputs": [
    {
     "name": "stdout",
     "output_type": "stream",
     "text": [
      "{'UNITS': 'W/(m-K)', 'a ': '4172.447', 'b': '-11309.97', 'c': '12745.09', 'd': '-7647.584', 'e': '2577.309', 'f': '-462.538', 'g': '34.5351', 'h': '0', 'i': '0', 'data range': '88-300', 'equation range': '70-300', 'curve fit % error relative to data': '1.5'}\n"
     ]
    }
   ],
   "source": [
    "# making a dictionary with units as key and thermal conductivity as values\n",
    "tuples = [(key, value) for i, (key, value) in enumerate(zip(b, c))]\n",
    "res = dict(tuples)\n",
    "print(res)"
   ]
  },
  {
   "cell_type": "code",
   "execution_count": 433,
   "id": "f13ceab0",
   "metadata": {},
   "outputs": [],
   "source": [
    "websites = ['https://trc.nist.gov/cryogenics/materials/1100%20Aluminum/1100%20Aluminum_rev.htm',\n",
    "            'https://trc.nist.gov/cryogenics/materials/3003F%20Aluminum/3003FAluminum_rev.htm', \n",
    "            'https://trc.nist.gov/cryogenics/materials/5083%20Aluminum/5083Aluminum_rev.htm',\n",
    "            'https://trc.nist.gov/cryogenics/materials/6061%20Aluminum/6061_T6Aluminum_rev.htm',\n",
    "            'https://trc.nist.gov/cryogenics/materials/6063_T5%20Alulminum/6063-T5Aluminum_rev.htm',\n",
    "            'https://trc.nist.gov/cryogenics/materials/Balsa/Balsa_rev.htm',\n",
    "            'https://trc.nist.gov/cryogenics/materials/Beechwood_Phenolic/beechwood_rev.htm',\n",
    "            'https://trc.nist.gov/cryogenics/materials/Beryllium%20Copper/BerylliumCopper_rev.htm', \n",
    "            'https://trc.nist.gov/cryogenics/materials/Brass/Brass_rev.htm',\n",
    "            'https://trc.nist.gov/cryogenics/materials/OFHC%20Copper/OFHC_Copper_rev1.htm', \n",
    "            'https://trc.nist.gov/cryogenics/materials/G-10%20CR%20Fiberglass%20Epoxy/G10CRFiberglassEpoxy_rev.htm',\n",
    "            'https://trc.nist.gov/cryogenics/materials/Glass%20Fabric%20-%20Polyester/GlassFabric_Polyester_rev.htm',\n",
    "            'https://trc.nist.gov/cryogenics/materials/Iconel%20718/Inconel718_rev.htm',\n",
    "            'https://trc.nist.gov/cryogenics/materials/Invar(Fe-36Ni)/Invar_rev.htm',\n",
    "            'https://trc.nist.gov/cryogenics/materials/Kevlar49/kevlarfiber.htm',\n",
    "            'https://trc.nist.gov/cryogenics/materials/Kevlar49/kevlarcomposite.htm',\n",
    "            'https://trc.nist.gov/cryogenics/materials/Lead/Lead_rev.htm',\n",
    "            'https://trc.nist.gov/cryogenics/materials/Molybdenum/Molybdenum_rev.htm',\n",
    "            'https://trc.nist.gov/cryogenics/materials/NickelSteel/NickelSteel_Fe2.25Ni)_rev.htm',\n",
    "            'https://trc.nist.gov/cryogenics/materials/NickelSteel/NickelSteel_Fe3.25Ni)_rev.htm',\n",
    "            'https://trc.nist.gov/cryogenics/materials/NickelSteel/NickelSteel_Fe5.0Ni)_rev.htm',\n",
    "            'https://trc.nist.gov/cryogenics/materials/NickelSteel/NickelSteel_Fe9.0Ni)_rev.htm',\n",
    "            'https://trc.nist.gov/cryogenics/materials/Platinum/Platinum_rev.htm', \n",
    "            'https://trc.nist.gov/cryogenics/materials/Polyamide%20(Nylon)/PolyamideNylon_rev.htm',\n",
    "            'https://trc.nist.gov/cryogenics/materials/PET/PET_rev.htm',\n",
    "            'https://trc.nist.gov/cryogenics/materials/Polyimide%20Kapton/PolyimideKapton_rev.htm',\n",
    "            'https://trc.nist.gov/cryogenics/materials/Polystyrene/polystyrenerev.html',\n",
    "            'https://trc.nist.gov/cryogenics/materials/Polyurethane/polyurethanerev.html',\n",
    "            'https://trc.nist.gov/cryogenics/materials/PVC/PVCrev.htm', \n",
    "            'https://trc.nist.gov/cryogenics/materials/304Stainless/304Stainless_rev.htm',\n",
    "            'https://trc.nist.gov/cryogenics/materials/304LStainless/304LStainless_rev.htm',\n",
    "            'https://trc.nist.gov/cryogenics/materials/310%20Stainless/310Stainless_rev.htm',\n",
    "            'https://trc.nist.gov/cryogenics/materials/316Stainless/316Stainless_rev.htm',\n",
    "            'https://trc.nist.gov/cryogenics/materials/Teflon/Teflon_rev.htm',\n",
    "            'https://trc.nist.gov/cryogenics/materials/Ti6Al4V/Ti6Al4V_rev.htm',\n",
    "            'https://trc.nist.gov/cryogenics/materials/Titanium/Titanium.htm']"
   ]
  },
  {
   "cell_type": "code",
   "execution_count": 434,
   "id": "6dabac83",
   "metadata": {},
   "outputs": [
    {
     "name": "stdout",
     "output_type": "stream",
     "text": [
      "https://trc.nist.gov/cryogenics/materials/1100%20Aluminum/1100%20Aluminum_rev.htm\n",
      "https://trc.nist.gov/cryogenics/materials/3003F%20Aluminum/3003FAluminum_rev.htm\n",
      "https://trc.nist.gov/cryogenics/materials/5083%20Aluminum/5083Aluminum_rev.htm\n",
      "https://trc.nist.gov/cryogenics/materials/6061%20Aluminum/6061_T6Aluminum_rev.htm\n",
      "https://trc.nist.gov/cryogenics/materials/6063_T5%20Alulminum/6063-T5Aluminum_rev.htm\n",
      "https://trc.nist.gov/cryogenics/materials/Balsa/Balsa_rev.htm\n",
      "https://trc.nist.gov/cryogenics/materials/Beechwood_Phenolic/beechwood_rev.htm\n",
      "https://trc.nist.gov/cryogenics/materials/Beryllium%20Copper/BerylliumCopper_rev.htm\n",
      "https://trc.nist.gov/cryogenics/materials/Brass/Brass_rev.htm\n",
      "https://trc.nist.gov/cryogenics/materials/OFHC%20Copper/OFHC_Copper_rev1.htm\n",
      "https://trc.nist.gov/cryogenics/materials/G-10%20CR%20Fiberglass%20Epoxy/G10CRFiberglassEpoxy_rev.htm\n",
      "https://trc.nist.gov/cryogenics/materials/Glass%20Fabric%20-%20Polyester/GlassFabric_Polyester_rev.htm\n",
      "https://trc.nist.gov/cryogenics/materials/Iconel%20718/Inconel718_rev.htm\n",
      "https://trc.nist.gov/cryogenics/materials/Invar(Fe-36Ni)/Invar_rev.htm\n",
      "https://trc.nist.gov/cryogenics/materials/Kevlar49/kevlarfiber.htm\n",
      "https://trc.nist.gov/cryogenics/materials/Kevlar49/kevlarcomposite.htm\n",
      "https://trc.nist.gov/cryogenics/materials/Lead/Lead_rev.htm\n",
      "https://trc.nist.gov/cryogenics/materials/Molybdenum/Molybdenum_rev.htm\n",
      "https://trc.nist.gov/cryogenics/materials/NickelSteel/NickelSteel_Fe2.25Ni)_rev.htm\n",
      "https://trc.nist.gov/cryogenics/materials/NickelSteel/NickelSteel_Fe3.25Ni)_rev.htm\n",
      "https://trc.nist.gov/cryogenics/materials/NickelSteel/NickelSteel_Fe5.0Ni)_rev.htm\n",
      "https://trc.nist.gov/cryogenics/materials/NickelSteel/NickelSteel_Fe9.0Ni)_rev.htm\n",
      "https://trc.nist.gov/cryogenics/materials/Platinum/Platinum_rev.htm\n",
      "https://trc.nist.gov/cryogenics/materials/Polyamide%20(Nylon)/PolyamideNylon_rev.htm\n",
      "https://trc.nist.gov/cryogenics/materials/PET/PET_rev.htm\n",
      "https://trc.nist.gov/cryogenics/materials/Polyimide%20Kapton/PolyimideKapton_rev.htm\n",
      "https://trc.nist.gov/cryogenics/materials/Polystyrene/polystyrenerev.html\n",
      "https://trc.nist.gov/cryogenics/materials/Polyurethane/polyurethanerev.html\n",
      "https://trc.nist.gov/cryogenics/materials/PVC/PVCrev.htm\n",
      "https://trc.nist.gov/cryogenics/materials/304Stainless/304Stainless_rev.htm\n",
      "https://trc.nist.gov/cryogenics/materials/304LStainless/304LStainless_rev.htm\n",
      "https://trc.nist.gov/cryogenics/materials/310%20Stainless/310Stainless_rev.htm\n",
      "https://trc.nist.gov/cryogenics/materials/316Stainless/316Stainless_rev.htm\n",
      "https://trc.nist.gov/cryogenics/materials/Teflon/Teflon_rev.htm\n",
      "https://trc.nist.gov/cryogenics/materials/Ti6Al4V/Ti6Al4V_rev.htm\n",
      "https://trc.nist.gov/cryogenics/materials/Titanium/Titanium.htm\n"
     ]
    }
   ],
   "source": [
    "for i in websites:\n",
    "    print(i)"
   ]
  },
  {
   "cell_type": "code",
   "execution_count": null,
   "id": "f99197b4",
   "metadata": {},
   "outputs": [],
   "source": []
  }
 ],
 "metadata": {
  "kernelspec": {
   "display_name": "Python 3 (ipykernel)",
   "language": "python",
   "name": "python3"
  },
  "language_info": {
   "codemirror_mode": {
    "name": "ipython",
    "version": 3
   },
   "file_extension": ".py",
   "mimetype": "text/x-python",
   "name": "python",
   "nbconvert_exporter": "python",
   "pygments_lexer": "ipython3",
   "version": "3.9.13"
  }
 },
 "nbformat": 4,
 "nbformat_minor": 5
}

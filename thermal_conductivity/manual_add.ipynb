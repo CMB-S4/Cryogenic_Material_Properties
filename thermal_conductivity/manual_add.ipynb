{
 "cells": [
  {
   "cell_type": "markdown",
   "metadata": {},
   "source": [
    "## Thermal Conductivity Fit - Manual Add\n",
    "Developed by Henry Nachman\n",
    "\n",
    "Last Edited: 14 March 2024"
   ]
  },
  {
   "cell_type": "code",
   "execution_count": 2,
   "metadata": {},
   "outputs": [],
   "source": [
    "import numpy as np\n",
    "import csv, os\n",
    "\n",
    "from tc_utils import *"
   ]
  },
  {
   "cell_type": "code",
   "execution_count": 5,
   "metadata": {},
   "outputs": [
    {
     "name": "stdout",
     "output_type": "stream",
     "text": [
      "<class 'numpy.ndarray'>\n",
      "[{'Fit Type': 'NIST', 'Low Temp': '0.034', 'High Temp': '1000.000', 'a': '9.30000e+00', 'b': '2.70000e+00'}]\n"
     ]
    }
   ],
   "source": [
    "material_name = \"SS304\"\n",
    "\n",
    "low_fit = np.array([9.3, 2.7])\n",
    "low_fit_xs = np.array([0.034, 1000])\n",
    "\n",
    "fit_types = [\"NIST\"]\n",
    "print(type(low_fit))\n",
    "fit_args = dict_monofit(low_fit, low_fit_xs,  fit_types)\n",
    "output_array = format_monofit(fit_args)\n",
    "print(output_array)\n",
    "if fit_types == [\"NIST\"]:\n",
    "    output_folder = f\"lib\\{material_name}\\{fit_types[0]}\"\n",
    "    if not os.path.exists(output_folder):\n",
    "        os.mkdir(output_folder)\n",
    "    create_tc_csv(output_array, f\"{output_folder}\\{material_name}.csv\")\n",
    "else:\n",
    "    output_folder = f\"lib\\{material_name}\\OTHERFITS\"\n",
    "    if not os.path.exists(output_folder):\n",
    "        os.mkdir(output_folder)\n",
    "    create_tc_csv(output_array, f\"{output_folder}\\{material_name}.csv\")"
   ]
  }
 ],
 "metadata": {
  "kernelspec": {
   "display_name": "ENAPenv",
   "language": "python",
   "name": "python3"
  },
  "language_info": {
   "codemirror_mode": {
    "name": "ipython",
    "version": 3
   },
   "file_extension": ".py",
   "mimetype": "text/x-python",
   "name": "python",
   "nbconvert_exporter": "python",
   "pygments_lexer": "ipython3",
   "version": "3.10.4"
  }
 },
 "nbformat": 4,
 "nbformat_minor": 2
}

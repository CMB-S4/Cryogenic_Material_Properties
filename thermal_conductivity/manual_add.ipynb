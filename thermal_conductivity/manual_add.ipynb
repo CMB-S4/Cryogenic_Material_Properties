{
 "cells": [
  {
   "cell_type": "code",
   "execution_count": 8,
   "metadata": {},
   "outputs": [],
   "source": [
    "import numpy as np\n",
    "import csv"
   ]
  },
  {
   "cell_type": "code",
   "execution_count": 37,
   "metadata": {},
   "outputs": [
    {
     "name": "stdout",
     "output_type": "stream",
     "text": [
      "<class 'numpy.ndarray'>\n",
      "[{'Fit Type': '3 order fake1', 'Low Temp': '0.001', 'High Temp': '3.400', 'a': '1.00000e+00', 'b': '3.00000e+00', 'c': '-4.00000e+00', 'A': '0.00000e+00', 'B': '0.00000e+00', 'C': '0.00000e+00', 'erf param': '0.00000e+00'}, {'Fit Type': '3 order fake1', 'Low Temp': '3.162', 'High Temp': '1584.893', 'a': '3.00000e+00', 'b': '-5.00000e+00', 'c': '1.30000e+01', 'A': '0.00000e+00', 'B': '0.00000e+00', 'C': '0.00000e+00', 'erf param': '0.00000e+00'}, {'Fit Type': 'loglog', 'Low Temp': '0.001', 'High Temp': '1584.893', 'a': '1.00000e+00', 'b': '3.00000e+00', 'c': '-4.00000e+00', 'A': '3.00000e+00', 'B': '-5.00000e+00', 'C': '1.30000e+01', 'erf param': '3.20000e+01'}]\n"
     ]
    }
   ],
   "source": [
    "\n",
    "from tc_utils import *\n",
    "\n",
    "low_fit = np.array([1, 3,-4])\n",
    "high_fit = np.array([3, -5, 13])\n",
    "low_fit_xs = np.array([0.001, 3.4])\n",
    "hi_fit_xs = np.array([0.5, 3.2])\n",
    "\n",
    "fit_orders = np.array([3, 3])\n",
    "fit_types = [\"fake1\", \"fake1\"]\n",
    "erf_loc = 32\n",
    "print(type(low_fit))\n",
    "fit_args = make_arg_dict(low_fit, low_fit_xs, high_fit, hi_fit_xs, fit_orders, fit_types, erf_loc)\n",
    "output_array = make_fit_dict(fit_args)\n",
    "print(output_array)\n",
    "create_tc_csv(output_array, \"lib\\TEST1\\TEST1.csv\")"
   ]
  },
  {
   "cell_type": "code",
   "execution_count": 38,
   "metadata": {},
   "outputs": [
    {
     "name": "stdout",
     "output_type": "stream",
     "text": [
      "{'Aluminum': 'c:\\\\Users\\\\henac\\\\OneDrive - The University of Texas at Austin\\\\01_RESEARCH\\\\05_CMBS4\\\\Cryogenic_Material_Properties\\\\thermal_conductivity\\\\lib\\\\Aluminum\\\\RAW', 'CFRP': 'c:\\\\Users\\\\henac\\\\OneDrive - The University of Texas at Austin\\\\01_RESEARCH\\\\05_CMBS4\\\\Cryogenic_Material_Properties\\\\thermal_conductivity\\\\lib\\\\CFRP\\\\RAW', 'Clearwater': 'c:\\\\Users\\\\henac\\\\OneDrive - The University of Texas at Austin\\\\01_RESEARCH\\\\05_CMBS4\\\\Cryogenic_Material_Properties\\\\thermal_conductivity\\\\lib\\\\Clearwater\\\\RAW', 'DPP': 'c:\\\\Users\\\\henac\\\\OneDrive - The University of Texas at Austin\\\\01_RESEARCH\\\\05_CMBS4\\\\Cryogenic_Material_Properties\\\\thermal_conductivity\\\\lib\\\\DPP\\\\RAW', 'Fiberglass': 'c:\\\\Users\\\\henac\\\\OneDrive - The University of Texas at Austin\\\\01_RESEARCH\\\\05_CMBS4\\\\Cryogenic_Material_Properties\\\\thermal_conductivity\\\\lib\\\\Fiberglass\\\\RAW', 'Graphlite': 'c:\\\\Users\\\\henac\\\\OneDrive - The University of Texas at Austin\\\\01_RESEARCH\\\\05_CMBS4\\\\Cryogenic_Material_Properties\\\\thermal_conductivity\\\\lib\\\\Graphlite\\\\RAW', 'Ketron': 'c:\\\\Users\\\\henac\\\\OneDrive - The University of Texas at Austin\\\\01_RESEARCH\\\\05_CMBS4\\\\Cryogenic_Material_Properties\\\\thermal_conductivity\\\\lib\\\\Ketron\\\\RAW', 'Macor': 'c:\\\\Users\\\\henac\\\\OneDrive - The University of Texas at Austin\\\\01_RESEARCH\\\\05_CMBS4\\\\Cryogenic_Material_Properties\\\\thermal_conductivity\\\\lib\\\\Macor\\\\RAW', 'POCO Graphite': 'c:\\\\Users\\\\henac\\\\OneDrive - The University of Texas at Austin\\\\01_RESEARCH\\\\05_CMBS4\\\\Cryogenic_Material_Properties\\\\thermal_conductivity\\\\lib\\\\POCO Graphite\\\\RAW', 'SS304': 'c:\\\\Users\\\\henac\\\\OneDrive - The University of Texas at Austin\\\\01_RESEARCH\\\\05_CMBS4\\\\Cryogenic_Material_Properties\\\\thermal_conductivity\\\\lib\\\\SS304\\\\RAW', 'TEST1': 'c:\\\\Users\\\\henac\\\\OneDrive - The University of Texas at Austin\\\\01_RESEARCH\\\\05_CMBS4\\\\Cryogenic_Material_Properties\\\\thermal_conductivity\\\\lib\\\\TEST1\\\\RAW', 'Torlon': 'c:\\\\Users\\\\henac\\\\OneDrive - The University of Texas at Austin\\\\01_RESEARCH\\\\05_CMBS4\\\\Cryogenic_Material_Properties\\\\thermal_conductivity\\\\lib\\\\Torlon\\\\RAW', 'VESPEL': 'c:\\\\Users\\\\henac\\\\OneDrive - The University of Texas at Austin\\\\01_RESEARCH\\\\05_CMBS4\\\\Cryogenic_Material_Properties\\\\thermal_conductivity\\\\lib\\\\VESPEL\\\\RAW'}\n"
     ]
    }
   ],
   "source": [
    "\n",
    "path_to_lib = f\"{os.getcwd()}\\\\lib\"\n",
    "mat_directories = [folder for folder in os.listdir(path_to_lib) if not folder.endswith(\".md\")]\n",
    "\n",
    "path_to_RAW = dict()\n",
    "for mat in mat_directories:\n",
    "    raw_str = f\"{path_to_lib}\\\\{mat}\\\\RAW\"\n",
    "    path_to_RAW[mat] = raw_str\n",
    "\n",
    "\n",
    "print(path_to_RAW)\n",
    "\n",
    "output_array = compile_csv(path_to_RAW)\n",
    "create_data_table(output_array, \"..\\\\thermal_conductivity_compilation.txt\")\n",
    "create_tc_csv(output_array, \"..\\\\thermal_conductivity_compilation.csv\")"
   ]
  },
  {
   "cell_type": "code",
   "execution_count": null,
   "metadata": {},
   "outputs": [],
   "source": []
  }
 ],
 "metadata": {
  "kernelspec": {
   "display_name": "ENAPenv",
   "language": "python",
   "name": "python3"
  },
  "language_info": {
   "codemirror_mode": {
    "name": "ipython",
    "version": 3
   },
   "file_extension": ".py",
   "mimetype": "text/x-python",
   "name": "python",
   "nbconvert_exporter": "python",
   "pygments_lexer": "ipython3",
   "version": "3.9.16"
  }
 },
 "nbformat": 4,
 "nbformat_minor": 2
}

{
 "cells": [
  {
   "cell_type": "code",
   "execution_count": 1,
   "metadata": {},
   "outputs": [],
   "source": [
    "import numpy as np\n",
    "import csv"
   ]
  },
  {
   "cell_type": "code",
   "execution_count": 4,
   "metadata": {},
   "outputs": [
    {
     "name": "stdout",
     "output_type": "stream",
     "text": [
      "<class 'numpy.ndarray'>\n",
      "[{'Fit Type': 'powerlaw', 'Low Temp': '0.034', 'High Temp': '1000.000', 'a': '9.30000e+00', 'b': '2.70000e+00'}]\n"
     ]
    }
   ],
   "source": [
    "\n",
    "from tc_utils import *\n",
    "\n",
    "material_name = \"Wood\"\n",
    "\n",
    "low_fit = np.array([9.3, 2.7])\n",
    "low_fit_xs = np.array([0.034, 1000])\n",
    "\n",
    "fit_types = [\"powerlaw\"]\n",
    "print(type(low_fit))\n",
    "fit_args = dict_monofit(low_fit, low_fit_xs,  fit_types)\n",
    "output_array = format_monofit(fit_args)\n",
    "print(output_array)\n",
    "create_tc_csv(output_array, f\"lib\\{material_name}\\{material_name}.csv\")"
   ]
  },
  {
   "cell_type": "code",
   "execution_count": 5,
   "metadata": {},
   "outputs": [
    {
     "name": "stdout",
     "output_type": "stream",
     "text": [
      "{'Aluminum': 'c:\\\\Users\\\\henac\\\\OneDrive - The University of Texas at Austin\\\\01_RESEARCH\\\\05_CMBS4\\\\Cryogenic_Material_Properties\\\\thermal_conductivity\\\\lib\\\\Aluminum\\\\RAW', 'CFRP': 'c:\\\\Users\\\\henac\\\\OneDrive - The University of Texas at Austin\\\\01_RESEARCH\\\\05_CMBS4\\\\Cryogenic_Material_Properties\\\\thermal_conductivity\\\\lib\\\\CFRP\\\\RAW', 'Clearwater': 'c:\\\\Users\\\\henac\\\\OneDrive - The University of Texas at Austin\\\\01_RESEARCH\\\\05_CMBS4\\\\Cryogenic_Material_Properties\\\\thermal_conductivity\\\\lib\\\\Clearwater\\\\RAW', 'DPP': 'c:\\\\Users\\\\henac\\\\OneDrive - The University of Texas at Austin\\\\01_RESEARCH\\\\05_CMBS4\\\\Cryogenic_Material_Properties\\\\thermal_conductivity\\\\lib\\\\DPP\\\\RAW', 'Fiberglass': 'c:\\\\Users\\\\henac\\\\OneDrive - The University of Texas at Austin\\\\01_RESEARCH\\\\05_CMBS4\\\\Cryogenic_Material_Properties\\\\thermal_conductivity\\\\lib\\\\Fiberglass\\\\RAW', 'Graphlite': 'c:\\\\Users\\\\henac\\\\OneDrive - The University of Texas at Austin\\\\01_RESEARCH\\\\05_CMBS4\\\\Cryogenic_Material_Properties\\\\thermal_conductivity\\\\lib\\\\Graphlite\\\\RAW', 'Ketron': 'c:\\\\Users\\\\henac\\\\OneDrive - The University of Texas at Austin\\\\01_RESEARCH\\\\05_CMBS4\\\\Cryogenic_Material_Properties\\\\thermal_conductivity\\\\lib\\\\Ketron\\\\RAW', 'Macor': 'c:\\\\Users\\\\henac\\\\OneDrive - The University of Texas at Austin\\\\01_RESEARCH\\\\05_CMBS4\\\\Cryogenic_Material_Properties\\\\thermal_conductivity\\\\lib\\\\Macor\\\\RAW', 'POCO Graphite': 'c:\\\\Users\\\\henac\\\\OneDrive - The University of Texas at Austin\\\\01_RESEARCH\\\\05_CMBS4\\\\Cryogenic_Material_Properties\\\\thermal_conductivity\\\\lib\\\\POCO Graphite\\\\RAW', 'SS304': 'c:\\\\Users\\\\henac\\\\OneDrive - The University of Texas at Austin\\\\01_RESEARCH\\\\05_CMBS4\\\\Cryogenic_Material_Properties\\\\thermal_conductivity\\\\lib\\\\SS304\\\\RAW', 'TEST1': 'c:\\\\Users\\\\henac\\\\OneDrive - The University of Texas at Austin\\\\01_RESEARCH\\\\05_CMBS4\\\\Cryogenic_Material_Properties\\\\thermal_conductivity\\\\lib\\\\TEST1\\\\RAW', 'Torlon': 'c:\\\\Users\\\\henac\\\\OneDrive - The University of Texas at Austin\\\\01_RESEARCH\\\\05_CMBS4\\\\Cryogenic_Material_Properties\\\\thermal_conductivity\\\\lib\\\\Torlon\\\\RAW', 'VESPEL': 'c:\\\\Users\\\\henac\\\\OneDrive - The University of Texas at Austin\\\\01_RESEARCH\\\\05_CMBS4\\\\Cryogenic_Material_Properties\\\\thermal_conductivity\\\\lib\\\\VESPEL\\\\RAW', 'Wood': 'c:\\\\Users\\\\henac\\\\OneDrive - The University of Texas at Austin\\\\01_RESEARCH\\\\05_CMBS4\\\\Cryogenic_Material_Properties\\\\thermal_conductivity\\\\lib\\\\Wood\\\\RAW'}\n"
     ]
    }
   ],
   "source": [
    "\n",
    "path_to_lib = f\"{os.getcwd()}\\\\lib\"\n",
    "mat_directories = [folder for folder in os.listdir(path_to_lib) if not folder.endswith(\".md\")]\n",
    "\n",
    "path_to_RAW = dict()\n",
    "for mat in mat_directories:\n",
    "    raw_str = f\"{path_to_lib}\\\\{mat}\\\\RAW\"\n",
    "    path_to_RAW[mat] = raw_str\n",
    "\n",
    "\n",
    "print(path_to_RAW)\n",
    "\n",
    "output_array = compile_csv(path_to_RAW)\n",
    "create_data_table(output_array, \"..\\\\thermal_conductivity_compilation.txt\")\n",
    "create_tc_csv(output_array, \"..\\\\thermal_conductivity_compilation.csv\")"
   ]
  },
  {
   "cell_type": "code",
   "execution_count": null,
   "metadata": {},
   "outputs": [],
   "source": []
  }
 ],
 "metadata": {
  "kernelspec": {
   "display_name": "ENAPenv",
   "language": "python",
   "name": "python3"
  },
  "language_info": {
   "codemirror_mode": {
    "name": "ipython",
    "version": 3
   },
   "file_extension": ".py",
   "mimetype": "text/x-python",
   "name": "python",
   "nbconvert_exporter": "python",
   "pygments_lexer": "ipython3",
   "version": "3.9.16"
  }
 },
 "nbformat": 4,
 "nbformat_minor": 2
}

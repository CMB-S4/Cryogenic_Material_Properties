{
 "cells": [
  {
   "cell_type": "markdown",
   "metadata": {},
   "source": [
    "## Thermal Conductivity Fit - Manual Add\n",
    "Developed by Henry Nachman\n",
    "\n",
    "Last Edited: 14 March 2024"
   ]
  },
  {
   "cell_type": "code",
   "execution_count": 20,
   "metadata": {},
   "outputs": [],
   "source": [
    "import numpy as np\n",
    "import csv, os\n",
    "\n",
    "from tc_utils import *"
   ]
  },
  {
   "cell_type": "code",
   "execution_count": 21,
   "metadata": {},
   "outputs": [],
   "source": [
    "def manual_add_monofit(*args):\n",
    "    fit_args = dict_monofit(low_fit, low_fit_xs,  fit_types)\n",
    "    output_array = format_monofit(fit_args)\n",
    "    print(output_array)\n",
    "    if \"NIST\"in fit_types[0]:\n",
    "        output_folder = f\"lib\\{material_name}\\\\NIST\"\n",
    "        if not os.path.exists(output_folder):\n",
    "            os.mkdir(output_folder)\n",
    "        create_tc_csv(output_array, f\"{output_folder}\\{material_name}.csv\")\n",
    "    else:\n",
    "        material_folder = f\"lib\\{material_name}\"\n",
    "        if not os.path.exists(material_folder):\n",
    "            os.mkdir(material_folder)\n",
    "        output_folder = f\"lib\\{material_name}\\OTHERFITS\"\n",
    "        if not os.path.exists(output_folder):\n",
    "            os.mkdir(output_folder)\n",
    "        create_tc_csv(output_array, f\"{output_folder}\\{material_name}.csv\")\n",
    "    with open(f\"{output_folder}\\\\reference.txt\", 'w') as file:\n",
    "            file.write(f\"{reference}\")\n",
    "\n",
    "def manual_add_combofit(*args):\n",
    "    fit_args = dict_combofit(low_fit, low_fit_xs, hi_fit, hi_fit_xs, (3,3), fit_types, erf_loc)\n",
    "\n",
    "    fit_args[\"low_perc_err\"]      =  perc_diff_low\n",
    "    fit_args[\"hi_perc_err\"]       =  perc_diff_hi\n",
    "    fit_args[\"combined_perc_err\"] =  perc_diff_combo\n",
    "\n",
    "    output_array = format_combofit(fit_args)\n",
    "    print(output_array)\n",
    "    if \"NIST\"in fit_types[0]:\n",
    "        output_folder = f\"lib\\{material_name}\\\\NIST\"\n",
    "        if not os.path.exists(output_folder):\n",
    "            os.mkdir(output_folder)\n",
    "        create_tc_csv(output_array, f\"{output_folder}\\{material_name}.csv\")\n",
    "    else:\n",
    "        material_folder = f\"lib\\{material_name}\"\n",
    "        if not os.path.exists(material_folder):\n",
    "            os.mkdir(material_folder)\n",
    "        output_folder = f\"lib\\{material_name}\\OTHERFITS\"\n",
    "        if not os.path.exists(output_folder):\n",
    "            os.mkdir(output_folder)\n",
    "        create_tc_csv(output_array, f\"{output_folder}\\{material_name}.csv\")\n",
    "    with open(f\"{output_folder}\\\\reference.txt\", 'w') as file:\n",
    "            file.write(f\"{reference}\")"
   ]
  },
  {
   "cell_type": "code",
   "execution_count": 22,
   "metadata": {},
   "outputs": [
    {
     "name": "stdout",
     "output_type": "stream",
     "text": [
      "[{'Fit Type': '3 order RRadebaugh 2', 'Low Temp': '0.300', 'High Temp': '30.000', 'Perc Err': '7.000', 'a': '7.11786e-02', 'b': '3.45290e-03', 'c': '-6.00000e-05', 'A': '0.00000e+00', 'B': '0.00000e+00', 'C': '0.00000e+00', 'D': '0.00000e+00', 'E': '0.00000e+00', 'erf param': '0.00000e+00'}, {'Fit Type': '3 order RRadebaugh 2', 'Low Temp': '28.000', 'High Temp': '1707.000', 'Perc Err': '2.000', 'a': '-4.97617e+00', 'b': '8.31635e+00', 'c': '-3.59726e+00', 'A': '7.16110e-01', 'B': '-2.75070e-01', 'C': '0.00000e+00', 'D': '0.00000e+00', 'E': '0.00000e+00', 'erf param': '0.00000e+00'}, {'Fit Type': 'loglog', 'Low Temp': '0.300', 'High Temp': '1707.000', 'Perc Err': '0.000', 'a': '7.11786e-02', 'b': '3.45290e-03', 'c': '-6.00000e-05', 'A': '-4.97617e+00', 'B': '8.31635e+00', 'C': '-3.59726e+00', 'D': '7.16110e-01', 'E': '-2.75070e-01', 'erf param': '3.20000e+01'}]\n"
     ]
    }
   ],
   "source": [
    "material_name = \"Stainless_Steel_304\"\n",
    "\n",
    "low_fit    = np.array([7.11786e-02,3.45290e-03,-6.00000e-05])\n",
    "low_fit_xs = np.array([0.3, 30])\n",
    "hi_fit    = np.array([-4.97617e+00,8.31635e+00,-3.59726e+00,7.16110e-01,-2.75070e-01])\n",
    "hi_fit_xs = np.log10(np.array([28, 1707]))\n",
    "erf_loc = 32\n",
    "perc_diff_low, perc_diff_hi, perc_diff_combo = [7,2,0]\n",
    "fit_types = [\"RRadebaugh 2\", \"RRadebaugh 2\"]\n",
    "reference = \"R. Radebaugh\"\n",
    "\n",
    "manual_add_combofit(low_fit, low_fit_xs, hi_fit, hi_fit_xs, erf_loc, perc_diff_low, perc_diff_hi, perc_diff_combo, fit_types, reference)\n"
   ]
  },
  {
   "cell_type": "code",
   "execution_count": 23,
   "metadata": {},
   "outputs": [
    {
     "name": "stdout",
     "output_type": "stream",
     "text": [
      "[{'Fit Type': '3 order RRadebaugh 2', 'Low Temp': '0.400', 'High Temp': '40.000', 'Perc Err': '7.000', 'a': '6.75210e-02', 'b': '3.21340e-03', 'c': '-1.00360e-04', 'd': '8.41076e-07', 'A': '0.00000e+00', 'B': '0.00000e+00', 'C': '0.00000e+00', 'D': '0.00000e+00', 'E': '0.00000e+00', 'erf param': '0.00000e+00'}, {'Fit Type': '3 order RRadebaugh 2', 'Low Temp': '40.000', 'High Temp': '1673.000', 'Perc Err': '2.000', 'a': '-6.56501e+00', 'b': '1.12414e+01', 'c': '-6.47243e+00', 'd': '1.67565e+00', 'A': '-1.57699e-01', 'B': '0.00000e+00', 'C': '0.00000e+00', 'D': '0.00000e+00', 'E': '0.00000e+00', 'erf param': '0.00000e+00'}, {'Fit Type': 'loglog', 'Low Temp': '0.400', 'High Temp': '1673.000', 'Perc Err': '0.000', 'a': '6.75210e-02', 'b': '3.21340e-03', 'c': '-1.00360e-04', 'd': '8.41076e-07', 'A': '-6.56501e+00', 'B': '1.12414e+01', 'C': '-6.47243e+00', 'D': '1.67565e+00', 'E': '-1.57699e-01', 'erf param': '4.00000e+01'}]\n"
     ]
    }
   ],
   "source": [
    "material_name = \"Stainless_Steel_310\"\n",
    "\n",
    "low_fit    = np.array([0.067521021, 0.003213405, -0.000100360, 8.41076e-7])\n",
    "low_fit_xs = np.array([0.4, 40])\n",
    "hi_fit    = np.array([-6.56501217, 11.24142889, -6.47242795, 1.675652401, -0.15769896])\n",
    "hi_fit_xs = np.log10(np.array([40, 1673]))\n",
    "erf_loc = 40\n",
    "perc_diff_low, perc_diff_hi, perc_diff_combo = [7,2,0]\n",
    "fit_types = [\"RRadebaugh 2\", \"RRadebaugh 2\"]\n",
    "reference = \"R. Radebaugh\"\n",
    "\n",
    "manual_add_combofit(low_fit, low_fit_xs, hi_fit, hi_fit_xs, erf_loc, perc_diff_low, perc_diff_hi, perc_diff_combo, fit_types, reference)\n"
   ]
  },
  {
   "cell_type": "code",
   "execution_count": 24,
   "metadata": {},
   "outputs": [
    {
     "name": "stdout",
     "output_type": "stream",
     "text": [
      "[{'Fit Type': '3 order RRadebaugh 1', 'Low Temp': '0.050', 'High Temp': '30.000', 'Perc Err': '0.000', 'a': '5.10400e-02', 'b': '5.60000e-03', 'c': '-2.70000e-04', 'A': '0.00000e+00', 'B': '0.00000e+00', 'C': '0.00000e+00', 'D': '0.00000e+00', 'E': '0.00000e+00', 'erf param': '0.00000e+00'}, {'Fit Type': '3 order RRadebaugh 1', 'Low Temp': '30.000', 'High Temp': '1670.000', 'Perc Err': '0.000', 'a': '-4.88198e+00', 'b': '8.09584e+00', 'c': '-3.49853e+00', 'A': '6.86560e-01', 'B': '-2.52200e-01', 'C': '0.00000e+00', 'D': '0.00000e+00', 'E': '0.00000e+00', 'erf param': '0.00000e+00'}, {'Fit Type': 'loglog', 'Low Temp': '0.050', 'High Temp': '1670.000', 'Perc Err': '2.000', 'a': '5.10400e-02', 'b': '5.60000e-03', 'c': '-2.70000e-04', 'A': '-4.88198e+00', 'B': '8.09584e+00', 'C': '-3.49853e+00', 'D': '6.86560e-01', 'E': '-2.52200e-01', 'erf param': '3.01995e+01'}]\n"
     ]
    }
   ],
   "source": [
    "material_name = \"Stainless_Steel_316\"\n",
    "\n",
    "low_fit    = np.array([0.05104, 0.0056, -0.00027])\n",
    "low_fit_xs = np.array([0.05, 30])\n",
    "hi_fit    = np.array([-4.88198, 8.09584, -3.49853, 0.68656, -0.2522])\n",
    "hi_fit_xs = np.log10(np.array([30, 1670]))\n",
    "erf_loc = 10**1.48\n",
    "perc_diff_low, perc_diff_hi, perc_diff_combo = [0,0,2]\n",
    "fit_types = [\"RRadebaugh 1\", \"RRadebaugh 1\"]\n",
    "reference = \"R. Radebaugh\"\n",
    "\n",
    "manual_add_combofit(low_fit, low_fit_xs, hi_fit, hi_fit_xs, erf_loc, perc_diff_low, perc_diff_hi, perc_diff_combo, fit_types, reference)\n"
   ]
  },
  {
   "cell_type": "code",
   "execution_count": 25,
   "metadata": {},
   "outputs": [
    {
     "name": "stdout",
     "output_type": "stream",
     "text": [
      "[{'Fit Type': '3 order RRadebaugh 3', 'Low Temp': '0.400', 'High Temp': '45.000', 'Perc Err': '7.000', 'a': '5.90900e-02', 'b': '2.99000e-03', 'c': '-3.83000e-05', 'A': '0.00000e+00', 'B': '0.00000e+00', 'C': '0.00000e+00', 'D': '0.00000e+00', 'E': '0.00000e+00', 'erf param': '0.00000e+00'}, {'Fit Type': '3 order RRadebaugh 3', 'Low Temp': '45.000', 'High Temp': '1623.000', 'Perc Err': '2.000', 'a': '4.81282e+01', 'b': '-3.33984e+01', 'c': '8.65271e+00', 'A': '-7.84620e-01', 'B': '-6.42213e+01', 'C': '0.00000e+00', 'D': '0.00000e+00', 'E': '0.00000e+00', 'erf param': '0.00000e+00'}, {'Fit Type': 'loglog', 'Low Temp': '0.400', 'High Temp': '1623.000', 'Perc Err': '0.000', 'a': '5.90900e-02', 'b': '2.99000e-03', 'c': '-3.83000e-05', 'A': '4.81282e+01', 'B': '-3.33984e+01', 'C': '8.65271e+00', 'D': '-7.84620e-01', 'E': '-6.42213e+01', 'erf param': '5.01187e+01'}]\n"
     ]
    }
   ],
   "source": [
    "material_name = \"Stainless_Steel_321\"\n",
    "\n",
    "low_fit    = np.array([0.05909, 0.00299, -3.83e-5])\n",
    "low_fit_xs = np.array([0.4, 45])\n",
    "hi_fit    = np.array([48.1282, -33.3984, 8.65271, -0.78462, -64.2213])\n",
    "hi_fit_xs = np.log10(np.array([45, 1623]))\n",
    "erf_loc = 10**1.7\n",
    "perc_diff_low, perc_diff_hi, perc_diff_combo = [7,2,0]\n",
    "fit_types = [\"RRadebaugh 3\", \"RRadebaugh 3\"]\n",
    "reference = \"R. Radebaugh\"\n",
    "\n",
    "manual_add_combofit(low_fit, low_fit_xs, hi_fit, hi_fit_xs, erf_loc, perc_diff_low, perc_diff_hi, perc_diff_combo, fit_types, reference)\n"
   ]
  },
  {
   "cell_type": "code",
   "execution_count": 26,
   "metadata": {},
   "outputs": [
    {
     "name": "stdout",
     "output_type": "stream",
     "text": [
      "[{'Fit Type': '3 order RRadebaugh 3', 'Low Temp': '0.050', 'High Temp': '0.350', 'Perc Err': '0.000', 'a': '-1.16595e+00', 'b': '2.45597e+00', 'A': '0.00000e+00', 'B': '0.00000e+00', 'C': '0.00000e+00', 'D': '0.00000e+00', 'E': '0.00000e+00', 'F': '0.00000e+00', 'erf param': '0.00000e+00'}, {'Fit Type': '3 order RRadebaugh 3', 'Low Temp': '0.350', 'High Temp': '1200.000', 'Perc Err': '0.000', 'a': '-1.43048e+00', 'b': '1.62127e+00', 'A': '-5.17290e-01', 'B': '2.76890e-01', 'C': '-1.28010e-01', 'D': '2.19200e-02', 'E': '0.00000e+00', 'F': '0.00000e+00', 'erf param': '0.00000e+00'}, {'Fit Type': 'loglog', 'Low Temp': '0.050', 'High Temp': '1200.000', 'Perc Err': '2.000', 'a': '-1.16595e+00', 'b': '2.45597e+00', 'A': '-1.43048e+00', 'B': '1.62127e+00', 'C': '-5.17290e-01', 'D': '2.76890e-01', 'E': '-1.28010e-01', 'F': '2.19200e-02', 'erf param': '2.88403e+00'}]\n"
     ]
    }
   ],
   "source": [
    "material_name = \"Ti6Al4V\"\n",
    "\n",
    "low_fit    = np.array([-1.16595, 2.45597])\n",
    "low_fit_xs = np.array([0.05, 0.35])\n",
    "hi_fit    = np.array([-1.43048, 1.62127, -0.51729, 0.27689, -0.12801, 0.02192])\n",
    "hi_fit_xs = np.log10(np.array([0.35, 1200]))\n",
    "erf_loc = 10**0.46\n",
    "perc_diff_low, perc_diff_hi, perc_diff_combo = [0,0,2]\n",
    "fit_types = [\"RRadebaugh 3\", \"RRadebaugh 3\"]\n",
    "reference = \"R. Radebaugh\"\n",
    "\n",
    "manual_add_combofit(low_fit, low_fit_xs, hi_fit, hi_fit_xs, erf_loc, perc_diff_low, perc_diff_hi, perc_diff_combo, fit_types, reference)\n"
   ]
  },
  {
   "cell_type": "code",
   "execution_count": null,
   "metadata": {},
   "outputs": [],
   "source": []
  }
 ],
 "metadata": {
  "kernelspec": {
   "display_name": "ENAPenv",
   "language": "python",
   "name": "python3"
  },
  "language_info": {
   "codemirror_mode": {
    "name": "ipython",
    "version": 3
   },
   "file_extension": ".py",
   "mimetype": "text/x-python",
   "name": "python",
   "nbconvert_exporter": "python",
   "pygments_lexer": "ipython3",
   "version": "3.10.4"
  }
 },
 "nbformat": 4,
 "nbformat_minor": 2
}

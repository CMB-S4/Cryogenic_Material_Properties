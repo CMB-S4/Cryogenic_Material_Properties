{
 "cells": [
  {
   "cell_type": "markdown",
   "metadata": {},
   "source": [
    "## Thermal Conductivity Fit - Manual Add\n",
    "Developed by Henry Nachman\n",
    "\n",
    "Last Edited: 14 March 2024"
   ]
  },
  {
   "cell_type": "code",
   "execution_count": 2,
   "metadata": {},
   "outputs": [],
   "source": [
    "import numpy as np\n",
    "import csv, os\n",
    "\n",
    "from tc_utils import *"
   ]
  },
  {
   "cell_type": "code",
   "execution_count": 13,
   "metadata": {},
   "outputs": [
    {
     "name": "stdout",
     "output_type": "stream",
     "text": [
      "[{'Fit Type': 'NIST-1', 'Low Temp': '0.034', 'High Temp': '1000.000', 'a': '9.30000e+00', 'b': '2.70000e+00'}]\n"
     ]
    }
   ],
   "source": [
    "material_name = \"SS304\"\n",
    "\n",
    "low_fit = np.array([9.3, 2.7])\n",
    "low_fit_xs = np.array([0.034, 1000])\n",
    "\n",
    "fit_types = [\"NIST-1\"]\n",
    "\n",
    "reference = \"https://trc.nist.gov/cryogenics/materials/304Stainless/304Stainless_rev.htm\"\n",
    "\n",
    "\n",
    "fit_args = dict_monofit(low_fit, low_fit_xs,  fit_types)\n",
    "output_array = format_monofit(fit_args)\n",
    "print(output_array)\n",
    "if \"NIST\"in fit_types[0]:\n",
    "    output_folder = f\"lib\\{material_name}\\\\NIST\"\n",
    "    if not os.path.exists(output_folder):\n",
    "        os.mkdir(output_folder)\n",
    "    create_tc_csv(output_array, f\"{output_folder}\\{material_name}.csv\")\n",
    "else:\n",
    "    output_folder = f\"lib\\{material_name}\\OTHERFITS\"\n",
    "    if not os.path.exists(output_folder):\n",
    "        os.mkdir(output_folder)\n",
    "    create_tc_csv(output_array, f\"{output_folder}\\{material_name}.csv\")\n",
    "with open(f\"{output_folder}\\\\reference.txt\", 'w') as file:\n",
    "        file.write(f\"{reference}\")"
   ]
  }
 ],
 "metadata": {
  "kernelspec": {
   "display_name": "ENAPenv",
   "language": "python",
   "name": "python3"
  },
  "language_info": {
   "codemirror_mode": {
    "name": "ipython",
    "version": 3
   },
   "file_extension": ".py",
   "mimetype": "text/x-python",
   "name": "python",
   "nbconvert_exporter": "python",
   "pygments_lexer": "ipython3",
   "version": "3.10.4"
  }
 },
 "nbformat": 4,
 "nbformat_minor": 2
}

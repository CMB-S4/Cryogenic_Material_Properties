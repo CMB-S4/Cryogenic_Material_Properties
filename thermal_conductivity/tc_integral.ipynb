{
 "cells": [
  {
   "cell_type": "code",
   "execution_count": 80,
   "metadata": {},
   "outputs": [],
   "source": [
    "import numpy as np\n",
    "from fit_types import *\n",
    "from tc_utils import *\n",
    "material = \"SS316\""
   ]
  },
  {
   "cell_type": "code",
   "execution_count": 81,
   "metadata": {},
   "outputs": [],
   "source": [
    "TCdata = np.loadtxt(\"..\\\\thermal_conductivity_compilation.csv\", dtype=str, delimiter=',')\n",
    "headers = TCdata[0]\n",
    "\n",
    "\n",
    "mat_names = TCdata[:,0]\n",
    "mat_row = TCdata[int(np.argwhere(mat_names == material))]"
   ]
  },
  {
   "cell_type": "code",
   "execution_count": 82,
   "metadata": {},
   "outputs": [
    {
     "name": "stdout",
     "output_type": "stream",
     "text": [
      "['SS316' 'loglog' '0.045' '1670.150' '3.392' '1.94109e-06' '-2.05278e-04'\n",
      " '6.69184e-03' '4.80988e-02' '^' '^' '^' '^' '^' '1.19339e+02'\n",
      " '1.09896e-01' '-7.26205e-01' '1.97904e+00' '-9.78724e-01']\n"
     ]
    }
   ],
   "source": [
    "print(mat_row)\n",
    "num_hi = sum(1 for c in headers[4:] if c.isupper())\n",
    "num_low = sum(1 for c in headers[4:-1] if c.islower())\n",
    "fit_params = mat_row\n",
    "fit_params = np.char.replace(fit_params, \"^\", \"0\")"
   ]
  },
  {
   "cell_type": "code",
   "execution_count": 83,
   "metadata": {},
   "outputs": [
    {
     "name": "stdout",
     "output_type": "stream",
     "text": [
      "{'Material Name': 'SS316', 'Fit Type': 'loglog', 'Low Temp': '0.045', 'High Temp': '1670.150', 'Perc Err': '3.392', 'a': '1.94109e-06', 'b': '-2.05278e-04', 'c': '6.69184e-03', 'd': '4.80988e-02', 'e': '0', 'f': '0', 'g': '0', 'h': '0', 'i': '0', 'erf param': '1.19339e+02', 'A': '1.09896e-01', 'B': '-7.26205e-01', 'C': '1.97904e+00', 'D': '-9.78724e-01'}\n"
     ]
    }
   ],
   "source": [
    "parameter_dict = dict(zip(headers, fit_params))\n",
    "print(parameter_dict)"
   ]
  },
  {
   "cell_type": "code",
   "execution_count": 84,
   "metadata": {},
   "outputs": [],
   "source": [
    "def zero_filter(arr):\n",
    "    filtered_arr = []\n",
    "    for i in range(len(arr)):\n",
    "        if arr[i] == 0:\n",
    "            if i == 0 and arr[i + 1] != 0:\n",
    "                filtered_arr.append(arr[i])\n",
    "            elif arr[i - 1] != 0 and arr[i + 1] != 0:\n",
    "                print(i)\n",
    "                filtered_arr.append(arr[i])\n",
    "        else:\n",
    "            filtered_arr.append(arr[i])\n",
    "\n",
    "    filtered_arr = np.array(filtered_arr)\n",
    "    return filtered_arr"
   ]
  },
  {
   "cell_type": "code",
   "execution_count": 85,
   "metadata": {},
   "outputs": [
    {
     "name": "stdout",
     "output_type": "stream",
     "text": [
      "[1.94109e-06, -0.000205278, 0.00669184, 0.0480988, 0.0, 0.0, 0.0, 0.0, 0.0]\n",
      "[ 1.94109e-06 -2.05278e-04  6.69184e-03  4.80988e-02] [ 0.109896 -0.726205  1.97904  -0.978724] 119.339\n"
     ]
    },
    {
     "data": {
      "image/png": "[encoded data removed]",
      "text/plain": [
       "<Figure size 432x288 with 1 Axes>"
      ]
     },
     "metadata": {
      "needs_background": "light"
     },
     "output_type": "display_data"
    }
   ],
   "source": [
    "T = np.linspace(float(parameter_dict[\"Low Temp\"]), float(parameter_dict[\"High Temp\"]), 10000)\n",
    "T = np.logspace(np.log10(float(parameter_dict[\"Low Temp\"])),np.log10(float(parameter_dict[\"High Temp\"])),100)\n",
    "\n",
    "low_param = [float(parameter_dict[letter]) for letter in generate_alphabet_array(num_low -1, \"l\")]\n",
    "hi_param = [float(parameter_dict[letter]) for letter in generate_alphabet_array(num_hi, \"H\")]\n",
    "erf_param = float(parameter_dict[\"erf param\"])\n",
    "\n",
    "print(low_param)\n",
    "low_param = zero_filter(low_param)\n",
    "hi_param = zero_filter(hi_param)\n",
    "\n",
    "print(low_param, hi_param, erf_param)\n",
    "\n",
    "\n",
    "k = loglog_func(T, low_param, hi_param, erf_param)\n",
    "plt.plot(T, k)\n",
    "plt.semilogy()\n",
    "plt.semilogx()\n",
    "plt.show()\n"
   ]
  },
  {
   "cell_type": "code",
   "execution_count": 86,
   "metadata": {},
   "outputs": [
    {
     "name": "stdout",
     "output_type": "stream",
     "text": [
      "Definite integral between 189.2 and 260 : 808.2365335442025\n"
     ]
    }
   ],
   "source": [
    "def definite_integral(x, y, start_x, end_x):\n",
    "    \"\"\"\n",
    "    Compute the definite integral of a function given x and y values between specified bounds using the trapezoidal rule.\n",
    "\n",
    "    Parameters:\n",
    "    x (list or array): The x values.\n",
    "    y (list or array): The corresponding y values.\n",
    "    start_x (float): The starting x value for integration.\n",
    "    end_x (float): The ending x value for integration.\n",
    "\n",
    "    Returns:\n",
    "    float: The definite integral of the function between the specified bounds.\n",
    "    \"\"\"\n",
    "    # Find indices corresponding to the closest x values to start_x and end_x\n",
    "    start_index = min(range(len(x)), key=lambda i: abs(x[i] - start_x))\n",
    "    end_index = min(range(len(x)), key=lambda i: abs(x[i] - end_x))\n",
    "\n",
    "    # Ensure start_index is not greater than end_index\n",
    "    start_index, end_index = min(start_index, end_index), max(start_index, end_index)\n",
    "\n",
    "    integral = 0.0\n",
    "    for i in range(start_index + 1, end_index + 1):\n",
    "        integral += (x[i] - x[i-1]) * (y[i] + y[i-1]) / 2.0\n",
    "    return integral\n",
    "\n",
    "# Example usage:\n",
    "x_values = T  # Example x values\n",
    "y_values = k  # Example y values (squared values of x)\n",
    "start_x = 189.2  # Start x value for integration\n",
    "end_x = 260  # End x value for integration\n",
    "result = definite_integral(x_values, y_values, start_x, end_x)\n",
    "print(\"Definite integral between\", start_x, \"and\", end_x, \":\", result)\n",
    "\n"
   ]
  },
  {
   "cell_type": "markdown",
   "metadata": {},
   "source": [
    "NIST Fit and Integral"
   ]
  },
  {
   "cell_type": "code",
   "execution_count": null,
   "metadata": {},
   "outputs": [],
   "source": []
  }
 ],
 "metadata": {
  "kernelspec": {
   "display_name": "ENAPenv",
   "language": "python",
   "name": "python3"
  },
  "language_info": {
   "codemirror_mode": {
    "name": "ipython",
    "version": 3
   },
   "file_extension": ".py",
   "mimetype": "text/x-python",
   "name": "python",
   "nbconvert_exporter": "python",
   "pygments_lexer": "ipython3",
   "version": "3.10.4"
  }
 },
 "nbformat": 4,
 "nbformat_minor": 2
}

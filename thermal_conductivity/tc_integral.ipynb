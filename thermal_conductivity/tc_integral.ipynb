{
 "cells": [
  {
   "cell_type": "code",
   "execution_count": 18,
   "metadata": {},
   "outputs": [],
   "source": [
    "import numpy as np\n",
    "from fit_types import *\n",
    "from tc_utils import *\n",
    "material = \"SS304\""
   ]
  },
  {
   "cell_type": "code",
   "execution_count": 19,
   "metadata": {},
   "outputs": [],
   "source": [
    "TCdata = np.loadtxt(\"..\\\\thermal_conductivity_compilation.csv\", dtype=str, delimiter=',')\n",
    "headers = TCdata[0]\n",
    "\n",
    "\n",
    "mat_names = TCdata[:,0]\n",
    "mat_row = TCdata[int(np.argwhere(mat_names == material))]"
   ]
  },
  {
   "cell_type": "code",
   "execution_count": 20,
   "metadata": {},
   "outputs": [
    {
     "name": "stdout",
     "output_type": "stream",
     "text": [
      "['SS304' 'loglog' '0.385' '1672.000' '3.953' '2.23367e-07' '-5.04296e-05'\n",
      " '3.01386e-03' '6.96502e-02' '0.00e+00' '0.00e+00' '0.00e+00' '0.00e+00'\n",
      " '0.00e+00' '1.19786e+02' '3.42081e-02' '-1.71132e-01' '6.23536e-01'\n",
      " '1.49213e-01']\n"
     ]
    }
   ],
   "source": [
    "print(mat_row)\n",
    "num_hi = sum(1 for c in headers[4:] if c.isupper())\n",
    "num_low = sum(1 for c in headers[4:-1] if c.islower())\n",
    "fit_params = mat_row\n",
    "fit_params = np.char.replace(fit_params, \"^\", \"0\")"
   ]
  },
  {
   "cell_type": "code",
   "execution_count": 21,
   "metadata": {},
   "outputs": [
    {
     "name": "stdout",
     "output_type": "stream",
     "text": [
      "{'Material Name': 'SS304', 'Fit Type': 'loglog', 'Low Temp': '0.385', 'High Temp': '1672.000', 'Perc Err': '3.953', 'a': '2.23367e-07', 'b': '-5.04296e-05', 'c': '3.01386e-03', 'd': '6.96502e-02', 'e': '0.00e+00', 'f': '0.00e+00', 'g': '0.00e+00', 'h': '0.00e+00', 'i': '0.00e+00', 'erf param': '1.19786e+02', 'A': '3.42081e-02', 'B': '-1.71132e-01', 'C': '6.23536e-01', 'D': '1.49213e-01'}\n"
     ]
    }
   ],
   "source": [
    "parameter_dict = dict(zip(headers, fit_params))\n",
    "print(parameter_dict)"
   ]
  },
  {
   "cell_type": "code",
   "execution_count": 22,
   "metadata": {},
   "outputs": [],
   "source": [
    "def zero_filter(arr):\n",
    "    filtered_arr = []\n",
    "    for i in range(len(arr)):\n",
    "        if arr[i] == 0:\n",
    "            if i == 0 and arr[i + 1] != 0:\n",
    "                filtered_arr.append(arr[i])\n",
    "            elif arr[i - 1] != 0 and arr[i + 1] != 0:\n",
    "                print(i)\n",
    "                filtered_arr.append(arr[i])\n",
    "        else:\n",
    "            filtered_arr.append(arr[i])\n",
    "\n",
    "    filtered_arr = np.array(filtered_arr)\n",
    "    return filtered_arr"
   ]
  },
  {
   "cell_type": "code",
   "execution_count": 37,
   "metadata": {},
   "outputs": [
    {
     "name": "stdout",
     "output_type": "stream",
     "text": [
      "[2.23367e-07, -5.04296e-05, 0.00301386, 0.0696502, 0.0, 0.0, 0.0, 0.0, 0.0]\n",
      "[ 2.23367e-07 -5.04296e-05  3.01386e-03  6.96502e-02] [ 0.0342081 -0.171132   0.623536   0.149213 ] 119.786\n",
      "13.765012720563208\n"
     ]
    }
   ],
   "source": [
    "# T = np.linspace(float(parameter_dict[\"Low Temp\"]), float(parameter_dict[\"High Temp\"]), 10000)\n",
    "T = np.logspace(np.log10(float(parameter_dict[\"Low Temp\"])),np.log10(float(parameter_dict[\"High Temp\"])),10000)\n",
    "\n",
    "low_param = [float(parameter_dict[letter]) for letter in generate_alphabet_array(num_low -1, \"l\")]\n",
    "hi_param = [float(parameter_dict[letter]) for letter in generate_alphabet_array(num_hi, \"H\")]\n",
    "erf_param = float(parameter_dict[\"erf param\"])\n",
    "\n",
    "print(low_param)\n",
    "low_param = zero_filter(low_param)\n",
    "hi_param = zero_filter(hi_param)\n",
    "\n",
    "print(low_param, hi_param, erf_param)\n",
    "\n",
    "k = loglog_func(T, low_param, hi_param, erf_param)\n",
    "\n",
    "\n",
    "print(loglog_func(260, low_param, hi_param, erf_param))"
   ]
  },
  {
   "cell_type": "code",
   "execution_count": 15,
   "metadata": {},
   "outputs": [
    {
     "name": "stdout",
     "output_type": "stream",
     "text": [
      "Definite integral between 169.2 and 260 : 1156.5949683888346\n"
     ]
    }
   ],
   "source": [
    "# def definite_integral(x, y, start_x, end_x):\n",
    "#     \"\"\"\n",
    "#     Compute the definite integral of a function given x and y values between specified bounds using the trapezoidal rule.\n",
    "\n",
    "#     Parameters:\n",
    "#     x (list or array): The x values.\n",
    "#     y (list or array): The corresponding y values.\n",
    "#     start_x (float): The starting x value for integration.\n",
    "#     end_x (float): The ending x value for integration.\n",
    "\n",
    "#     Returns:\n",
    "#     float: The definite integral of the function between the specified bounds.\n",
    "#     \"\"\"\n",
    "#     # Find indices corresponding to the closest x values to start_x and end_x\n",
    "#     start_index = min(range(len(x)), key=lambda i: abs(x[i] - start_x))\n",
    "#     end_index = min(range(len(x)), key=lambda i: abs(x[i] - end_x))\n",
    "\n",
    "#     # Ensure start_index is not greater than end_index\n",
    "#     start_index, end_index = min(start_index, end_index), max(start_index, end_index)\n",
    "\n",
    "#     integral = 0.0\n",
    "#     for i in range(start_index + 1, end_index + 1):\n",
    "#         integral += (x[i] - x[i-1]) * (y[i] + y[i-1]) / 2.0\n",
    "#     return integral\n",
    "\n",
    "from scipy.integrate import trapz, simpson\n",
    "def definite_integral(x, y, start_x, end_x):\n",
    "    indices = np.where((x >= start_x) & (x <= end_x))\n",
    "    return trapz(y[indices], x[indices], 0.01)\n",
    "\n",
    "def definite_integral_simpson(x, y, start_x, end_x):\n",
    "    indices = np.where((x >= start_x) & (x <= end_x))\n",
    "    return simpson(y[indices], x[indices], 0.01)\n",
    "# Example usage:\n",
    "x_values = T  # Example x values\n",
    "y_values = k  # Example y values (squared values of x)\n",
    "start_x = 169.2  # Start x value for integration\n",
    "end_x = 260  # End x value for integration\n",
    "result = definite_integral(x_values, y_values, start_x, end_x)\n",
    "print(\"Definite integral between\", start_x, \"and\", end_x, \":\", result)\n",
    "\n"
   ]
  },
  {
   "cell_type": "markdown",
   "metadata": {},
   "source": [
    "NIST Fit and Integral"
   ]
  },
  {
   "cell_type": "code",
   "execution_count": 8,
   "metadata": {},
   "outputs": [],
   "source": [
    "TCdata = np.loadtxt(\"..\\\\thermal_conductivity_compilation_NIST.csv\", dtype=str, delimiter=',')\n",
    "headers = TCdata[0]\n",
    "\n",
    "\n",
    "mat_names = TCdata[:,0]\n",
    "mat_row = TCdata[int(np.argwhere(mat_names == material))]"
   ]
  },
  {
   "cell_type": "code",
   "execution_count": 9,
   "metadata": {},
   "outputs": [
    {
     "name": "stdout",
     "output_type": "stream",
     "text": [
      "['SS304' 'NIST-1' '4.000' '300.000' '2.0' '-1.40870e+00' '1.39820e+00'\n",
      " '2.54300e-01' '-6.26000e-01' '2.33400e-01' '4.25600e-01' '-4.65800e-01'\n",
      " '1.65000e-01' '-1.99000e-02']\n"
     ]
    }
   ],
   "source": [
    "print(mat_row)\n",
    "num_hi = sum(1 for c in headers[4:] if c.isupper())\n",
    "num_low = sum(1 for c in headers[4:-1] if c.islower())\n",
    "fit_params = mat_row\n",
    "fit_params = np.char.replace(fit_params, \"^\", \"0\")"
   ]
  },
  {
   "cell_type": "code",
   "execution_count": 10,
   "metadata": {},
   "outputs": [
    {
     "name": "stdout",
     "output_type": "stream",
     "text": [
      "{'Material Name': 'SS304', 'Fit Type': 'NIST-1', 'Low Temp': '4.000', 'High Temp': '300.000', 'Perc Err': '2.0', 'a': '-1.40870e+00', 'b': '1.39820e+00', 'c': '2.54300e-01', 'd': '-6.26000e-01', 'e': '2.33400e-01', 'f': '4.25600e-01', 'g': '-4.65800e-01', 'h': '1.65000e-01', 'i': '-1.99000e-02'}\n"
     ]
    }
   ],
   "source": [
    "parameter_dict = dict(zip(headers, fit_params))\n",
    "print(parameter_dict)"
   ]
  },
  {
   "cell_type": "code",
   "execution_count": 11,
   "metadata": {},
   "outputs": [
    {
     "name": "stdout",
     "output_type": "stream",
     "text": [
      "         8         7          6          5          4         3\n",
      "-0.0199 x + 0.165 x - 0.4658 x + 0.4256 x + 0.2334 x - 0.626 x\n",
      "           2\n",
      " + 0.2543 x + 1.398 x - 1.409\n"
     ]
    }
   ],
   "source": [
    "params_NIST = [float(parameter_dict[letter]) for letter in generate_alphabet_array(num_low+1, \"l\")]\n",
    "params_NIST = np.flip(params_NIST)\n",
    "print(np.poly1d(params_NIST))\n",
    "k_Nist = NIST1(T, params_NIST)\n"
   ]
  },
  {
   "cell_type": "code",
   "execution_count": 12,
   "metadata": {},
   "outputs": [
    {
     "name": "stdout",
     "output_type": "stream",
     "text": [
      "Definite integral between 169.2 and 260 : 1180.535040955626 1180.3457218313351 1180.5350477232234\n"
     ]
    }
   ],
   "source": [
    "# Example usage:\n",
    "x_values = T  # Example x values\n",
    "y_values = k_Nist  # Example y values (squared values of x)\n",
    "start_x = 169.2  # Start x value for integration\n",
    "end_x = 260  # End x value for integration\n",
    "result = definite_integral(x_values, y_values, start_x, end_x)\n",
    "def integrand(x):\n",
    "    return 10**(-0.0199*np.log10(x)**8 + 0.165*np.log10(x)**7 - 0.4658*np.log10(x)**6 + 0.4256*np.log10(x)**5 + 0.2334*np.log10(x)**4 - 0.626*np.log10(x)**3 + 0.2543*np.log10(x)**2 + 1.398*np.log10(x) - 1.409)\n",
    "# Perform the definite integral\n",
    "from scipy.integrate import quad\n",
    "result2, error = quad(integrand, start_x, end_x)\n",
    "result3 = definite_integral_simpson(x_values, y_values, start_x, end_x)\n",
    "\n",
    "print(\"Definite integral between\", start_x, \"and\", end_x, \":\", result, result2, result3)"
   ]
  },
  {
   "cell_type": "code",
   "execution_count": 13,
   "metadata": {},
   "outputs": [
    {
     "data": {
      "image/png": "[encoded data removed]",
      "text/plain": [
       "<Figure size 432x288 with 1 Axes>"
      ]
     },
     "metadata": {
      "needs_background": "light"
     },
     "output_type": "display_data"
    }
   ],
   "source": [
    "big_data, data_dict = parse_raw(material, f\"lib\\{material}\\RAW\", plots=False)\n",
    "T_data = big_data[:,0]\n",
    "k_data = big_data[:,1]\n",
    "\n",
    "from matplotlib.colors import LinearSegmentedColormap\n",
    "\n",
    "# colors = [(0, '#333f48'), (0.5, '#d6d2c4'), (1, '#9cadb7'), (0, '#005f86'), (0.5, '#00a9b7'), (1, '#579d42'), (0, '#a6cd57'), (0.5, '#ffd600'), (1, '#f8971f')]\n",
    "colors = ['#333f48', '#d6d2c4', '#9cadb7', '#005f86', '#00a9b7', '#579d42', '#a6cd57', '#ffd600', '#f8971f']\n",
    "\n",
    "cmap = LinearSegmentedColormap.from_list('custom_cmap', colors)\n",
    "\n",
    "\n",
    "plt.plot(T, k, color=colors[3], linestyle=\"-\", linewidth = 3, label=\"My Fit\")\n",
    "plt.plot(T, k_Nist, color=colors[-1], linestyle=\"--\", linewidth = 3, label=\"NIST Fit\")\n",
    "# plt.plot(T_data, k_data, '.', color=colors[2], markersize=9, alpha=0.3, label=\"data\")\n",
    "plt.scatter(T_data, k_data, c=colors[2], label = \"Data\")\n",
    "plt.ylabel(\"k [W/m/K]\")\n",
    "plt.xlabel(\"T [K]\")\n",
    "plt.legend()\n",
    "plt.xlim(165, 270)\n",
    "# plt.semilogy()\n",
    "# plt.semilogx()\n",
    "\n",
    "plt.grid(True, which=\"both\", linestyle=':')\n",
    "\n",
    "plt.show()\n"
   ]
  },
  {
   "cell_type": "code",
   "execution_count": 14,
   "metadata": {},
   "outputs": [
    {
     "name": "stdout",
     "output_type": "stream",
     "text": [
      "0.004504946181351276 0.006115865030343845 1180.535040955626\n"
     ]
    },
    {
     "data": {
      "text/plain": [
       "7.219992974076053"
      ]
     },
     "execution_count": 14,
     "metadata": {},
     "output_type": "execute_result"
    }
   ],
   "source": [
    "def power_load(area, length, conInt):\n",
    "    return area/length*conInt\n",
    "\n",
    "od = 35.625*0.0254 # m\n",
    "l = 29*0.0254 # m\n",
    "mat_thickness = 0.0625*0.0254\n",
    "\n",
    "area = np.pi*((od/2)**2-((od/2)-mat_thickness)**2)\n",
    "\n",
    "print(area, area/l, result)\n",
    "power_load(area, l, result)\n"
   ]
  },
  {
   "cell_type": "code",
   "execution_count": null,
   "metadata": {},
   "outputs": [],
   "source": []
  }
 ],
 "metadata": {
  "kernelspec": {
   "display_name": "ENAPenv",
   "language": "python",
   "name": "python3"
  },
  "language_info": {
   "codemirror_mode": {
    "name": "ipython",
    "version": 3
   },
   "file_extension": ".py",
   "mimetype": "text/x-python",
   "name": "python",
   "nbconvert_exporter": "python",
   "pygments_lexer": "ipython3",
   "version": "3.10.4"
  }
 },
 "nbformat": 4,
 "nbformat_minor": 2
}

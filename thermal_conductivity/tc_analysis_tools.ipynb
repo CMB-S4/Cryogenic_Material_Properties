{
 "cells": [
  {
   "cell_type": "markdown",
   "metadata": {},
   "source": [
    "## TC Repository Tutorial\n",
    "### Author: Henry Nachman\n",
    "#### Last Updated: 2024-06-12\n",
    "\n",
    "This interactive Jupyter notebook is designed to help a new user of this repository learn how to navigate the repository output products towards a science goal."
   ]
  },
  {
   "cell_type": "markdown",
   "metadata": {},
   "source": [
    "First, we will import the necessary packages..."
   ]
  },
  {
   "cell_type": "code",
   "execution_count": 9,
   "metadata": {},
   "outputs": [],
   "source": [
    "import numpy as np\n",
    "import matplotlib.pyplot as plt\n",
    "from scipy.special import erf\n",
    "from scipy.integrate import quad\n",
    "import sys, os\n",
    "from itertools import dropwhile\n",
    "from fit_types import *"
   ]
  },
  {
   "cell_type": "code",
   "execution_count": 12,
   "metadata": {},
   "outputs": [
    {
     "name": "stdout",
     "output_type": "stream",
     "text": [
      "[0.000249809, -0.00217074, 0.00520942, 0.00399669] [] 0.0\n",
      "<function Nppoly at 0x000002A33CC200D0>\n"
     ]
    }
   ],
   "source": [
    "mat = \"CFRP\"\n",
    "\n",
    "os.chdir(f\"{os.getcwd()}{os.sep}..\")\n",
    "all_files = os.listdir(f\"{os.getcwd()}\")\n",
    "exist_files = [file for file in all_files if file.startswith(\"tc_fullrepo\")]\n",
    "tc_file_date = exist_files[0][-12:-4]\n",
    "\n",
    "TCdata = np.loadtxt(f\"tc_fullrepo_{tc_file_date}.csv\", dtype=str, delimiter=',') # imports compilation file csv\n",
    "headers = TCdata[0] # pulls the headers from the file\n",
    "mat_names = TCdata[:,0] # makes an array of material names\n",
    "\n",
    "mat_row = TCdata[int(np.argwhere(mat_names == mat)[0][0])] # searches material name array for mat specified above and return relevant row\n",
    "param_headers = headers[5:]\n",
    "fit_type = mat_row[1]\n",
    "num_hi = sum(1 for c in param_headers if c.isupper()) # searches for the number of low parameters (by lower case letter)\n",
    "num_low = sum(1 for c in param_headers if c.islower()) # searches for number of high parameters\n",
    "fit_params = mat_row \n",
    "fit_params = np.char.replace(fit_params, \"^\", \"0\")\n",
    "# fit_range, low_param, hi_param, erf_param = np.array(mat_row[2:4], dtype=float), np.array(fit_params[:num_low], dtype=float), np.array(fit_params[num_low:-1], dtype=float), float(fit_params[-1])\n",
    "\n",
    "fit_range = np.array(mat_row[2:4], dtype=float) # pulls the fit range\n",
    "# loop through headers and if lower case add to low_param vice versa\n",
    "low_param = []\n",
    "hi_param = []\n",
    "for key in headers[5:]:\n",
    "    if key.islower() and key != \"erf param\":\n",
    "        low_param.append(float(fit_params[int(np.argwhere(headers == key)[0][0])]))\n",
    "    elif key.isupper():\n",
    "        hi_param.append(float(fit_params[int(np.argwhere(headers == key)[0][0])]))\n",
    "    elif key == \"erf param\":\n",
    "        erf_param = float(fit_params[int(np.argwhere(headers == key)[0][0])])\n",
    "\n",
    "# now we have a list of lower and upper parameters but, they might have trailing 0s if they have fewer parameters than other materials\n",
    "# so now we remove those trailing 0s\n",
    "def remove_trailing_zeros(arr):\n",
    "    return list(dropwhile(lambda x: x == 0, arr[::-1]))\n",
    "low_param = remove_trailing_zeros(low_param)\n",
    "# low_param = low_param[::-1]\n",
    "hi_param = remove_trailing_zeros(hi_param)\n",
    "print(low_param, hi_param, erf_param)\n",
    "\n",
    "# now lets plot\n",
    "T = np.logspace(np.log10(fit_range[0]),np.log10(fit_range[1]),100)\n",
    "\n",
    "x_range     = np.logspace(np.log10(.01),np.log10(5),100)\n",
    "func = get_func_type(fit_type)\n",
    "print(func)\n",
    "y_pred = func(T, low_param)\n"
   ]
  },
  {
   "cell_type": "code",
   "execution_count": 11,
   "metadata": {},
   "outputs": [
    {
     "data": {
      "image/png": "[encoded data removed]",
      "text/plain": [
       "<Figure size 640x480 with 1 Axes>"
      ]
     },
     "metadata": {},
     "output_type": "display_data"
    }
   ],
   "source": [
    "# big_data, data_dict = parse_raw(mat, f\"lib\\{mat}\\RAW\", plots=False)\n",
    "# plot_datapoints(data_dict)\n",
    "plt.plot(T, y_pred, label='combined fit')\n",
    "plt.semilogx()\n",
    "plt.semilogy()\n",
    "plt.ylabel(\"k\")\n",
    "plt.xlabel(\"T\")\n",
    "# plt.legend(loc=\"center right\", bbox_to_anchor=(1.1, 0.5))\n",
    "plt.legend()\n",
    "plt.show()"
   ]
  },
  {
   "cell_type": "code",
   "execution_count": 3,
   "metadata": {},
   "outputs": [],
   "source": [
    "def get_thermal_conductivity(T_range, k_func):\n",
    "    x = np.linspace(T_range[0], T_range[1], 1000)\n",
    "    print(low_param)\n",
    "    y = k_func(x, low_param)\n",
    "    ConInt = np.trapz(y, x)\n",
    "    return ConInt"
   ]
  },
  {
   "cell_type": "code",
   "execution_count": 13,
   "metadata": {},
   "outputs": [
    {
     "name": "stdout",
     "output_type": "stream",
     "text": [
      "[0.000249809, -0.00217074, 0.00520942, 0.00399669]\n"
     ]
    }
   ],
   "source": [
    "k = get_thermal_conductivity([0.450, 0.459], func) #W/m\n",
    "P = 0.0016174*k*10"
   ]
  },
  {
   "cell_type": "code",
   "execution_count": 5,
   "metadata": {},
   "outputs": [
    {
     "name": "stdout",
     "output_type": "stream",
     "text": [
      "3.9295268837837903e-07\n"
     ]
    }
   ],
   "source": [
    "print(P)"
   ]
  },
  {
   "cell_type": "code",
   "execution_count": 6,
   "metadata": {},
   "outputs": [],
   "source": [
    "def integrand(t, param):\n",
    "\n",
    "    return t*np.polyval(param, t)\n",
    "ConIntQuad = quad(integrand, 0.007, 0.067, low_param)"
   ]
  },
  {
   "cell_type": "code",
   "execution_count": 7,
   "metadata": {},
   "outputs": [
    {
     "name": "stdout",
     "output_type": "stream",
     "text": [
      "1.5176802000507042e-07\n"
     ]
    }
   ],
   "source": [
    "print(ConIntQuad[0]*0.0016174*10)"
   ]
  },
  {
   "cell_type": "code",
   "execution_count": null,
   "metadata": {},
   "outputs": [],
   "source": []
  }
 ],
 "metadata": {
  "kernelspec": {
   "display_name": "ENAPenv",
   "language": "python",
   "name": "python3"
  },
  "language_info": {
   "codemirror_mode": {
    "name": "ipython",
    "version": 3
   },
   "file_extension": ".py",
   "mimetype": "text/x-python",
   "name": "python",
   "nbconvert_exporter": "python",
   "pygments_lexer": "ipython3",
   "version": "3.10.14"
  }
 },
 "nbformat": 4,
 "nbformat_minor": 2
}

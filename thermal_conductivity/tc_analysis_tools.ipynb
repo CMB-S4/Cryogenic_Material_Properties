{
 "cells": [
  {
   "cell_type": "code",
   "execution_count": 1,
   "metadata": {},
   "outputs": [],
   "source": [
    "import numpy as np\n",
    "from tc_utils import *\n",
    "from scipy.special import erf\n",
    "import sys, os"
   ]
  },
  {
   "cell_type": "code",
   "execution_count": 2,
   "metadata": {},
   "outputs": [
    {
     "name": "stdout",
     "output_type": "stream",
     "text": [
      "c:\\Users\\henac\\OneDrive - The University of Texas at Austin\\01_RESEARCH\\05_CMBS4\\Cryogenic_Material_Properties\\thermal_conductivity\n",
      "[0.000249809, -0.00217074, 0.00520942, 0.00399669, 0.0, 0.0, 0.0, 0.0, 0.0] [0.0, 0.0, 0.0, 0.0, 0.0, 0.0] 0.0\n",
      "lib\\CFRP\\RAW Crowley_Clearwater_0.25K_2022.csv lib\\CFRP\\RAW\\Crowley_Clearwater_0.25K_2022.csv\n",
      "lib\\CFRP\\RAW Crowley_Clearwater_0.27K_2022.csv lib\\CFRP\\RAW\\Crowley_Clearwater_0.27K_2022.csv\n",
      "lib\\CFRP\\RAW Crowley_Clearwater_0.36K_2022.csv lib\\CFRP\\RAW\\Crowley_Clearwater_0.36K_2022.csv\n",
      "lib\\CFRP\\RAW Crowley_Clearwater__0.1K_2022.csv lib\\CFRP\\RAW\\Crowley_Clearwater__0.1K_2022.csv\n",
      "lib\\CFRP\\RAW Crowley_Clearwater__0.5K_2022.csv lib\\CFRP\\RAW\\Crowley_Clearwater__0.5K_2022.csv\n",
      "lib\\CFRP\\RAW Crowley_DPP__0.3K_2022.csv lib\\CFRP\\RAW\\Crowley_DPP__0.3K_2022.csv\n",
      "lib\\CFRP\\RAW Crowley_DPP__1.4K_2022.csv lib\\CFRP\\RAW\\Crowley_DPP__1.4K_2022.csv\n",
      "lib\\CFRP\\RAW Crowley_Graphlite__1.4K_2022.csv lib\\CFRP\\RAW\\Crowley_Graphlite__1.4K_2022.csv\n",
      "lib\\CFRP\\RAW RunyanJones_Graphlite_2008.csv lib\\CFRP\\RAW\\RunyanJones_Graphlite_2008.csv\n"
     ]
    },
    {
     "data": {
      "image/png": "[encoded data removed]",
      "text/plain": [
       "<Figure size 432x288 with 1 Axes>"
      ]
     },
     "metadata": {
      "needs_background": "light"
     },
     "output_type": "display_data"
    },
    {
     "data": {
      "image/png": "[encoded data removed]",
      "text/plain": [
       "<Figure size 432x288 with 1 Axes>"
      ]
     },
     "metadata": {
      "needs_background": "light"
     },
     "output_type": "display_data"
    }
   ],
   "source": [
    "mat = \"CFRP\"\n",
    "tc_file_date = \"2024-05-28\"\n",
    "\n",
    "\n",
    "print(os.getcwd())\n",
    "TCdata = np.loadtxt(f\"..{os.sep}thermal_conductivity_compilation_{tc_file_date}.csv\", dtype=str, delimiter=',')\n",
    "headers = TCdata[0]\n",
    "mat_names = TCdata[:,0]\n",
    "\n",
    "mat_row = TCdata[int(np.argwhere(mat_names == mat))]\n",
    "num_hi = sum(1 for c in headers[4:] if c.isupper())\n",
    "num_low = sum(1 for c in headers[4:-1] if c.islower())\n",
    "fit_params = mat_row\n",
    "fit_params = np.char.replace(fit_params, \"^\", \"0\")\n",
    "# fit_range, low_param, hi_param, erf_param = np.array(mat_row[2:4], dtype=float), np.array(fit_params[:num_low], dtype=float), np.array(fit_params[num_low:-1], dtype=float), float(fit_params[-1])\n",
    "\n",
    "fit_range = np.array(mat_row[2:4], dtype=float)\n",
    "# zip headers\n",
    "# loop through headers and if lower case add to low_param etc\n",
    "\n",
    "low_param = []\n",
    "hi_param = []\n",
    "for key in headers[4:]:\n",
    "    if key.islower() and key != \"erf param\":\n",
    "        low_param.append(float(fit_params[int(np.argwhere(headers == key))]))\n",
    "    elif key.isupper():\n",
    "        hi_param.append(float(fit_params[int(np.argwhere(headers == key))]))\n",
    "    elif key == \"erf param\":\n",
    "        erf_param = float(fit_params[int(np.argwhere(headers == key))])\n",
    "\n",
    "\n",
    "T = np.logspace(np.log10(fit_range[0]),np.log10(fit_range[1]),100)\n",
    "\n",
    "\n",
    "xs = np.logspace(np.log10(fit_range[0]),np.log10(fit_range[1]),100)\n",
    "print(low_param, hi_param, erf_param)\n",
    "big_data, data_dict = parse_raw(mat, f\"lib\\{mat}\\RAW\", plots=False)\n",
    "# plot_datapoints(data_dict)\n",
    "plt.plot(xs, loglog_func(xs, low_param, hi_param, erf_param), label='combined fit')\n",
    "plt.semilogx()\n",
    "plt.semilogy()\n",
    "plt.ylabel(\"k\")\n",
    "plt.xlabel(\"T\")\n",
    "plt.legend()\n",
    "plt.show()\n",
    "\n",
    "\n",
    "low_fit = T*np.polyval(low_param, T)\n",
    "hi_fit = 10**np.polyval(hi_param, np.log10(T))\n",
    "\n",
    "plt.figure()\n",
    "# plt.plot(xs, loglog_func(xs, low_param, hi_param, erf_param)/xs, label='combined fit')\n",
    "plt.plot(xs, low_fit/xs, label='low fit')\n",
    "plt.plot(xs, hi_fit, label='high fit')\n",
    "\n",
    "plt.semilogx()\n",
    "plt.ylabel(\"k\")\n",
    "plt.xlabel(\"T\")\n",
    "plt.xlim((1, 200))\n",
    "plt.ylim((-0.5, 20))\n",
    "\n",
    "plt.legend()\n",
    "plt.show()"
   ]
  },
  {
   "cell_type": "code",
   "execution_count": null,
   "metadata": {},
   "outputs": [],
   "source": []
  }
 ],
 "metadata": {
  "kernelspec": {
   "display_name": "ENAPenv",
   "language": "python",
   "name": "python3"
  },
  "language_info": {
   "codemirror_mode": {
    "name": "ipython",
    "version": 3
   },
   "file_extension": ".py",
   "mimetype": "text/x-python",
   "name": "python",
   "nbconvert_exporter": "python",
   "pygments_lexer": "ipython3",
   "version": "3.10.4"
  }
 },
 "nbformat": 4,
 "nbformat_minor": 2
}

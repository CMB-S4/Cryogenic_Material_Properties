{
 "cells": [
  {
   "cell_type": "code",
   "execution_count": 45,
   "metadata": {},
   "outputs": [],
   "source": [
    "import numpy as np\n",
    "from tc_utils import *\n",
    "from scipy.special import erf"
   ]
  },
  {
   "cell_type": "code",
   "execution_count": 46,
   "metadata": {},
   "outputs": [
    {
     "name": "stdout",
     "output_type": "stream",
     "text": [
      "[-2.90667e-11, 9.80813e-08, -0.000114631, 0.0689719, 0.0, 0.0, 0.0, 0.0, 0.0] [0.0] 0.0\n"
     ]
    },
    {
     "data": {
      "image/png": "[encoded data removed]",
      "text/plain": [
       "<Figure size 432x288 with 1 Axes>"
      ]
     },
     "metadata": {
      "needs_background": "light"
     },
     "output_type": "display_data"
    },
    {
     "data": {
      "image/png": "[encoded data removed]",
      "text/plain": [
       "<Figure size 432x288 with 1 Axes>"
      ]
     },
     "metadata": {
      "needs_background": "light"
     },
     "output_type": "display_data"
    }
   ],
   "source": [
    "TCdata = np.loadtxt(\"..\\\\thermal_conductivity_compilation.csv\", dtype=str, delimiter=',')\n",
    "headers = TCdata[0]\n",
    "\n",
    "mat_names = TCdata[:,0]\n",
    "mat_row = TCdata[int(np.argwhere(mat_names == \"SS310\"))]\n",
    "num_hi = sum(1 for c in headers[4:] if c.isupper())\n",
    "num_low = sum(1 for c in headers[4:-1] if c.islower())\n",
    "fit_params = mat_row\n",
    "fit_params = np.char.replace(fit_params, \"^\", \"0\")\n",
    "# fit_range, low_param, hi_param, erf_param = np.array(mat_row[2:4], dtype=float), np.array(fit_params[:num_low], dtype=float), np.array(fit_params[num_low:-1], dtype=float), float(fit_params[-1])\n",
    "\n",
    "fit_range = np.array(mat_row[2:4], dtype=float)\n",
    "# zip headers\n",
    "# loop through headers and if lower case add to low_param etc\n",
    "\n",
    "low_param = []\n",
    "hi_param = []\n",
    "for key in headers[4:]:\n",
    "    if key.islower() and key != \"erf param\":\n",
    "        low_param.append(float(fit_params[int(np.argwhere(headers == key))]))\n",
    "    elif key.isupper():\n",
    "        hi_param.append(float(fit_params[int(np.argwhere(headers == key))]))\n",
    "    elif key == \"erf param\":\n",
    "        erf_param = float(fit_params[int(np.argwhere(headers == key))])\n",
    "\n",
    "\n",
    "T = np.logspace(np.log10(fit_range[0]),np.log10(fit_range[1]),100)\n",
    "\n",
    "mat = \"SS310\"\n",
    "\n",
    "xs = np.logspace(np.log10(fit_range[0]),np.log10(fit_range[1]),100)\n",
    "print(low_param, hi_param, erf_param)\n",
    "big_data, data_dict = parse_raw(mat, f\"lib\\{mat}\\RAW\", plots=False)\n",
    "# plot_datapoints(data_dict)\n",
    "plt.plot(xs, loglog_func(xs, low_param, hi_param, erf_param), label='combined fit')\n",
    "plt.semilogx()\n",
    "plt.semilogy()\n",
    "plt.ylabel(\"k\")\n",
    "plt.xlabel(\"T\")\n",
    "plt.legend()\n",
    "plt.show()\n",
    "\n",
    "\n",
    "low_fit = T*np.polyval(low_param, T)\n",
    "hi_fit = 10**np.polyval(hi_param, np.log10(T))\n",
    "\n",
    "plt.figure()\n",
    "# plt.plot(xs, loglog_func(xs, low_param, hi_param, erf_param)/xs, label='combined fit')\n",
    "plt.plot(xs, low_fit/xs, label='low fit')\n",
    "plt.plot(xs, hi_fit, label='high fit')\n",
    "\n",
    "plt.semilogx()\n",
    "plt.ylabel(\"k\")\n",
    "plt.xlabel(\"T\")\n",
    "plt.xlim((1, 200))\n",
    "plt.ylim((-0.5, 20))\n",
    "\n",
    "plt.legend()\n",
    "plt.show()"
   ]
  },
  {
   "cell_type": "code",
   "execution_count": 47,
   "metadata": {},
   "outputs": [
    {
     "name": "stdout",
     "output_type": "stream",
     "text": [
      "['SS310' 'loglog' '0.374' '1273.150' '-2.90667e-11' '9.80813e-08'\n",
      " '-1.14631e-04' '6.89719e-02' '^' '^' '^' '^' '^' '0.00000e+00'\n",
      " '0.00000e+00']\n"
     ]
    },
    {
     "ename": "ValueError",
     "evalue": "could not convert string to float: '^'",
     "output_type": "error",
     "traceback": [
      "\u001b[1;31m---------------------------------------------------------------------------\u001b[0m",
      "\u001b[1;31mValueError\u001b[0m                                Traceback (most recent call last)",
      "Input \u001b[1;32mIn [47]\u001b[0m, in \u001b[0;36m<cell line: 11>\u001b[1;34m()\u001b[0m\n\u001b[0;32m      9\u001b[0m fit_params \u001b[38;5;241m=\u001b[39m mat_row[\u001b[38;5;241m4\u001b[39m:]\n\u001b[0;32m     10\u001b[0m fit_params \u001b[38;5;241m=\u001b[39m np\u001b[38;5;241m.\u001b[39mchar\u001b[38;5;241m.\u001b[39mreplace(fit_params, \u001b[38;5;124m\"\u001b[39m\u001b[38;5;124m-\u001b[39m\u001b[38;5;124m\"\u001b[39m, \u001b[38;5;124m\"\u001b[39m\u001b[38;5;124m0\u001b[39m\u001b[38;5;124m\"\u001b[39m)\n\u001b[1;32m---> 11\u001b[0m fit_range, low_param, hi_param, erf_param \u001b[38;5;241m=\u001b[39m np\u001b[38;5;241m.\u001b[39marray(mat_row[\u001b[38;5;241m2\u001b[39m:\u001b[38;5;241m4\u001b[39m], dtype\u001b[38;5;241m=\u001b[39m\u001b[38;5;28mfloat\u001b[39m), \u001b[43mnp\u001b[49m\u001b[38;5;241;43m.\u001b[39;49m\u001b[43marray\u001b[49m\u001b[43m(\u001b[49m\u001b[43mfit_params\u001b[49m\u001b[43m[\u001b[49m\u001b[43m:\u001b[49m\u001b[43mnum_low\u001b[49m\u001b[43m]\u001b[49m\u001b[43m,\u001b[49m\u001b[43m \u001b[49m\u001b[43mdtype\u001b[49m\u001b[38;5;241;43m=\u001b[39;49m\u001b[38;5;28;43mfloat\u001b[39;49m\u001b[43m)\u001b[49m, np\u001b[38;5;241m.\u001b[39marray(fit_params[num_low:\u001b[38;5;241m-\u001b[39m\u001b[38;5;241m1\u001b[39m], dtype\u001b[38;5;241m=\u001b[39m\u001b[38;5;28mfloat\u001b[39m), \u001b[38;5;28mfloat\u001b[39m(fit_params[\u001b[38;5;241m-\u001b[39m\u001b[38;5;241m1\u001b[39m])\n\u001b[0;32m     17\u001b[0m a, b, c, d, e, f, g, h \u001b[38;5;241m=\u001b[39m [\u001b[38;5;241m0.071178604\u001b[39m,\n\u001b[0;32m     18\u001b[0m                             \u001b[38;5;241m0.003452896\u001b[39m,\n\u001b[0;32m     19\u001b[0m                             \u001b[38;5;241m-\u001b[39m\u001b[38;5;241m6.00E-05\u001b[39m,\n\u001b[1;32m   (...)\u001b[0m\n\u001b[0;32m     24\u001b[0m                             \u001b[38;5;241m-\u001b[39m\u001b[38;5;241m0.27572305\u001b[39m\n\u001b[0;32m     25\u001b[0m                             ]\n\u001b[0;32m     27\u001b[0m T \u001b[38;5;241m=\u001b[39m np\u001b[38;5;241m.\u001b[39mlogspace(np\u001b[38;5;241m.\u001b[39mlog10(fit_range[\u001b[38;5;241m0\u001b[39m]),np\u001b[38;5;241m.\u001b[39mlog10(fit_range[\u001b[38;5;241m1\u001b[39m]),\u001b[38;5;241m100\u001b[39m)\n",
      "\u001b[1;31mValueError\u001b[0m: could not convert string to float: '^'"
     ]
    }
   ],
   "source": [
    "TCdata = np.loadtxt(\"..\\\\thermal_conductivity_compilation.csv\", dtype=str, delimiter=',')\n",
    "headers = TCdata[0]\n",
    "\n",
    "mat_names = TCdata[:,0]\n",
    "mat_row = TCdata[int(np.argwhere(mat_names == \"SS310\"))]\n",
    "print(mat_row)\n",
    "num_hi = sum(1 for c in headers[4:] if c.isupper())\n",
    "num_low = sum(1 for c in headers[4:-1] if c.islower())\n",
    "fit_params = mat_row[4:]\n",
    "fit_params = np.char.replace(fit_params, \"-\", \"0\")\n",
    "fit_range, low_param, hi_param, erf_param = np.array(mat_row[2:4], dtype=float), np.array(fit_params[:num_low], dtype=float), np.array(fit_params[num_low:-1], dtype=float), float(fit_params[-1])\n",
    "\n",
    "\n",
    "\n",
    "\n",
    "\n",
    "a, b, c, d, e, f, g, h = [0.071178604,\n",
    "                            0.003452896,\n",
    "                            -6.00E-05,\n",
    "                            -4.89097297,\n",
    "                            8.19463992,\n",
    "                            -3.53989942,\n",
    "                            0.70776994,\n",
    "                            -0.27572305\n",
    "                            ]\n",
    "\n",
    "T = np.logspace(np.log10(fit_range[0]),np.log10(fit_range[1]),100)\n",
    "part1 = np.log10(a*T + b*T**2 + c*T**3+(3e-9)*T**5)\n",
    "erf1 = 0.5*(1-erf(15*(np.log10(T)-1.48)))\n",
    "part2 = (d + e*np.log10(T) + f*np.log10(T)**2 + g*np.log10(T)**3+h*np.exp(np.log10(T)))\n",
    "erf2 = 0.5*(1+erf(15*(np.log10(T)-1.48)))\n",
    "log10k = part1*erf1 + part2*erf2 \n",
    "\n",
    "\n",
    "\n",
    "\n",
    "\n",
    "mat = \"SS304\"\n",
    "\n",
    "print(fit_range)\n",
    "xs = np.logspace(np.log10(fit_range[0]),np.log10(fit_range[1]),100)\n",
    "\n",
    "print(low_param)\n",
    "big_data, data_dict = parse_raw(mat, f\"lib\\{mat}\\RAW\", plots=False)\n",
    "# plot_datapoints(data_dict)\n",
    "plt.plot(xs, loglog_func(xs, low_param, hi_param, erf_param), label='combined fit')\n",
    "plt.plot(T, 10**log10k, label=\"Ray's fit\")\n",
    "plt.semilogx()\n",
    "plt.semilogy()\n",
    "plt.ylabel(\"k\")\n",
    "plt.xlabel(\"T\")\n",
    "plt.legend()\n",
    "plt.show()\n",
    "\n",
    "\n",
    "low_fit = T*np.polyval(low_param, T)\n",
    "hi_fit = 10**np.polyval(hi_param, np.log10(T))\n",
    "\n",
    "plt.figure()\n",
    "# plt.plot(xs, loglog_func(xs, low_param, hi_param, erf_param)/xs, label='combined fit')\n",
    "plt.plot(xs, low_fit/xs, label='combined fit')\n",
    "\n",
    "# plt.plot(T, (10**log10k)/T, label=\"Ray's fit\")\n",
    "plt.plot(T, (10**part1)/T, label=\"part 1\")\n",
    "plt.plot(T, (10**erf1)/T, label=\"erf 1\")\n",
    "plt.plot(T, (10**erf2)/T, label=\"erf 2\")\n",
    "plt.plot(T, (10**part2)/T, label=\"part 2\")\n",
    "plt.semilogx()\n",
    "plt.semilogy()\n",
    "plt.ylabel(\"k/T\")\n",
    "plt.xlabel(\"T\")\n",
    "plt.xlim((np.min(xs),200))\n",
    "plt.ylim((0.01, 1))\n",
    "plt.legend()\n",
    "plt.show()\n",
    "\n",
    "plt.figure()\n",
    "# plt.plot(xs, loglog_func(xs, low_param, hi_param, erf_param), label='combined fit')\n",
    "plt.plot(xs, hi_fit, label='combined fit')\n",
    "\n",
    "plt.plot(T, (10**part1), label=\"part 1\")\n",
    "plt.plot(T, (10**erf1), label=\"erf 1\")\n",
    "plt.plot(T, (10**erf2), label=\"erf 2\")\n",
    "plt.plot(T, (10**part2), '-.', linewidth=5, label=\"part 2\", alpha=0.5)\n",
    "plt.semilogx()\n",
    "plt.ylabel(\"k\")\n",
    "plt.xlabel(\"T\")\n",
    "plt.xlim((200, np.max(xs)))\n",
    "plt.ylim((-0.5, 40))\n",
    "\n",
    "plt.legend()\n",
    "plt.show()"
   ]
  },
  {
   "cell_type": "code",
   "execution_count": null,
   "metadata": {},
   "outputs": [],
   "source": []
  }
 ],
 "metadata": {
  "kernelspec": {
   "display_name": "ENAPenv",
   "language": "python",
   "name": "python3"
  },
  "language_info": {
   "codemirror_mode": {
    "name": "ipython",
    "version": 3
   },
   "file_extension": ".py",
   "mimetype": "text/x-python",
   "name": "python",
   "nbconvert_exporter": "python",
   "pygments_lexer": "ipython3",
   "version": "3.10.4"
  }
 },
 "nbformat": 4,
 "nbformat_minor": 2
}

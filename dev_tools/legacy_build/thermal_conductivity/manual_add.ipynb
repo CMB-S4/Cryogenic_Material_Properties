{
 "cells": [
  {
   "cell_type": "markdown",
   "metadata": {},
   "source": [
    "## Thermal Conductivity Fit - Manual Add\n",
    "Developed by Henry Nachman\n",
    "\n",
    "Last Edited: 14 March 2024"
   ]
  },
  {
   "cell_type": "code",
   "execution_count": 53,
   "metadata": {},
   "outputs": [],
   "source": [
    "import numpy as np\n",
    "import csv, os\n",
    "\n",
    "from tc_utils import *"
   ]
  },
  {
   "cell_type": "code",
   "execution_count": 54,
   "metadata": {},
   "outputs": [],
   "source": [
    "def manual_add_monofit(*args):\n",
    "    fit_args = dict_monofit(low_fit, low_fit_xs,  fit_types)\n",
    "    output_array = format_monofit(fit_args)\n",
    "    print(output_array)\n",
    "\n",
    "    material_folder = f\"lib\\{material_name}\"\n",
    "    if not os.path.exists(material_folder):\n",
    "        os.mkdir(material_folder)\n",
    "\n",
    "    if \"NIST\"in fit_types[0]:\n",
    "        output_folder = f\"lib\\{material_name}\\\\NIST\"\n",
    "        if not os.path.exists(output_folder):\n",
    "            os.mkdir(output_folder)\n",
    "        create_tc_csv(output_array, f\"{output_folder}\\{material_name}.csv\")\n",
    "    else:\n",
    "        output_folder = f\"lib\\{material_name}\\OTHERFITS\"\n",
    "        if not os.path.exists(output_folder):\n",
    "            os.mkdir(output_folder)\n",
    "        create_tc_csv(output_array, f\"{output_folder}\\{material_name}.csv\")\n",
    "    with open(f\"{output_folder}\\\\reference.txt\", 'w') as file:\n",
    "            file.write(f\"{reference}\")\n",
    "\n",
    "def manual_add_combofit(*args):\n",
    "    fit_args = dict_combofit(low_fit, low_fit_xs, hi_fit, hi_fit_xs, (3,3), fit_types, erf_loc)\n",
    "\n",
    "    fit_args[\"low_perc_err\"]      =  perc_diff_low\n",
    "    fit_args[\"hi_perc_err\"]       =  perc_diff_hi\n",
    "    fit_args[\"combined_perc_err\"] =  perc_diff_combo\n",
    "\n",
    "    output_array = format_combofit(fit_args)\n",
    "    print(output_array)\n",
    "\n",
    "    material_folder = f\"lib\\{material_name}\"\n",
    "    if not os.path.exists(material_folder):\n",
    "        os.mkdir(material_folder)\n",
    "\n",
    "    if \"NIST\"in fit_types[0]:\n",
    "        output_folder = f\"lib\\{material_name}\\\\NIST\"\n",
    "        if not os.path.exists(output_folder):\n",
    "            os.mkdir(output_folder)\n",
    "        create_tc_csv(output_array, f\"{output_folder}\\{material_name}.csv\")\n",
    "    else:\n",
    "        output_folder = f\"lib\\{material_name}\\OTHERFITS\"\n",
    "        if not os.path.exists(output_folder):\n",
    "            os.mkdir(output_folder)\n",
    "        create_tc_csv(output_array, f\"{output_folder}\\{material_name}.csv\")\n",
    "    with open(f\"{output_folder}\\\\reference.txt\", 'w') as file:\n",
    "            file.write(f\"{reference}\")"
   ]
  },
  {
   "cell_type": "code",
   "execution_count": 55,
   "metadata": {},
   "outputs": [
    {
     "name": "stdout",
     "output_type": "stream",
     "text": [
      "[{'Fit Type': '3 order RRadebaugh 2', 'Low Temp': '0.300', 'High Temp': '30.000', 'Perc Err': '7.000', 'a': '7.11786e-02', 'b': '3.45290e-03', 'c': '-6.00000e-05', 'A': '0.00000e+00', 'B': '0.00000e+00', 'C': '0.00000e+00', 'D': '0.00000e+00', 'E': '0.00000e+00', 'erf param': '0.00000e+00'}, {'Fit Type': '3 order RRadebaugh 2', 'Low Temp': '28.000', 'High Temp': '1707.000', 'Perc Err': '2.000', 'a': '-4.97617e+00', 'b': '8.31635e+00', 'c': '-3.59726e+00', 'A': '7.16110e-01', 'B': '-2.75070e-01', 'C': '0.00000e+00', 'D': '0.00000e+00', 'E': '0.00000e+00', 'erf param': '0.00000e+00'}, {'Fit Type': 'loglog', 'Low Temp': '0.300', 'High Temp': '1707.000', 'Perc Err': '0.000', 'a': '7.11786e-02', 'b': '3.45290e-03', 'c': '-6.00000e-05', 'A': '-4.97617e+00', 'B': '8.31635e+00', 'C': '-3.59726e+00', 'D': '7.16110e-01', 'E': '-2.75070e-01', 'erf param': '3.20000e+01'}]\n"
     ]
    }
   ],
   "source": [
    "material_name = \"Stainless_Steel_304\"\n",
    "\n",
    "low_fit    = np.array([7.11786e-02,3.45290e-03,-6.00000e-05])\n",
    "low_fit_xs = np.array([0.3, 30])\n",
    "hi_fit    = np.array([-4.97617e+00,8.31635e+00,-3.59726e+00,7.16110e-01,-2.75070e-01])\n",
    "hi_fit_xs = np.log10(np.array([28, 1707]))\n",
    "erf_loc = 32\n",
    "perc_diff_low, perc_diff_hi, perc_diff_combo = [7,2,0]\n",
    "fit_types = [\"RRadebaugh 2\", \"RRadebaugh 2\"]\n",
    "reference = \"R. Radebaugh\"\n",
    "\n",
    "manual_add_combofit(low_fit, low_fit_xs, hi_fit, hi_fit_xs, erf_loc, perc_diff_low, perc_diff_hi, perc_diff_combo, fit_types, reference)\n"
   ]
  },
  {
   "cell_type": "code",
   "execution_count": 56,
   "metadata": {},
   "outputs": [
    {
     "name": "stdout",
     "output_type": "stream",
     "text": [
      "[{'Fit Type': '3 order RRadebaugh 2', 'Low Temp': '0.400', 'High Temp': '40.000', 'Perc Err': '7.000', 'a': '6.75210e-02', 'b': '3.21340e-03', 'c': '-1.00360e-04', 'd': '8.41076e-07', 'A': '0.00000e+00', 'B': '0.00000e+00', 'C': '0.00000e+00', 'D': '0.00000e+00', 'E': '0.00000e+00', 'erf param': '0.00000e+00'}, {'Fit Type': '3 order RRadebaugh 2', 'Low Temp': '40.000', 'High Temp': '1673.000', 'Perc Err': '2.000', 'a': '-6.56501e+00', 'b': '1.12414e+01', 'c': '-6.47243e+00', 'd': '1.67565e+00', 'A': '-1.57699e-01', 'B': '0.00000e+00', 'C': '0.00000e+00', 'D': '0.00000e+00', 'E': '0.00000e+00', 'erf param': '0.00000e+00'}, {'Fit Type': 'loglog', 'Low Temp': '0.400', 'High Temp': '1673.000', 'Perc Err': '0.000', 'a': '6.75210e-02', 'b': '3.21340e-03', 'c': '-1.00360e-04', 'd': '8.41076e-07', 'A': '-6.56501e+00', 'B': '1.12414e+01', 'C': '-6.47243e+00', 'D': '1.67565e+00', 'E': '-1.57699e-01', 'erf param': '4.00000e+01'}]\n"
     ]
    }
   ],
   "source": [
    "material_name = \"Stainless_Steel_310\"\n",
    "\n",
    "low_fit    = np.array([0.067521021, 0.003213405, -0.000100360, 8.41076e-7])\n",
    "low_fit_xs = np.array([0.4, 40])\n",
    "hi_fit    = np.array([-6.56501217, 11.24142889, -6.47242795, 1.675652401, -0.15769896])\n",
    "hi_fit_xs = np.log10(np.array([40, 1673]))\n",
    "erf_loc = 40\n",
    "perc_diff_low, perc_diff_hi, perc_diff_combo = [7,2,0]\n",
    "fit_types = [\"RRadebaugh 2\", \"RRadebaugh 2\"]\n",
    "reference = \"R. Radebaugh\"\n",
    "\n",
    "manual_add_combofit(low_fit, low_fit_xs, hi_fit, hi_fit_xs, erf_loc, perc_diff_low, perc_diff_hi, perc_diff_combo, fit_types, reference)\n"
   ]
  },
  {
   "cell_type": "code",
   "execution_count": 57,
   "metadata": {},
   "outputs": [
    {
     "name": "stdout",
     "output_type": "stream",
     "text": [
      "[{'Fit Type': '3 order RRadebaugh 1', 'Low Temp': '0.050', 'High Temp': '30.000', 'Perc Err': '0.000', 'a': '5.10400e-02', 'b': '5.60000e-03', 'c': '-2.70000e-04', 'A': '0.00000e+00', 'B': '0.00000e+00', 'C': '0.00000e+00', 'D': '0.00000e+00', 'E': '0.00000e+00', 'erf param': '0.00000e+00'}, {'Fit Type': '3 order RRadebaugh 1', 'Low Temp': '30.000', 'High Temp': '1670.000', 'Perc Err': '0.000', 'a': '-4.88198e+00', 'b': '8.09584e+00', 'c': '-3.49853e+00', 'A': '6.86560e-01', 'B': '-2.52200e-01', 'C': '0.00000e+00', 'D': '0.00000e+00', 'E': '0.00000e+00', 'erf param': '0.00000e+00'}, {'Fit Type': 'loglog', 'Low Temp': '0.050', 'High Temp': '1670.000', 'Perc Err': '2.000', 'a': '5.10400e-02', 'b': '5.60000e-03', 'c': '-2.70000e-04', 'A': '-4.88198e+00', 'B': '8.09584e+00', 'C': '-3.49853e+00', 'D': '6.86560e-01', 'E': '-2.52200e-01', 'erf param': '3.01995e+01'}]\n"
     ]
    }
   ],
   "source": [
    "material_name = \"Stainless_Steel_316\"\n",
    "\n",
    "low_fit    = np.array([0.05104, 0.0056, -0.00027])\n",
    "low_fit_xs = np.array([0.05, 30])\n",
    "hi_fit    = np.array([-4.88198, 8.09584, -3.49853, 0.68656, -0.2522])\n",
    "hi_fit_xs = np.log10(np.array([30, 1670]))\n",
    "erf_loc = 10**1.48\n",
    "perc_diff_low, perc_diff_hi, perc_diff_combo = [0,0,2]\n",
    "fit_types = [\"RRadebaugh 1\", \"RRadebaugh 1\"]\n",
    "reference = \"R. Radebaugh\"\n",
    "\n",
    "manual_add_combofit(low_fit, low_fit_xs, hi_fit, hi_fit_xs, erf_loc, perc_diff_low, perc_diff_hi, perc_diff_combo, fit_types, reference)\n"
   ]
  },
  {
   "cell_type": "code",
   "execution_count": 58,
   "metadata": {},
   "outputs": [
    {
     "name": "stdout",
     "output_type": "stream",
     "text": [
      "[{'Fit Type': '3 order RRadebaugh 3', 'Low Temp': '0.400', 'High Temp': '45.000', 'Perc Err': '7.000', 'a': '5.90900e-02', 'b': '2.99000e-03', 'c': '-3.83000e-05', 'A': '0.00000e+00', 'B': '0.00000e+00', 'C': '0.00000e+00', 'D': '0.00000e+00', 'E': '0.00000e+00', 'erf param': '0.00000e+00'}, {'Fit Type': '3 order RRadebaugh 3', 'Low Temp': '45.000', 'High Temp': '1623.000', 'Perc Err': '2.000', 'a': '4.81282e+01', 'b': '-3.33984e+01', 'c': '8.65271e+00', 'A': '-7.84620e-01', 'B': '-6.42213e+01', 'C': '0.00000e+00', 'D': '0.00000e+00', 'E': '0.00000e+00', 'erf param': '0.00000e+00'}, {'Fit Type': 'loglog', 'Low Temp': '0.400', 'High Temp': '1623.000', 'Perc Err': '0.000', 'a': '5.90900e-02', 'b': '2.99000e-03', 'c': '-3.83000e-05', 'A': '4.81282e+01', 'B': '-3.33984e+01', 'C': '8.65271e+00', 'D': '-7.84620e-01', 'E': '-6.42213e+01', 'erf param': '5.01187e+01'}]\n"
     ]
    }
   ],
   "source": [
    "material_name = \"Stainless_Steel_321\"\n",
    "\n",
    "low_fit    = np.array([0.05909, 0.00299, -3.83e-5])\n",
    "low_fit_xs = np.array([0.4, 45])\n",
    "hi_fit    = np.array([48.1282, -33.3984, 8.65271, -0.78462, -64.2213])\n",
    "hi_fit_xs = np.log10(np.array([45, 1623]))\n",
    "erf_loc = 10**1.7\n",
    "perc_diff_low, perc_diff_hi, perc_diff_combo = [7,2,0]\n",
    "fit_types = [\"RRadebaugh 3\", \"RRadebaugh 3\"]\n",
    "reference = \"R. Radebaugh\"\n",
    "\n",
    "manual_add_combofit(low_fit, low_fit_xs, hi_fit, hi_fit_xs, erf_loc, perc_diff_low, perc_diff_hi, perc_diff_combo, fit_types, reference)\n"
   ]
  },
  {
   "cell_type": "code",
   "execution_count": 59,
   "metadata": {},
   "outputs": [
    {
     "name": "stdout",
     "output_type": "stream",
     "text": [
      "[{'Fit Type': '3 order RRadebaugh 3', 'Low Temp': '0.050', 'High Temp': '0.350', 'Perc Err': '0.000', 'a': '-1.16595e+00', 'b': '2.45597e+00', 'A': '0.00000e+00', 'B': '0.00000e+00', 'C': '0.00000e+00', 'D': '0.00000e+00', 'E': '0.00000e+00', 'F': '0.00000e+00', 'erf param': '0.00000e+00'}, {'Fit Type': '3 order RRadebaugh 3', 'Low Temp': '0.350', 'High Temp': '1200.000', 'Perc Err': '0.000', 'a': '-1.43048e+00', 'b': '1.62127e+00', 'A': '-5.17290e-01', 'B': '2.76890e-01', 'C': '-1.28010e-01', 'D': '2.19200e-02', 'E': '0.00000e+00', 'F': '0.00000e+00', 'erf param': '0.00000e+00'}, {'Fit Type': 'loglog', 'Low Temp': '0.050', 'High Temp': '1200.000', 'Perc Err': '2.000', 'a': '-1.16595e+00', 'b': '2.45597e+00', 'A': '-1.43048e+00', 'B': '1.62127e+00', 'C': '-5.17290e-01', 'D': '2.76890e-01', 'E': '-1.28010e-01', 'F': '2.19200e-02', 'erf param': '2.88403e+00'}]\n"
     ]
    }
   ],
   "source": [
    "material_name = \"Ti6Al4V\"\n",
    "\n",
    "low_fit    = np.array([-1.16595, 2.45597])\n",
    "low_fit_xs = np.array([0.05, 0.35])\n",
    "hi_fit    = np.array([-1.43048, 1.62127, -0.51729, 0.27689, -0.12801, 0.02192])\n",
    "hi_fit_xs = np.log10(np.array([0.35, 1200]))\n",
    "erf_loc = 10**0.46\n",
    "perc_diff_low, perc_diff_hi, perc_diff_combo = [0,0,2]\n",
    "fit_types = [\"RRadebaugh 3\", \"RRadebaugh 3\"]\n",
    "reference = \"R. Radebaugh\"\n",
    "\n",
    "manual_add_combofit(low_fit, low_fit_xs, hi_fit, hi_fit_xs, erf_loc, perc_diff_low, perc_diff_hi, perc_diff_combo, fit_types, reference)\n"
   ]
  },
  {
   "cell_type": "code",
   "execution_count": 60,
   "metadata": {},
   "outputs": [
    {
     "name": "stdout",
     "output_type": "stream",
     "text": [
      "[{'Fit Type': 'ExcelNIST5a-3', 'Low Temp': '0.100', 'High Temp': '300.000', 'Perc Err': '??', 'a': '5.00000e+00', 'b': '-2.31000e+00', 'c': '5.71000e+00', 'd': '-7.43946e-01', 'e': '4.43023e+00', 'f': '-3.91106e-01', 'g': '-3.69351e-01', 'h': '9.05807e-02'}]\n"
     ]
    }
   ],
   "source": [
    "material_name = \"Manganin\"\n",
    "\n",
    "low_fit    = np.array([5, -2.31, 5.71, -0.743946, 4.4302265, -0.391106, -0.369351, 0.0905807])\n",
    "low_fit_xs = np.array([0.1, 300])\n",
    "\n",
    "perc_diff = 0\n",
    "fit_types = \"ExcelNIST5a-3\"\n",
    "reference = \"ExcelNIST5a\"\n",
    "\n",
    "manual_add_monofit(low_fit, low_fit_xs, fit_types, reference)\n"
   ]
  },
  {
   "cell_type": "code",
   "execution_count": 61,
   "metadata": {},
   "outputs": [
    {
     "name": "stdout",
     "output_type": "stream",
     "text": [
      "[{'Fit Type': 'ExcelNIST5a-5', 'Low Temp': '0.300', 'High Temp': '1811.000', 'Perc Err': '??'}]\n"
     ]
    }
   ],
   "source": [
    "material_name = \"FeRRR\"\n",
    "\n",
    "low_fit    = np.array([8.70E-08])\n",
    "low_fit_xs = np.array([0.3, 1811])\n",
    "\n",
    "perc_diff = 0\n",
    "fit_types = \"ExcelNIST5a-5\"\n",
    "reference = \"ExcelNIST5a\"\n",
    "\n",
    "manual_add_monofit(low_fit, low_fit_xs, fit_types, reference)\n"
   ]
  },
  {
   "cell_type": "code",
   "execution_count": 62,
   "metadata": {},
   "outputs": [
    {
     "name": "stdout",
     "output_type": "stream",
     "text": [
      "[{'Fit Type': 'ExcelNIST5a-5', 'Low Temp': '0.300', 'High Temp': '3695.000', 'Perc Err': '??'}]\n"
     ]
    }
   ],
   "source": [
    "material_name = \"WWRRR\"\n",
    "\n",
    "low_fit    = np.array([4.84E-08])\n",
    "low_fit_xs = np.array([0.3, 3695])\n",
    "\n",
    "perc_diff = 0\n",
    "fit_types = \"ExcelNIST5a-5\"\n",
    "reference = \"ExcelNIST5a\"\n",
    "\n",
    "manual_add_monofit(low_fit, low_fit_xs, fit_types, reference)"
   ]
  },
  {
   "cell_type": "code",
   "execution_count": 63,
   "metadata": {},
   "outputs": [
    {
     "name": "stdout",
     "output_type": "stream",
     "text": [
      "[{'Fit Type': 'ExcelNIST5a-3', 'Low Temp': '0.100', 'High Temp': '300.000', 'Perc Err': '??', 'a': '6.00000e+00', 'b': '-2.31000e+00', 'c': '5.71000e+00', 'd': '-4.21155e-01', 'e': '4.51269e+00', 'f': '-6.81198e-01', 'g': '-4.50256e-01', 'h': '1.00420e-01', 'i': '6.45863e-02'}]\n"
     ]
    }
   ],
   "source": [
    "material_name = \"Constantan\"\n",
    "\n",
    "low_fit    = np.array([6,-2.31,5.71,-0.421154722,4.51269421,-0.681198468,-0.450256054,0.100419547,0.064586295])\n",
    "low_fit_xs = np.array([0.1, 300])\n",
    "\n",
    "perc_diff = 0\n",
    "fit_types = \"ExcelNIST5a-3\"\n",
    "reference = \"ExcelNIST5a\"\n",
    "\n",
    "manual_add_monofit(low_fit, low_fit_xs, fit_types, reference)"
   ]
  },
  {
   "cell_type": "code",
   "execution_count": 64,
   "metadata": {},
   "outputs": [
    {
     "name": "stdout",
     "output_type": "stream",
     "text": [
      "[{'Fit Type': 'ExcelNIST5a-3', 'Low Temp': '0.100', 'High Temp': '40.000', 'Perc Err': '??', 'a': '4.00000e+00', 'b': '-2.31000e+00', 'c': '5.71000e+00', 'd': '-7.05008e+00', 'e': '5.83258e+00', 'f': '9.40642e-01', 'g': '2.06473e-01'}]\n"
     ]
    }
   ],
   "source": [
    "material_name = \"Kapton\" #different from NIST\n",
    "\n",
    "low_fit    = np.array([4,-2.31,5.71,-7.050082488,5.832582395,0.94064163,0.206472971])\n",
    "low_fit_xs = np.array([0.1, 40])\n",
    "\n",
    "perc_diff = 0\n",
    "fit_types = \"ExcelNIST5a-3\"\n",
    "reference = \"ExcelNIST5a\"\n",
    "\n",
    "manual_add_monofit(low_fit, low_fit_xs, fit_types, reference)"
   ]
  },
  {
   "cell_type": "code",
   "execution_count": 65,
   "metadata": {},
   "outputs": [
    {
     "name": "stdout",
     "output_type": "stream",
     "text": [
      "[{'Fit Type': 'ExcelNIST5a-1', 'Low Temp': '4.000', 'High Temp': '300.000', 'Perc Err': '??', 'a': '5.73101e+00', 'b': '-3.95199e+01', 'c': '7.99313e+01', 'd': '-8.38572e+01', 'e': '5.09157e+01', 'f': '-1.79835e+01', 'g': '3.42413e+00', 'h': '-2.71330e-01', 'i': '0.00000e+00'}]\n"
     ]
    }
   ],
   "source": [
    "material_name = \"Kaptona\" \n",
    "\n",
    "low_fit    = np.array([5.73101,-39.5199,79.9313,-83.8572,50.9157,-17.9835,3.42413,-0.27133,0])\n",
    "low_fit_xs = np.array([4, 300])\n",
    "\n",
    "perc_diff = 0\n",
    "fit_types = \"ExcelNIST5a-1\"\n",
    "reference = \"ExcelNIST5a\"\n",
    "\n",
    "manual_add_monofit(low_fit, low_fit_xs, fit_types, reference)"
   ]
  },
  {
   "cell_type": "code",
   "execution_count": 66,
   "metadata": {},
   "outputs": [
    {
     "name": "stdout",
     "output_type": "stream",
     "text": [
      "[{'Fit Type': 'ExcelNIST5a-1', 'Low Temp': '1.000', 'High Temp': '300.000', 'Perc Err': '??', 'a': '-6.56571e-01', 'b': '1.41239e+00', 'c': '1.55107e-01', 'd': '-2.86123e-01', 'e': '5.93604e-02'}]\n"
     ]
    }
   ],
   "source": [
    "material_name = \"Phosphorbronze\" \n",
    "\n",
    "low_fit    = np.array([-0.656571061,1.41238594,0.155106502,-0.286123193,0.059360362])\n",
    "low_fit_xs = np.array([1, 300])\n",
    "\n",
    "perc_diff = 0\n",
    "fit_types = \"ExcelNIST5a-1\"\n",
    "reference = \"ExcelNIST5a\"\n",
    "\n",
    "manual_add_monofit(low_fit, low_fit_xs, fit_types, reference)"
   ]
  },
  {
   "cell_type": "code",
   "execution_count": 67,
   "metadata": {},
   "outputs": [
    {
     "name": "stdout",
     "output_type": "stream",
     "text": [
      "[{'Fit Type': 'ExcelNIST5a-4', 'Low Temp': '0.010', 'High Temp': '4.000', 'Perc Err': '??', 'a': '4.00000e+00', 'b': '1.00000e-02', 'c': '1.00000e+00', 'd': '3.60000e-01', 'e': '1.00000e-02'}]\n"
     ]
    }
   ],
   "source": [
    "material_name = \"Phosbronze\" \n",
    "\n",
    "low_fit    = np.array([4,0.01,1,0.36,0.01])\n",
    "low_fit_xs = np.array([0.01, 4])\n",
    "\n",
    "perc_diff = 0\n",
    "fit_types = \"ExcelNIST5a-4\"\n",
    "reference = \"ExcelNIST5a\"\n",
    "\n",
    "manual_add_monofit(low_fit, low_fit_xs, fit_types, reference)"
   ]
  },
  {
   "cell_type": "code",
   "execution_count": 68,
   "metadata": {},
   "outputs": [
    {
     "name": "stdout",
     "output_type": "stream",
     "text": [
      "[{'Fit Type': 'ExcelNIST5a-4', 'Low Temp': '0.010', 'High Temp': '4.000', 'Perc Err': '??', 'a': '4.00000e+00', 'b': '1.00000e-02', 'c': '1.20000e+00', 'd': '1.40000e-01', 'e': '1.00000e-02'}]\n"
     ]
    }
   ],
   "source": [
    "material_name = \"Phosbronze2\" \n",
    "\n",
    "low_fit    = np.array([4,0.01,1.2,0.14,0.01])\n",
    "low_fit_xs = np.array([0.01, 4])\n",
    "\n",
    "perc_diff = 0\n",
    "fit_types = \"ExcelNIST5a-4\"\n",
    "reference = \"ExcelNIST5a\"\n",
    "\n",
    "manual_add_monofit(low_fit, low_fit_xs, fit_types, reference)"
   ]
  },
  {
   "cell_type": "code",
   "execution_count": 69,
   "metadata": {},
   "outputs": [
    {
     "name": "stdout",
     "output_type": "stream",
     "text": [
      "[{'Fit Type': '3 order ExcelNIST5a-4', 'Low Temp': '0.010', 'High Temp': '4.000', 'Perc Err': '0.000', 'a': '3.00000e+00', 'b': '1.00000e-02', 'c': '1.00000e+00', 'd': '3.60000e-01', 'e': '1.00000e-02', 'A': '0.00000e+00', 'B': '0.00000e+00', 'C': '0.00000e+00', 'D': '0.00000e+00', 'E': '0.00000e+00', 'F': '0.00000e+00', 'erf param': '0.00000e+00'}, {'Fit Type': '3 order ExcelNIST5a-4', 'Low Temp': '4.000', 'High Temp': '300.000', 'Perc Err': '0.000', 'a': '-6.56571e-01', 'b': '1.41239e+00', 'c': '1.55107e-01', 'd': '-2.86123e-01', 'e': '5.93604e-02', 'A': '0.00000e+00', 'B': '0.00000e+00', 'C': '0.00000e+00', 'D': '0.00000e+00', 'E': '0.00000e+00', 'F': '0.00000e+00', 'erf param': '0.00000e+00'}, {'Fit Type': 'loglog', 'Low Temp': '0.010', 'High Temp': '300.000', 'Perc Err': '0.000', 'a': '3.00000e+00', 'b': '1.00000e-02', 'c': '1.00000e+00', 'd': '3.60000e-01', 'e': '1.00000e-02', 'A': '-6.56571e-01', 'B': '1.41239e+00', 'C': '1.55107e-01', 'D': '-2.86123e-01', 'E': '5.93604e-02', 'F': '0.00000e+00', 'erf param': '4.00000e+00'}]\n"
     ]
    }
   ],
   "source": [
    "material_name = \"Phosbronze3\"\n",
    "\n",
    "low_fit    = np.array([3,0.01,1,0.36,0.01])\n",
    "low_fit_xs = np.array([0.01, 4])\n",
    "hi_fit    = np.array([-0.656571061,1.41238594,0.155106502,-0.286123193,0.059360362,0])\n",
    "hi_fit_xs = np.log10(np.array([4, 300]))\n",
    "erf_loc = 4\n",
    "perc_diff_low, perc_diff_hi, perc_diff_combo = [0,0,0]\n",
    "fit_types = [\"ExcelNIST5a-4\", \"ExcelNIST5a-4\"]\n",
    "reference = \"ExcelNIST5a\"\n",
    "\n",
    "manual_add_combofit(low_fit, low_fit_xs, hi_fit, hi_fit_xs, erf_loc, perc_diff_low, perc_diff_hi, perc_diff_combo, fit_types, reference)\n"
   ]
  },
  {
   "cell_type": "code",
   "execution_count": 70,
   "metadata": {},
   "outputs": [
    {
     "name": "stdout",
     "output_type": "stream",
     "text": [
      "[{'Fit Type': 'ExcelNIST5a-4', 'Low Temp': '0.010', 'High Temp': '2.000', 'Perc Err': '??', 'a': '4.00000e+00', 'b': '1.00000e-02', 'c': '2.00000e+00', 'd': '2.70000e-02', 'e': '1.00000e-02'}]\n"
     ]
    }
   ],
   "source": [
    "material_name = \"NbTi\" \n",
    "\n",
    "low_fit    = np.array([4,0.01,2,0.027,0.01])\n",
    "low_fit_xs = np.array([0.01, 2])\n",
    "\n",
    "perc_diff = 0\n",
    "fit_types = \"ExcelNIST5a-4\"\n",
    "reference = \"ExcelNIST5a\"\n",
    "\n",
    "manual_add_monofit(low_fit, low_fit_xs, fit_types, reference)"
   ]
  },
  {
   "cell_type": "code",
   "execution_count": 71,
   "metadata": {},
   "outputs": [
    {
     "name": "stdout",
     "output_type": "stream",
     "text": [
      "[{'Fit Type': 'ExcelNIST5a-1', 'Low Temp': '4.000', 'High Temp': '300.000', 'Perc Err': '??', 'a': '-1.50540e+00', 'b': '1.40318e+00', 'c': '1.71974e-01', 'd': '-1.29564e-01'}]\n"
     ]
    }
   ],
   "source": [
    "material_name = \"Nichrome\" \n",
    "\n",
    "low_fit    = np.array([-1.505403413,1.403178849,0.171974361,-0.12956423])\n",
    "low_fit_xs = np.array([4, 300])\n",
    "\n",
    "perc_diff = 0\n",
    "fit_types = \"ExcelNIST5a-1\"\n",
    "reference = \"ExcelNIST5a\"\n",
    "\n",
    "manual_add_monofit(low_fit, low_fit_xs, fit_types, reference)"
   ]
  },
  {
   "cell_type": "code",
   "execution_count": 72,
   "metadata": {},
   "outputs": [
    {
     "name": "stdout",
     "output_type": "stream",
     "text": [
      "[{'Fit Type': 'ExcelNIST5a-4', 'Low Temp': '0.150', 'High Temp': '1.000', 'Perc Err': '??', 'a': '3.00000e+02', 'b': '1.00000e-02', 'c': '1.76000e+00', 'd': '5.10000e-03'}]\n"
     ]
    }
   ],
   "source": [
    "material_name = \"Graphite\" \n",
    "\n",
    "low_fit    = np.array([300,0.01,1.76,0.0051])\n",
    "low_fit_xs = np.array([0.15, 1])\n",
    "\n",
    "perc_diff = 0\n",
    "fit_types = \"ExcelNIST5a-4\"\n",
    "reference = \"ExcelNIST5a\"\n",
    "\n",
    "manual_add_monofit(low_fit, low_fit_xs, fit_types, reference)"
   ]
  },
  {
   "cell_type": "code",
   "execution_count": 73,
   "metadata": {},
   "outputs": [
    {
     "name": "stdout",
     "output_type": "stream",
     "text": [
      "[{'Fit Type': 'ExcelNIST5a-1', 'Low Temp': '0.060', 'High Temp': '4.220', 'Perc Err': '??', 'a': '-2.69698e+00', 'b': '1.57311e+00', 'c': '6.10351e-01', 'd': '2.46304e-01', 'e': '-5.84836e-02', 'f': '-9.37299e-02', 'g': '-2.66527e-02'}]\n"
     ]
    }
   ],
   "source": [
    "material_name = \"Graphite_a\" \n",
    "\n",
    "low_fit    = np.array([-2.696976621,1.573108163,0.610350569,0.246303924,-0.058483561,-0.093729948,-0.026652708])\n",
    "low_fit_xs = np.array([0.06, 4.22])\n",
    "\n",
    "perc_diff = 0\n",
    "fit_types = \"ExcelNIST5a-1\"\n",
    "reference = \"ExcelNIST5a\"\n",
    "\n",
    "manual_add_monofit(low_fit, low_fit_xs, fit_types, reference)"
   ]
  },
  {
   "cell_type": "code",
   "execution_count": 74,
   "metadata": {},
   "outputs": [
    {
     "name": "stdout",
     "output_type": "stream",
     "text": [
      "[{'Fit Type': 'ExcelNIST5a-1', 'Low Temp': '0.060', 'High Temp': '4.220', 'Perc Err': '??', 'a': '-2.69559e+00', 'b': '1.57652e+00', 'c': '5.81122e-01', 'd': '2.08721e-01', 'e': '3.57325e-03'}]\n"
     ]
    }
   ],
   "source": [
    "material_name = \"Graphite_p\" \n",
    "\n",
    "low_fit    = np.array([-2.695592847,1.576517202,0.581122065,0.208720961,0.003573249])\n",
    "low_fit_xs = np.array([0.06, 4.22])\n",
    "\n",
    "perc_diff = 0\n",
    "fit_types = \"ExcelNIST5a-1\"\n",
    "reference = \"ExcelNIST5a\"\n",
    "\n",
    "manual_add_monofit(low_fit, low_fit_xs, fit_types, reference)"
   ]
  },
  {
   "cell_type": "code",
   "execution_count": 75,
   "metadata": {},
   "outputs": [
    {
     "name": "stdout",
     "output_type": "stream",
     "text": [
      "[{'Fit Type': 'ExcelNIST5a-4', 'Low Temp': '0.100', 'High Temp': '5.000', 'Perc Err': '??', 'a': '5.00000e+00', 'b': '1.00000e-02', 'c': '1.27150e+00', 'd': '7.50000e-03'}]\n"
     ]
    }
   ],
   "source": [
    "material_name = \"Graphite_brad\" \n",
    "\n",
    "low_fit    = np.array([5,0.01,1.2715,0.0075])\n",
    "low_fit_xs = np.array([0.1, 5.0])\n",
    "\n",
    "perc_diff = 0\n",
    "fit_types = \"ExcelNIST5a-4\"\n",
    "reference = \"ExcelNIST5a\"\n",
    "\n",
    "manual_add_monofit(low_fit, low_fit_xs, fit_types, reference)"
   ]
  },
  {
   "cell_type": "code",
   "execution_count": null,
   "metadata": {},
   "outputs": [],
   "source": []
  }
 ],
 "metadata": {
  "kernelspec": {
   "display_name": "ENAPenv",
   "language": "python",
   "name": "python3"
  },
  "language_info": {
   "codemirror_mode": {
    "name": "ipython",
    "version": 3
   },
   "file_extension": ".py",
   "mimetype": "text/x-python",
   "name": "python",
   "nbconvert_exporter": "python",
   "pygments_lexer": "ipython3",
   "version": "3.10.14"
  }
 },
 "nbformat": 4,
 "nbformat_minor": 2
}

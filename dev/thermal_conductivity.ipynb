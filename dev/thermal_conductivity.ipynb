{
 "cells": [
  {
   "cell_type": "code",
   "execution_count": null,
   "metadata": {},
   "outputs": [
    {
     "ename": "",
     "evalue": "",
     "output_type": "error",
     "traceback": [
      "\u001b[1;31mFailed to start the Kernel 'ENAPenv (Python 3.9.16)'. \n",
      "\u001b[1;31mView Jupyter <a href='command:jupyter.viewOutput'>log</a> for further details. Cannot find module './351.node.js'\n",
      "\u001b[1;31mRequire stack:\n",
      "\u001b[1;31m- c:\\Users\\henac\\.vscode\\extensions\\ms-toolsai.jupyter-2023.10.1100000000-win32-x64\\out\\extension.node.js\n",
      "\u001b[1;31m- c:\\Users\\henac\\AppData\\Local\\Programs\\Microsoft VS Code\\resources\\app\\out\\vs\\loader.js\n",
      "\u001b[1;31m- c:\\Users\\henac\\AppData\\Local\\Programs\\Microsoft VS Code\\resources\\app\\out\\bootstrap-amd.js\n",
      "\u001b[1;31m- c:\\Users\\henac\\AppData\\Local\\Programs\\Microsoft VS Code\\resources\\app\\out\\bootstrap-fork.js\n",
      "\u001b[1;31m-"
     ]
    }
   ],
   "source": [
    "from utility_functions import *"
   ]
  }
 ],
 "metadata": {
  "kernelspec": {
   "display_name": "ENAPenv",
   "language": "python",
   "name": "python3"
  },
  "language_info": {
   "name": "python",
   "version": "3.9.16"
  }
 },
 "nbformat": 4,
 "nbformat_minor": 2
}

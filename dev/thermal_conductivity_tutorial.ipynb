{
 "cells": [
  {
   "cell_type": "markdown",
   "metadata": {},
   "source": [
    "## Thermal Conductivity Fit Analysis\n",
    "### Developed by Henry Nachman\n",
    "#### Last Edited: 21 January 2024"
   ]
  },
  {
   "cell_type": "code",
   "execution_count": 1,
   "metadata": {},
   "outputs": [],
   "source": [
    "import numpy as np\n",
    "import matplotlib.pyplot as plt\n",
    "import pandas as pd\n",
    "import os\n",
    "import h5py\n",
    "import sys\n",
    "\n",
    "from utility_functions import *"
   ]
  },
  {
   "cell_type": "markdown",
   "metadata": {},
   "source": [
    "First, we need to find where all our RAW data is"
   ]
  },
  {
   "cell_type": "code",
   "execution_count": 2,
   "metadata": {},
   "outputs": [
    {
     "name": "stdout",
     "output_type": "stream",
     "text": [
      "Found 2 material directories: ['SS304', 'SS305']\n"
     ]
    }
   ],
   "source": [
    "os.chdir(f\"{sys.path[0]}\\\\FITS\")\n",
    "mat_directories = [x[0] for x in os.walk(os.getcwd())]\n",
    "mat_directories = [os.path.split(path)[-1] for path in mat_directories]\n",
    "mat_directories = mat_directories[1:]\n",
    "print(f\"Found {len(mat_directories)} material directories: {mat_directories}\")"
   ]
  },
  {
   "cell_type": "markdown",
   "metadata": {},
   "source": [
    "Next, we need to extract each file."
   ]
  },
  {
   "cell_type": "code",
   "execution_count": 3,
   "metadata": {},
   "outputs": [],
   "source": [
    "def get_datafiles(material_name):\n",
    "    all_files = os.listdir(material_name)\n",
    "    extension = \".csv\"\n",
    "    raw_files = [file for file in all_files if file.endswith(extension)]\n",
    "    print(f\"For material {material_name}, found {len(raw_files)} measurements.\")\n",
    "    return raw_files"
   ]
  },
  {
   "cell_type": "markdown",
   "metadata": {},
   "source": [
    "Now, we need to extract that data and store it in one central file."
   ]
  },
  {
   "cell_type": "code",
   "execution_count": 4,
   "metadata": {},
   "outputs": [],
   "source": [
    "def extract_RAW(material_name, raw_files):\n",
    "    file_name = f\"{material_name}.lh5\"\n",
    "    with h5py.File(file_name, \"w\") as material_file:\n",
    "            counter = 0\n",
    "            for raw_file in raw_files:\n",
    "                # print(raw_file)\n",
    "                file1 = np.loadtxt(f\"{material_name}/{raw_file}\", dtype=str, delimiter=',')\n",
    "                ref = file1[0,:]\n",
    "                ref_encode = [s.encode('utf-8') for s in ref]\n",
    "                headers = file1[1,:]\n",
    "                data_RAW = np.asarray(file1[2:,:], dtype=float)\n",
    "                group = material_file.create_group(f\"ref{counter}\")\n",
    "                ref_set = material_file[f\"ref{counter}\"].create_dataset(\"ref_info\", (3,), data=ref_encode)\n",
    "                raw_set = material_file[f\"ref{counter}\"].create_dataset(\"raw_data\", data=data_RAW)\n",
    "                counter += 1\n",
    "            print(f\"Material lh5 file has been saved with filename {file_name}\")"
   ]
  },
  {
   "cell_type": "markdown",
   "metadata": {},
   "source": [
    "For every one of the materials found above, we will make use of the above defined functions to create one compiled data file for each material."
   ]
  },
  {
   "cell_type": "code",
   "execution_count": 5,
   "metadata": {},
   "outputs": [
    {
     "name": "stdout",
     "output_type": "stream",
     "text": [
      "For material SS304, found 8 measurements.\n",
      "Material lh5 file has been saved with filename SS304.lh5\n",
      "For material SS305, found 2 measurements.\n",
      "Material lh5 file has been saved with filename SS305.lh5\n"
     ]
    }
   ],
   "source": [
    "for mat in mat_directories:\n",
    "    files_list = get_datafiles(mat)\n",
    "    extract_RAW(mat, files_list)"
   ]
  },
  {
   "cell_type": "markdown",
   "metadata": {},
   "source": [
    "Now that we have compiled data files, lets do something with that data.\n",
    "\n",
    "First, we need to find those files we just created."
   ]
  },
  {
   "cell_type": "code",
   "execution_count": 6,
   "metadata": {},
   "outputs": [
    {
     "name": "stdout",
     "output_type": "stream",
     "text": [
      "['SS304', 'SS304.lh5', 'SS305', 'SS305.lh5']\n",
      "Found 2, lh5 material files: ['SS304', 'SS305']\n"
     ]
    }
   ],
   "source": [
    "all_files = os.listdir(f\"{os.getcwd()}\")\n",
    "print(all_files)\n",
    "extension = \".lh5\"\n",
    "raw_files = [file for file in all_files if file.endswith(extension)]\n",
    "raw_names = [os.path.splitext(name)[0] for name in raw_files]\n",
    "print(f\"Found {len(raw_names)}, lh5 material files: {raw_names}\")"
   ]
  },
  {
   "cell_type": "markdown",
   "metadata": {},
   "source": [
    "Let's grab all the data from each individual measurement, and group it all together."
   ]
  },
  {
   "cell_type": "code",
   "execution_count": 7,
   "metadata": {},
   "outputs": [],
   "source": [
    "def compile_measurements(material_name, plots=False):\n",
    "    with h5py.File(f\"{material_name}.lh5\", \"r\") as f:\n",
    "            if plots:\n",
    "                 fig, axs = plt.subplots(2, 2, figsize=(8, 6))\n",
    "            big_data = np.empty((3,))\n",
    "            for key in f.keys():\n",
    "                big_data = np.vstack((big_data, np.array(f[f\"{key}/raw_data\"])))\n",
    "                T   = np.array(f[f\"{key}/raw_data\"])[:,0]\n",
    "                k   = np.array(f[f\"{key}/raw_data\"])[:,1]\n",
    "                koT = np.array(f[f\"{key}/raw_data\"])[:,2]\n",
    "                if plots:\n",
    "                    axs[0, 0].plot(T, k, '.', label=key)\n",
    "                    axs[0, 1].plot(T, koT, '.', label=key)\n",
    "                    axs[1, 0].plot(np.log10(T), np.log10(k),'.')\n",
    "                    axs[1, 1].plot(np.log10(T), np.log10(koT),'.')\n",
    "            \n",
    "            if plots:\n",
    "                axs[0,0].set_xlabel(\"T\")\n",
    "                axs[0,0].set_ylabel(\"k\")\n",
    "                axs[0,1].set_xlabel(\"T\")\n",
    "                axs[0,1].set_ylabel(\"k/T\")\n",
    "                axs[1,0].set_xlabel(\"log10(T)\")\n",
    "                axs[1,0].set_ylabel(\"log10(k)\")\n",
    "                axs[1,1].set_xlabel(\"log10(T)\")\n",
    "                axs[1,1].set_ylabel(\"log10(k/T)\")\n",
    "\n",
    "                plt.subplots_adjust(wspace=0.4, hspace=0.4)\n",
    "                axs[0,1].legend(loc='center right', bbox_to_anchor=(1.5, 0.5))\n",
    "                plt.show()\n",
    "            big_data = big_data[2:,:]\n",
    "    return big_data"
   ]
  },
  {
   "cell_type": "markdown",
   "metadata": {},
   "source": [
    "Now, for each material, we will fit the data. \n",
    "The fitting works by first splitting the data at a specified temperature value (thresh),\n",
    "\n",
    "For low T the fit is between: T vs k/T\n",
    "\n",
    "for high T the fit is between: log10(T) vs log10(k)"
   ]
  },
  {
   "cell_type": "code",
   "execution_count": 8,
   "metadata": {},
   "outputs": [],
   "source": [
    "def fit_thermal_conductivity(big_data, thresh = 20, fit_orders = (2,3), fit_types=(\"k/T\", \"loglog\"), plots=False):\n",
    "    # thresh     : 20    : The temperature threshold to split low and high data   \n",
    "    # fit_orders : (2,3) : The polynomial order for the low and high fits respectively\n",
    "\n",
    "    # divide the data array into three columns\n",
    "    T = big_data[:,0]\n",
    "    k = big_data[:,1]\n",
    "    koT = big_data[:,2]\n",
    "\n",
    "    # Set a temperature threshold for split between hi and low fits\n",
    "    thresh = 20 # in K\n",
    "\n",
    "    # Find the low range\n",
    "    lowT = T[T<thresh]\n",
    "    lowT_k = k[T<thresh]\n",
    "    lowT_koT = koT[T<thresh]\n",
    "\n",
    "    # Find the high range\n",
    "    hiT = T[T>thresh]\n",
    "    hiT_k = k[T>thresh]\n",
    "    # Take a log10 of the high range\n",
    "    log_hi_T = np.log10(hiT)\n",
    "    log_hi_k = np.log10(hiT_k)\n",
    "\n",
    "    # Fit the low data\n",
    "    if fit_types[0] == \"k/T\":\n",
    "        low_fit = np.polyfit(lowT, lowT_koT, fit_orders[0])\n",
    "        low_fit_xs = np.linspace(np.min(lowT), np.max(lowT), 100)\n",
    "        low_poly1d = np.poly1d(low_fit)\n",
    "\n",
    "\n",
    "    # Fit the high data\n",
    "    if fit_types[1] == \"loglog\":\n",
    "        hi_fit = np.polyfit(log_hi_T, log_hi_k, fit_orders[1])\n",
    "        hi_fit_xs = np.linspace(np.min(log_hi_T), np.max(log_hi_T), 100)\n",
    "        hi_poly1d = np.poly1d(hi_fit)\n",
    "\n",
    "\n",
    "    if plots:\n",
    "        fig, axs = plt.subplots(2, figsize=(8, 6))\n",
    "        axs[0].plot(lowT, lowT_koT,'.')\n",
    "        axs[0].plot(low_fit_xs, np.polyval(low_fit, low_fit_xs))\n",
    "        axs[0].set_xlabel(\"T\")\n",
    "        axs[0].set_ylabel(\"k/T\")\n",
    "        axs[0].title.set_text(\"Low Temperature Fit\")\n",
    "        # axs[1].plot(hi_fit_xs, np.polyval(hi_fit, hi_fit_xs))\n",
    "        # axs[1].plot(log_hi_T, log_hi_k, '.')\n",
    "        axs[1].loglog(10**hi_fit_xs, 10**np.polyval(hi_fit, hi_fit_xs))\n",
    "        axs[1].loglog(hiT, hiT_k, '.')\n",
    "        axs[1].grid(True, which=\"both\", ls=\"-\", color='0.65')\n",
    "        axs[1].set_ylabel(\"k\")\n",
    "        axs[1].set_xlabel(\"T\")\n",
    "        axs[1].title.set_text(\"High Temperature Fit\")\n",
    "        plt.subplots_adjust(wspace=0.4, hspace=0.4)\n",
    "        plt.show()\n",
    "        \n",
    "    low_func = f\"{fit_orders[0]} order {fit_types[0]}\"\n",
    "    hi_func = f\"{fit_orders[1]} order {fit_types[1]}\"\n",
    "    return [low_func, low_fit, hi_func, hi_fit, thresh, max(hiT)]\n"
   ]
  },
  {
   "cell_type": "markdown",
   "metadata": {},
   "source": [
    "While we are at it, we want a way to be able to save all the new fits into one nice file we can reference later. Note, this function references functions defined in the utility file."
   ]
  },
  {
   "cell_type": "code",
   "execution_count": 9,
   "metadata": {},
   "outputs": [],
   "source": [
    "def save_tc_lh5file(material_args):\n",
    "    os.chdir(os.path.split(os.getcwd())[0])\n",
    "    comp_file = \"ThermalConductivityFits.lh5\"\n",
    "    with h5py.File(comp_file, \"w\") as f:\n",
    "        for i in range(len(material_args)):\n",
    "            [low_fits, low_params, hi_fits, hi_params, thresholds, hiTs, material_names] = material_args[i]\n",
    "            f.create_group(f\"{material_names}\")\n",
    "            f[f\"{material_names}\"].create_group(\"low_fit\")\n",
    "            f[f\"{material_names}\"].create_group(\"hi_fit\")\n",
    "            # low_fit_print = f\"\\n%s\" %low_fits\n",
    "            # hi_fit_print = f\"\\n%s\" %hi_fits\n",
    "            f[f\"{material_names}/low_fit\"].create_dataset(\"fit_function\", data=low_fits)\n",
    "            f[f\"{material_names}/low_fit\"].create_dataset(\"fit_params\", data=low_params)\n",
    "            f[f\"{material_names}/low_fit\"].create_dataset(\"fit_range\", data=[0,thresholds])\n",
    "            f[f\"{material_names}/hi_fit\"].create_dataset(\"fit_function\", data=hi_fits)\n",
    "            f[f\"{material_names}/hi_fit\"].create_dataset(\"fit_params\", data=hi_params)\n",
    "            f[f\"{material_names}/hi_fit\"].create_dataset(\"fit_range\", data=[thresholds, hiTs])\n",
    "    os.chdir(f\"{os.getcwd()}\\\\FITS\")\n",
    "\n",
    "def lh5_to_txt(lh5_file):\n",
    "    os.chdir(os.path.split(os.getcwd())[0])\n",
    "    comp_file = \"ThermalConductivityFits.txt\"\n",
    "    f = open(comp_file, \"w\")\n",
    "\n",
    "def save_tc_txtfile(material_args):\n",
    "    os.chdir(os.path.split(os.getcwd())[0])\n",
    "    comp_file = \"ThermalConductivityFits.txt\"\n",
    "    f = open(comp_file, \"w\")\n",
    "    for i in range(len(material_args)):\n",
    "        [low_fits, hi_fits, thresholds, hiTs, material_names] = material_args[i]\n",
    "        f.write(f\"{material_names}\\n\")\n",
    "        f.write(\"low_fit\\n\")\n",
    "        f.write(f\"fit_param {low_fits}\\n\")\n",
    "        f.write(f\"fit_range: {[0,thresholds]}\\n\")\n",
    "        f.write(\"hi_fit\\n\")\n",
    "        f.write(f\"fit_function {hi_fits}\\n\")\n",
    "        f.write(f\"fit_range: {[thresholds, hiTs]}\\n\")\n",
    "        f.write(\"\\n\")\n",
    "    os.chdir(f\"{os.getcwd()}\\\\FITS\")"
   ]
  },
  {
   "cell_type": "markdown",
   "metadata": {},
   "source": [
    "Let's run those functions"
   ]
  },
  {
   "cell_type": "code",
   "execution_count": 10,
   "metadata": {},
   "outputs": [
    {
     "data": {
      "image/png": "[encoded data removed]",
      "text/plain": [
       "<Figure size 576x432 with 4 Axes>"
      ]
     },
     "metadata": {
      "needs_background": "light"
     },
     "output_type": "display_data"
    },
    {
     "data": {
      "image/png": "[encoded data removed]",
      "text/plain": [
       "<Figure size 576x432 with 2 Axes>"
      ]
     },
     "metadata": {
      "needs_background": "light"
     },
     "output_type": "display_data"
    },
    {
     "data": {
      "image/png": "[encoded data removed]",
      "text/plain": [
       "<Figure size 576x432 with 4 Axes>"
      ]
     },
     "metadata": {
      "needs_background": "light"
     },
     "output_type": "display_data"
    },
    {
     "data": {
      "image/png": "[encoded data removed]",
      "text/plain": [
       "<Figure size 576x432 with 2 Axes>"
      ]
     },
     "metadata": {
      "needs_background": "light"
     },
     "output_type": "display_data"
    }
   ],
   "source": [
    "material_arguments = np.empty((len(raw_names),), dtype=object) #np.empty((5,), dtype=object)\n",
    "for i in range(len(raw_names)):\n",
    "    mat = raw_names[i]\n",
    "    big_data = compile_measurements(mat, plots=True)\n",
    "    ref_vals = fit_thermal_conductivity(big_data, thresh = 20, fit_orders = (2,3), plots=True)\n",
    "    ref_vals = np.array(ref_vals, dtype=object)\n",
    "    ref_vals = np.append(ref_vals, mat)\n",
    "    material_arguments[i] = ref_vals\n",
    "\n",
    "save_tc_lh5file(material_arguments)\n",
    "# save_tc_txtfile(material_arguments)"
   ]
  },
  {
   "cell_type": "code",
   "execution_count": 14,
   "metadata": {},
   "outputs": [
    {
     "name": "stdout",
     "output_type": "stream",
     "text": [
      "c:\\Users\\henac\\OneDrive - The University of Texas at Austin\\01_RESEARCH\\05_CMBS4\\Cryogenic_material_Properties\\dev\n",
      "['//SS304', '/SS304/hi_fit', '/SS304/hi_fit/fit_function', '/SS304/hi_fit/fit_params', '/SS304/hi_fit/fit_range', '/SS304/low_fit', '/SS304/low_fit/fit_function', '/SS304/low_fit/fit_params', '/SS304/low_fit/fit_range', '//SS305', '/SS305/hi_fit', '/SS305/hi_fit/fit_function', '/SS305/hi_fit/fit_params', '/SS305/hi_fit/fit_range', '/SS305/low_fit', '/SS305/low_fit/fit_function', '/SS305/low_fit/fit_params', '/SS305/low_fit/fit_range']\n"
     ]
    }
   ],
   "source": [
    "open_file = \"ThermalConductivityFits.lh5\"\n",
    "\n",
    "with h5py.File(open_file, 'r') as f:\n",
    "    keys = openGroup(f, [])\n",
    "    comp_file = \"ThermalConductivityFits.txt\"\n",
    "    sf = open(comp_file, \"w\")\n",
    "    for key in keys:\n",
    "        # print(key)\n",
    "        arr = np.array(f[f\"{key}\"])\n",
    "        sf.write(key)\n",
    "        sf.write(\"\\n    \")\n",
    "        sf.write(str(arr))\n",
    "        sf.write(\"\\n        \")\n",
    "        sf.write(\"\\n\")\n",
    "        \n",
    "print(keys)\n",
    "os.chdir(f\"{os.getcwd()}\\\\FITS\")"
   ]
  },
  {
   "cell_type": "code",
   "execution_count": 12,
   "metadata": {},
   "outputs": [
    {
     "name": "stdout",
     "output_type": "stream",
     "text": [
      "c:\\Users\\henac\\OneDrive - The University of Texas at Austin\\01_RESEARCH\\05_CMBS4\\Cryogenic_material_Properties\\dev\\FITS\n",
      "ref0\n",
      "['Reference correlations for the thermal conductivity of solid BK7 - PMMA - Pyrex 7740 - Pyroceram 9606 and SS304'\n",
      " 'K.D. Antoniadis - A. Tyrou - M.J. Assael - X. Li - J. Wu - and H.P. Ebert'\n",
      " 'International Journal of Thermophysics 41:98 (2020) 35 pages ']\n",
      "[[2.93000000e+02 1.43148226e+01 4.88560500e-02]\n",
      " [3.00000000e+02 1.44285189e+01 4.80950630e-02]\n",
      " [3.20000000e+02 1.47518386e+01 4.60994960e-02]\n",
      " [3.40000000e+02 1.50769931e+01 4.43440970e-02]\n",
      " [3.60000000e+02 1.54081998e+01 4.28005550e-02]\n",
      " [3.80000000e+02 1.57484669e+01 4.14433340e-02]\n",
      " [4.00000000e+02 1.60995942e+01 4.02489860e-02]\n",
      " [4.20000000e+02 1.64621725e+01 3.91956490e-02]\n",
      " [4.40000000e+02 1.68355837e+01 3.82626900e-02]\n",
      " [4.60000000e+02 1.72180011e+01 3.74304370e-02]\n",
      " [4.80000000e+02 1.76063891e+01 3.66799770e-02]\n",
      " [5.00000000e+02 1.79965033e+01 3.59930070e-02]\n",
      " [5.20000000e+02 1.83828906e+01 3.53517130e-02]\n",
      " [5.40000000e+02 1.87588890e+01 3.47386830e-02]\n",
      " [5.46000000e+02 1.88685177e+01 3.45577250e-02]]\n",
      "\n",
      "\n",
      "---\n",
      "\n",
      "\n",
      "ref1\n",
      "['Thermal conductivity of some steels at low temperature'\n",
      " 'M.S.R. Chari and J. De Nobel' 'Physica 25 (1959) pp. 73-83']\n",
      "[[ 1.843       0.125       0.0678242 ]\n",
      " [ 2.5         0.175       0.07      ]\n",
      " [ 2.535       0.182       0.07179487]\n",
      " [ 2.93        0.217       0.07406143]\n",
      " [ 3.026       0.199       0.06576338]\n",
      " [ 3.35        0.241       0.0719403 ]\n",
      " [ 3.434       0.235       0.06843331]\n",
      " [ 3.702       0.264       0.0713128 ]\n",
      " [ 3.884       0.28        0.07209063]\n",
      " [ 4.004       0.311       0.07767233]\n",
      " [15.16        1.46        0.09630607]\n",
      " [15.31        1.59        0.10385369]\n",
      " [16.29        1.6         0.09821977]\n",
      " [16.41        1.63        0.09932968]\n",
      " [17.08        1.64        0.09601873]\n",
      " [17.1         1.68        0.09824561]\n",
      " [18.68        1.92        0.10278373]\n",
      " [19.82        2.08        0.1049445 ]\n",
      " [19.83        2.01        0.10136157]]\n",
      "\n",
      "\n",
      "---\n",
      "\n",
      "\n",
      "ref2\n",
      "['Thermal conductivity and electrical resistivity of eight selected AISI stainless steels'\n",
      " 'T.K. Chu and C.Y. Ho'\n",
      " '\"Proc. 15th Thermal Conductivity Conf. Plenum Press New York (1977) pp. 79-104\"']\n",
      "[[5.0000000e+02 1.8280000e+01 3.6560000e-02]\n",
      " [6.0000000e+02 1.9770000e+01 3.2950000e-02]\n",
      " [7.0000000e+02 2.1210000e+01 3.0300000e-02]\n",
      " [8.0000000e+02 2.2590000e+01 2.8237500e-02]\n",
      " [9.0000000e+02 2.3990000e+01 2.6655556e-02]\n",
      " [1.0000000e+03 2.5330000e+01 2.5330000e-02]\n",
      " [1.1000000e+03 2.6580000e+01 2.4163636e-02]\n",
      " [1.2000000e+03 2.7810000e+01 2.3175000e-02]\n",
      " [1.3000000e+03 2.9180000e+01 2.2446154e-02]\n",
      " [1.4000000e+03 3.0340000e+01 2.1671429e-02]\n",
      " [1.5000000e+03 3.1550000e+01 2.1033333e-02]\n",
      " [1.6000000e+03 3.2700000e+01 2.0437500e-02]\n",
      " [1.6720000e+03 3.3530000e+01 2.0053828e-02]]\n",
      "\n",
      "\n",
      "---\n",
      "\n",
      "\n",
      "ref3\n",
      "['Commercial apparatus for measuring transport properties from 1.9 to 390 K'\n",
      " '\"N.R. Dilley - R.C. Black - L. Montes - A. Wilson - and M.B. Simmonds\"'\n",
      " 'Mat. Res. Soc. Symp. Proc. 691 (2002) pp. G3.5.1 to G3.5.6']\n",
      "[[2.12340000e+00 1.55942496e-01 7.34400000e-02]\n",
      " [3.36640000e+00 2.76924529e-01 8.22613260e-02]\n",
      " [4.69240000e+00 4.21514058e-01 8.98290980e-02]\n",
      " [5.66870000e+00 5.29838651e-01 9.34674000e-02]\n",
      " [7.16050000e+00 6.76538575e-01 9.44820300e-02]\n",
      " [8.80160000e+00 8.78607643e-01 9.98236280e-02]\n",
      " [1.02990000e+01 1.05324129e+00 1.02266365e-01]\n",
      " [1.17320000e+01 1.24423872e+00 1.06055124e-01]\n",
      " [1.27640000e+01 1.37831927e+00 1.07984900e-01]\n",
      " [1.37970000e+01 1.53167823e+00 1.11015310e-01]\n",
      " [1.47780000e+01 1.66546596e+00 1.12699009e-01]\n",
      " [1.57820000e+01 1.80055058e+00 1.14088872e-01]\n",
      " [1.68020000e+01 1.94218461e+00 1.15592466e-01]\n",
      " [1.78580000e+01 2.09231211e+00 1.17163854e-01]\n",
      " [1.89640000e+01 2.21880349e+00 1.17000817e-01]\n",
      " [2.01170000e+01 2.38536686e+00 1.18574681e-01]\n",
      " [2.13750000e+01 2.56412408e+00 1.19959021e-01]\n",
      " [2.27640000e+01 2.74710187e+00 1.20677467e-01]\n",
      " [2.43120000e+01 2.95891370e+00 1.21705894e-01]\n",
      " [2.60490000e+01 3.19478428e+00 1.22645179e-01]\n",
      " [2.80270000e+01 3.46698872e+00 1.23701742e-01]\n",
      " [3.03200000e+01 3.74763128e+00 1.23602615e-01]\n",
      " [3.30500000e+01 4.06831026e+00 1.23095620e-01]\n",
      " [3.64060000e+01 4.48866668e+00 1.23294695e-01]\n",
      " [4.04500000e+01 4.97675070e+00 1.23034628e-01]\n",
      " [4.54360000e+01 5.48089109e+00 1.20628820e-01]\n",
      " [5.18800000e+01 6.06723324e+00 1.16947441e-01]\n",
      " [5.97470000e+01 6.69518154e+00 1.12058874e-01]\n",
      " [6.96090000e+01 7.46101958e+00 1.07184697e-01]\n",
      " [8.28580000e+01 8.25094252e+00 9.95793110e-02]\n",
      " [9.84390000e+01 8.99177452e+00 9.13436190e-02]\n",
      " [1.14450000e+02 9.59941575e+00 8.38743180e-02]\n",
      " [1.29950000e+02 1.01692532e+01 7.82551230e-02]\n",
      " [1.45640000e+02 1.06505914e+01 7.31295760e-02]\n",
      " [1.61200000e+02 1.10565510e+01 6.85890260e-02]\n",
      " [1.76840000e+02 1.14491488e+01 6.47429810e-02]\n",
      " [1.92430000e+02 1.19671025e+01 6.21893810e-02]\n",
      " [2.08070000e+02 1.21939560e+01 5.86050660e-02]\n",
      " [2.23690000e+02 1.26214898e+01 5.64240230e-02]\n",
      " [2.39320000e+02 1.29882452e+01 5.42714580e-02]\n",
      " [2.54940000e+02 1.33205669e+01 5.22498110e-02]\n",
      " [2.70570000e+02 1.36988379e+01 5.06295520e-02]\n",
      " [2.86230000e+02 1.38134227e+01 4.82598700e-02]\n",
      " [3.01950000e+02 1.42778150e+01 4.72853620e-02]\n",
      " [3.17490000e+02 1.45238530e+01 4.57458600e-02]\n",
      " [3.33060000e+02 1.47471491e+01 4.42777550e-02]\n",
      " [3.48970000e+02 1.55095083e+01 4.44436720e-02]\n",
      " [3.64510000e+02 1.60261278e+01 4.39662230e-02]\n",
      " [3.70020000e+02 1.63000000e+01 4.40516730e-02]]\n",
      "\n",
      "\n",
      "---\n",
      "\n",
      "\n",
      "ref4\n",
      "['Guarded double-cylinder apparatus for determining thermal conductivities from 80 to 860 K'\n",
      " 'E. Moeller'\n",
      " '\"Proc. 8th Thermal Conductivity Conf. Plenum Press New York (1969) pp. 701-711\"']\n",
      "[[8.04000000e+01 8.50000000e+00 1.05721393e-01]\n",
      " [8.18000000e+01 8.60000000e+00 1.05134474e-01]\n",
      " [1.96000000e+02 1.28000000e+01 6.53061220e-02]\n",
      " [2.69000000e+02 1.43000000e+01 5.31598510e-02]\n",
      " [2.69600000e+02 1.43000000e+01 5.30415430e-02]\n",
      " [3.02000000e+02 1.48800000e+01 4.92715230e-02]\n",
      " [3.04000000e+02 1.44300000e+01 4.74671050e-02]\n",
      " [5.75000000e+02 1.97400000e+01 3.43304350e-02]\n",
      " [8.65000000e+02 2.35300000e+01 2.72023120e-02]\n",
      " [8.71000000e+02 2.33100000e+01 2.67623420e-02]]\n",
      "\n",
      "\n",
      "---\n",
      "\n",
      "\n",
      "ref5\n",
      "['The thermal conductivity of metals and alloys at low temperatures II. Data on iron and steels between 25 and 300 K'\n",
      " '\"R.W. Powers - J.B. Ziegler - and H. L. Johnston\"'\n",
      " 'U.S. Air Force Rept. USAF TR-264-6 (1951)']\n",
      "[[2.67400000e+01 2.80000000e+00 1.04712042e-01]\n",
      " [4.03400000e+01 4.73000000e+00 1.17253347e-01]\n",
      " [5.51800000e+01 6.69000000e+00 1.21239580e-01]\n",
      " [6.99600000e+01 7.78000000e+00 1.11206404e-01]\n",
      " [8.72800000e+01 8.70000000e+00 9.96791930e-02]\n",
      " [1.04920000e+02 9.70000000e+00 9.24513920e-02]\n",
      " [1.25060000e+02 1.07000000e+01 8.55589320e-02]\n",
      " [1.44810000e+02 1.14000000e+01 7.87238450e-02]\n",
      " [1.65150000e+02 1.21000000e+01 7.32667270e-02]\n",
      " [2.06640000e+02 1.32000000e+01 6.38792100e-02]\n",
      " [2.20020000e+02 1.35000000e+01 6.13580580e-02]\n",
      " [2.35130000e+02 1.40000000e+01 5.95415300e-02]\n",
      " [2.50100000e+02 1.44000000e+01 5.75769690e-02]]\n",
      "\n",
      "\n",
      "---\n",
      "\n",
      "\n",
      "ref6\n",
      "['Thermal conductivity of selected alloys at low temperatues'\n",
      " '\"R.P. Tye - R.W. Hayden - and S.C. Spinney\"'\n",
      " 'Adv. Cryog. Eng. Vol. 22 (1975) pp. 136-144']\n",
      "[[1.0000000e+02 9.0000000e+00 9.0000000e-02]\n",
      " [1.5000000e+02 1.1200000e+01 7.4666667e-02]\n",
      " [2.0000000e+02 1.2700000e+01 6.3500000e-02]\n",
      " [2.5000000e+02 1.3900000e+01 5.5600000e-02]\n",
      " [3.0000000e+02 1.4900000e+01 4.9666667e-02]\n",
      " [4.0000000e+02 1.6600000e+01 4.1500000e-02]\n",
      " [5.0000000e+02 1.8400000e+01 3.6800000e-02]\n",
      " [6.0000000e+02 2.0200000e+01 3.3666667e-02]\n",
      " [7.0000000e+02 2.1800000e+01 3.1142857e-02]]\n",
      "\n",
      "\n",
      "---\n",
      "\n",
      "\n",
      "ref7\n",
      "['Magnetic and thermal properties of some austenitic stainless steels at low temperatures'\n",
      " 'W. Stutius and J.R. Dillinger' 'J. Appl. Phys. 44 (1973) pp. 2887-2888']\n",
      "[[0.3846     0.0263308  0.06846864]\n",
      " [0.4457     0.03449273 0.07739268]\n",
      " [0.5289     0.04050128 0.07658064]\n",
      " [0.598      0.0475717  0.0795518 ]\n",
      " [0.7009     0.0539436  0.0769667 ]\n",
      " [0.8588     0.06558046 0.07636371]\n",
      " [1.0136     0.07802354 0.07697803]\n",
      " [1.2532     0.09402385 0.07502939]\n",
      " [1.474      0.10755126 0.07296765]\n",
      " [1.6818     0.12251298 0.07284789]]\n",
      "\n",
      "\n",
      "---\n",
      "\n",
      "\n"
     ]
    }
   ],
   "source": [
    "def printname(name):\n",
    "    print(name)\n",
    "\n",
    "open_file = \"SS304.lh5\"\n",
    "print(os.getcwd())\n",
    "with h5py.File(open_file, \"r\") as f:\n",
    "    # print(f.visit(printname))\n",
    "    for ref in f.keys():\n",
    "        print(ref)\n",
    "        refinfo = np.array(f[f\"{ref}/ref_info\"], dtype=str)\n",
    "        data = np.array(f[f\"{ref}/raw_data\"])\n",
    "        print(refinfo)\n",
    "        print(data)\n",
    "        print(\"\\n\")\n",
    "        print(\"---\")\n",
    "        print(\"\\n\")"
   ]
  },
  {
   "cell_type": "code",
   "execution_count": null,
   "metadata": {},
   "outputs": [],
   "source": []
  }
 ],
 "metadata": {
  "kernelspec": {
   "display_name": "ENAPenv",
   "language": "python",
   "name": "python3"
  },
  "language_info": {
   "codemirror_mode": {
    "name": "ipython",
    "version": 3
   },
   "file_extension": ".py",
   "mimetype": "text/x-python",
   "name": "python",
   "nbconvert_exporter": "python",
   "pygments_lexer": "ipython3",
   "version": "3.10.4"
  }
 },
 "nbformat": 4,
 "nbformat_minor": 2
}
